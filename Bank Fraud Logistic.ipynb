{
 "cells": [
  {
   "cell_type": "code",
   "execution_count": 2,
   "metadata": {},
   "outputs": [],
   "source": [
    "#Importing main library"
   ]
  },
  {
   "cell_type": "code",
   "execution_count": 3,
   "metadata": {},
   "outputs": [],
   "source": [
    "import pandas as pd\n",
    "import numpy as np\n",
    "import seaborn as sns\n",
    "import matplotlib.pyplot as plt"
   ]
  },
  {
   "cell_type": "code",
   "execution_count": 4,
   "metadata": {},
   "outputs": [],
   "source": [
    "data = pd.read_csv(\"D:\\Study\\BA\\TEST\\creditcard.csv\")"
   ]
  },
  {
   "cell_type": "code",
   "execution_count": 5,
   "metadata": {},
   "outputs": [],
   "source": [
    "#looking into the data"
   ]
  },
  {
   "cell_type": "code",
   "execution_count": 6,
   "metadata": {},
   "outputs": [
    {
     "data": {
      "text/html": [
       "<div>\n",
       "<style scoped>\n",
       "    .dataframe tbody tr th:only-of-type {\n",
       "        vertical-align: middle;\n",
       "    }\n",
       "\n",
       "    .dataframe tbody tr th {\n",
       "        vertical-align: top;\n",
       "    }\n",
       "\n",
       "    .dataframe thead th {\n",
       "        text-align: right;\n",
       "    }\n",
       "</style>\n",
       "<table border=\"1\" class=\"dataframe\">\n",
       "  <thead>\n",
       "    <tr style=\"text-align: right;\">\n",
       "      <th></th>\n",
       "      <th>Time</th>\n",
       "      <th>V1</th>\n",
       "      <th>V2</th>\n",
       "      <th>V3</th>\n",
       "      <th>V4</th>\n",
       "      <th>V5</th>\n",
       "      <th>V6</th>\n",
       "      <th>V7</th>\n",
       "      <th>V8</th>\n",
       "      <th>V9</th>\n",
       "      <th>...</th>\n",
       "      <th>V21</th>\n",
       "      <th>V22</th>\n",
       "      <th>V23</th>\n",
       "      <th>V24</th>\n",
       "      <th>V25</th>\n",
       "      <th>V26</th>\n",
       "      <th>V27</th>\n",
       "      <th>V28</th>\n",
       "      <th>Amount</th>\n",
       "      <th>Class</th>\n",
       "    </tr>\n",
       "  </thead>\n",
       "  <tbody>\n",
       "    <tr>\n",
       "      <th>count</th>\n",
       "      <td>284807.000000</td>\n",
       "      <td>2.848070e+05</td>\n",
       "      <td>2.848070e+05</td>\n",
       "      <td>2.848070e+05</td>\n",
       "      <td>2.848070e+05</td>\n",
       "      <td>2.848070e+05</td>\n",
       "      <td>2.848070e+05</td>\n",
       "      <td>2.848070e+05</td>\n",
       "      <td>2.848070e+05</td>\n",
       "      <td>2.848070e+05</td>\n",
       "      <td>...</td>\n",
       "      <td>2.848070e+05</td>\n",
       "      <td>2.848070e+05</td>\n",
       "      <td>2.848070e+05</td>\n",
       "      <td>2.848070e+05</td>\n",
       "      <td>2.848070e+05</td>\n",
       "      <td>2.848070e+05</td>\n",
       "      <td>2.848070e+05</td>\n",
       "      <td>2.848070e+05</td>\n",
       "      <td>284807.000000</td>\n",
       "      <td>284807.000000</td>\n",
       "    </tr>\n",
       "    <tr>\n",
       "      <th>mean</th>\n",
       "      <td>94813.859575</td>\n",
       "      <td>3.919560e-15</td>\n",
       "      <td>5.688174e-16</td>\n",
       "      <td>-8.769071e-15</td>\n",
       "      <td>2.782312e-15</td>\n",
       "      <td>-1.552563e-15</td>\n",
       "      <td>2.010663e-15</td>\n",
       "      <td>-1.694249e-15</td>\n",
       "      <td>-1.927028e-16</td>\n",
       "      <td>-3.137024e-15</td>\n",
       "      <td>...</td>\n",
       "      <td>1.537294e-16</td>\n",
       "      <td>7.959909e-16</td>\n",
       "      <td>5.367590e-16</td>\n",
       "      <td>4.458112e-15</td>\n",
       "      <td>1.453003e-15</td>\n",
       "      <td>1.699104e-15</td>\n",
       "      <td>-3.660161e-16</td>\n",
       "      <td>-1.206049e-16</td>\n",
       "      <td>88.349619</td>\n",
       "      <td>0.001727</td>\n",
       "    </tr>\n",
       "    <tr>\n",
       "      <th>std</th>\n",
       "      <td>47488.145955</td>\n",
       "      <td>1.958696e+00</td>\n",
       "      <td>1.651309e+00</td>\n",
       "      <td>1.516255e+00</td>\n",
       "      <td>1.415869e+00</td>\n",
       "      <td>1.380247e+00</td>\n",
       "      <td>1.332271e+00</td>\n",
       "      <td>1.237094e+00</td>\n",
       "      <td>1.194353e+00</td>\n",
       "      <td>1.098632e+00</td>\n",
       "      <td>...</td>\n",
       "      <td>7.345240e-01</td>\n",
       "      <td>7.257016e-01</td>\n",
       "      <td>6.244603e-01</td>\n",
       "      <td>6.056471e-01</td>\n",
       "      <td>5.212781e-01</td>\n",
       "      <td>4.822270e-01</td>\n",
       "      <td>4.036325e-01</td>\n",
       "      <td>3.300833e-01</td>\n",
       "      <td>250.120109</td>\n",
       "      <td>0.041527</td>\n",
       "    </tr>\n",
       "    <tr>\n",
       "      <th>min</th>\n",
       "      <td>0.000000</td>\n",
       "      <td>-5.640751e+01</td>\n",
       "      <td>-7.271573e+01</td>\n",
       "      <td>-4.832559e+01</td>\n",
       "      <td>-5.683171e+00</td>\n",
       "      <td>-1.137433e+02</td>\n",
       "      <td>-2.616051e+01</td>\n",
       "      <td>-4.355724e+01</td>\n",
       "      <td>-7.321672e+01</td>\n",
       "      <td>-1.343407e+01</td>\n",
       "      <td>...</td>\n",
       "      <td>-3.483038e+01</td>\n",
       "      <td>-1.093314e+01</td>\n",
       "      <td>-4.480774e+01</td>\n",
       "      <td>-2.836627e+00</td>\n",
       "      <td>-1.029540e+01</td>\n",
       "      <td>-2.604551e+00</td>\n",
       "      <td>-2.256568e+01</td>\n",
       "      <td>-1.543008e+01</td>\n",
       "      <td>0.000000</td>\n",
       "      <td>0.000000</td>\n",
       "    </tr>\n",
       "    <tr>\n",
       "      <th>25%</th>\n",
       "      <td>54201.500000</td>\n",
       "      <td>-9.203734e-01</td>\n",
       "      <td>-5.985499e-01</td>\n",
       "      <td>-8.903648e-01</td>\n",
       "      <td>-8.486401e-01</td>\n",
       "      <td>-6.915971e-01</td>\n",
       "      <td>-7.682956e-01</td>\n",
       "      <td>-5.540759e-01</td>\n",
       "      <td>-2.086297e-01</td>\n",
       "      <td>-6.430976e-01</td>\n",
       "      <td>...</td>\n",
       "      <td>-2.283949e-01</td>\n",
       "      <td>-5.423504e-01</td>\n",
       "      <td>-1.618463e-01</td>\n",
       "      <td>-3.545861e-01</td>\n",
       "      <td>-3.171451e-01</td>\n",
       "      <td>-3.269839e-01</td>\n",
       "      <td>-7.083953e-02</td>\n",
       "      <td>-5.295979e-02</td>\n",
       "      <td>5.600000</td>\n",
       "      <td>0.000000</td>\n",
       "    </tr>\n",
       "    <tr>\n",
       "      <th>50%</th>\n",
       "      <td>84692.000000</td>\n",
       "      <td>1.810880e-02</td>\n",
       "      <td>6.548556e-02</td>\n",
       "      <td>1.798463e-01</td>\n",
       "      <td>-1.984653e-02</td>\n",
       "      <td>-5.433583e-02</td>\n",
       "      <td>-2.741871e-01</td>\n",
       "      <td>4.010308e-02</td>\n",
       "      <td>2.235804e-02</td>\n",
       "      <td>-5.142873e-02</td>\n",
       "      <td>...</td>\n",
       "      <td>-2.945017e-02</td>\n",
       "      <td>6.781943e-03</td>\n",
       "      <td>-1.119293e-02</td>\n",
       "      <td>4.097606e-02</td>\n",
       "      <td>1.659350e-02</td>\n",
       "      <td>-5.213911e-02</td>\n",
       "      <td>1.342146e-03</td>\n",
       "      <td>1.124383e-02</td>\n",
       "      <td>22.000000</td>\n",
       "      <td>0.000000</td>\n",
       "    </tr>\n",
       "    <tr>\n",
       "      <th>75%</th>\n",
       "      <td>139320.500000</td>\n",
       "      <td>1.315642e+00</td>\n",
       "      <td>8.037239e-01</td>\n",
       "      <td>1.027196e+00</td>\n",
       "      <td>7.433413e-01</td>\n",
       "      <td>6.119264e-01</td>\n",
       "      <td>3.985649e-01</td>\n",
       "      <td>5.704361e-01</td>\n",
       "      <td>3.273459e-01</td>\n",
       "      <td>5.971390e-01</td>\n",
       "      <td>...</td>\n",
       "      <td>1.863772e-01</td>\n",
       "      <td>5.285536e-01</td>\n",
       "      <td>1.476421e-01</td>\n",
       "      <td>4.395266e-01</td>\n",
       "      <td>3.507156e-01</td>\n",
       "      <td>2.409522e-01</td>\n",
       "      <td>9.104512e-02</td>\n",
       "      <td>7.827995e-02</td>\n",
       "      <td>77.165000</td>\n",
       "      <td>0.000000</td>\n",
       "    </tr>\n",
       "    <tr>\n",
       "      <th>max</th>\n",
       "      <td>172792.000000</td>\n",
       "      <td>2.454930e+00</td>\n",
       "      <td>2.205773e+01</td>\n",
       "      <td>9.382558e+00</td>\n",
       "      <td>1.687534e+01</td>\n",
       "      <td>3.480167e+01</td>\n",
       "      <td>7.330163e+01</td>\n",
       "      <td>1.205895e+02</td>\n",
       "      <td>2.000721e+01</td>\n",
       "      <td>1.559499e+01</td>\n",
       "      <td>...</td>\n",
       "      <td>2.720284e+01</td>\n",
       "      <td>1.050309e+01</td>\n",
       "      <td>2.252841e+01</td>\n",
       "      <td>4.584549e+00</td>\n",
       "      <td>7.519589e+00</td>\n",
       "      <td>3.517346e+00</td>\n",
       "      <td>3.161220e+01</td>\n",
       "      <td>3.384781e+01</td>\n",
       "      <td>25691.160000</td>\n",
       "      <td>1.000000</td>\n",
       "    </tr>\n",
       "  </tbody>\n",
       "</table>\n",
       "<p>8 rows × 31 columns</p>\n",
       "</div>"
      ],
      "text/plain": [
       "                Time            V1            V2            V3            V4  \\\n",
       "count  284807.000000  2.848070e+05  2.848070e+05  2.848070e+05  2.848070e+05   \n",
       "mean    94813.859575  3.919560e-15  5.688174e-16 -8.769071e-15  2.782312e-15   \n",
       "std     47488.145955  1.958696e+00  1.651309e+00  1.516255e+00  1.415869e+00   \n",
       "min         0.000000 -5.640751e+01 -7.271573e+01 -4.832559e+01 -5.683171e+00   \n",
       "25%     54201.500000 -9.203734e-01 -5.985499e-01 -8.903648e-01 -8.486401e-01   \n",
       "50%     84692.000000  1.810880e-02  6.548556e-02  1.798463e-01 -1.984653e-02   \n",
       "75%    139320.500000  1.315642e+00  8.037239e-01  1.027196e+00  7.433413e-01   \n",
       "max    172792.000000  2.454930e+00  2.205773e+01  9.382558e+00  1.687534e+01   \n",
       "\n",
       "                 V5            V6            V7            V8            V9  \\\n",
       "count  2.848070e+05  2.848070e+05  2.848070e+05  2.848070e+05  2.848070e+05   \n",
       "mean  -1.552563e-15  2.010663e-15 -1.694249e-15 -1.927028e-16 -3.137024e-15   \n",
       "std    1.380247e+00  1.332271e+00  1.237094e+00  1.194353e+00  1.098632e+00   \n",
       "min   -1.137433e+02 -2.616051e+01 -4.355724e+01 -7.321672e+01 -1.343407e+01   \n",
       "25%   -6.915971e-01 -7.682956e-01 -5.540759e-01 -2.086297e-01 -6.430976e-01   \n",
       "50%   -5.433583e-02 -2.741871e-01  4.010308e-02  2.235804e-02 -5.142873e-02   \n",
       "75%    6.119264e-01  3.985649e-01  5.704361e-01  3.273459e-01  5.971390e-01   \n",
       "max    3.480167e+01  7.330163e+01  1.205895e+02  2.000721e+01  1.559499e+01   \n",
       "\n",
       "       ...           V21           V22           V23           V24  \\\n",
       "count  ...  2.848070e+05  2.848070e+05  2.848070e+05  2.848070e+05   \n",
       "mean   ...  1.537294e-16  7.959909e-16  5.367590e-16  4.458112e-15   \n",
       "std    ...  7.345240e-01  7.257016e-01  6.244603e-01  6.056471e-01   \n",
       "min    ... -3.483038e+01 -1.093314e+01 -4.480774e+01 -2.836627e+00   \n",
       "25%    ... -2.283949e-01 -5.423504e-01 -1.618463e-01 -3.545861e-01   \n",
       "50%    ... -2.945017e-02  6.781943e-03 -1.119293e-02  4.097606e-02   \n",
       "75%    ...  1.863772e-01  5.285536e-01  1.476421e-01  4.395266e-01   \n",
       "max    ...  2.720284e+01  1.050309e+01  2.252841e+01  4.584549e+00   \n",
       "\n",
       "                V25           V26           V27           V28         Amount  \\\n",
       "count  2.848070e+05  2.848070e+05  2.848070e+05  2.848070e+05  284807.000000   \n",
       "mean   1.453003e-15  1.699104e-15 -3.660161e-16 -1.206049e-16      88.349619   \n",
       "std    5.212781e-01  4.822270e-01  4.036325e-01  3.300833e-01     250.120109   \n",
       "min   -1.029540e+01 -2.604551e+00 -2.256568e+01 -1.543008e+01       0.000000   \n",
       "25%   -3.171451e-01 -3.269839e-01 -7.083953e-02 -5.295979e-02       5.600000   \n",
       "50%    1.659350e-02 -5.213911e-02  1.342146e-03  1.124383e-02      22.000000   \n",
       "75%    3.507156e-01  2.409522e-01  9.104512e-02  7.827995e-02      77.165000   \n",
       "max    7.519589e+00  3.517346e+00  3.161220e+01  3.384781e+01   25691.160000   \n",
       "\n",
       "               Class  \n",
       "count  284807.000000  \n",
       "mean        0.001727  \n",
       "std         0.041527  \n",
       "min         0.000000  \n",
       "25%         0.000000  \n",
       "50%         0.000000  \n",
       "75%         0.000000  \n",
       "max         1.000000  \n",
       "\n",
       "[8 rows x 31 columns]"
      ]
     },
     "execution_count": 6,
     "metadata": {},
     "output_type": "execute_result"
    }
   ],
   "source": [
    "data.describe()"
   ]
  },
  {
   "cell_type": "code",
   "execution_count": 7,
   "metadata": {},
   "outputs": [
    {
     "data": {
      "text/html": [
       "<div>\n",
       "<style scoped>\n",
       "    .dataframe tbody tr th:only-of-type {\n",
       "        vertical-align: middle;\n",
       "    }\n",
       "\n",
       "    .dataframe tbody tr th {\n",
       "        vertical-align: top;\n",
       "    }\n",
       "\n",
       "    .dataframe thead th {\n",
       "        text-align: right;\n",
       "    }\n",
       "</style>\n",
       "<table border=\"1\" class=\"dataframe\">\n",
       "  <thead>\n",
       "    <tr style=\"text-align: right;\">\n",
       "      <th></th>\n",
       "      <th>Time</th>\n",
       "      <th>V1</th>\n",
       "      <th>V2</th>\n",
       "      <th>V3</th>\n",
       "      <th>V4</th>\n",
       "      <th>V5</th>\n",
       "      <th>V6</th>\n",
       "      <th>V7</th>\n",
       "      <th>V8</th>\n",
       "      <th>V9</th>\n",
       "      <th>...</th>\n",
       "      <th>V21</th>\n",
       "      <th>V22</th>\n",
       "      <th>V23</th>\n",
       "      <th>V24</th>\n",
       "      <th>V25</th>\n",
       "      <th>V26</th>\n",
       "      <th>V27</th>\n",
       "      <th>V28</th>\n",
       "      <th>Amount</th>\n",
       "      <th>Class</th>\n",
       "    </tr>\n",
       "  </thead>\n",
       "  <tbody>\n",
       "    <tr>\n",
       "      <th>0</th>\n",
       "      <td>0.0</td>\n",
       "      <td>-1.359807</td>\n",
       "      <td>-0.072781</td>\n",
       "      <td>2.536347</td>\n",
       "      <td>1.378155</td>\n",
       "      <td>-0.338321</td>\n",
       "      <td>0.462388</td>\n",
       "      <td>0.239599</td>\n",
       "      <td>0.098698</td>\n",
       "      <td>0.363787</td>\n",
       "      <td>...</td>\n",
       "      <td>-0.018307</td>\n",
       "      <td>0.277838</td>\n",
       "      <td>-0.110474</td>\n",
       "      <td>0.066928</td>\n",
       "      <td>0.128539</td>\n",
       "      <td>-0.189115</td>\n",
       "      <td>0.133558</td>\n",
       "      <td>-0.021053</td>\n",
       "      <td>149.62</td>\n",
       "      <td>0</td>\n",
       "    </tr>\n",
       "    <tr>\n",
       "      <th>1</th>\n",
       "      <td>0.0</td>\n",
       "      <td>1.191857</td>\n",
       "      <td>0.266151</td>\n",
       "      <td>0.166480</td>\n",
       "      <td>0.448154</td>\n",
       "      <td>0.060018</td>\n",
       "      <td>-0.082361</td>\n",
       "      <td>-0.078803</td>\n",
       "      <td>0.085102</td>\n",
       "      <td>-0.255425</td>\n",
       "      <td>...</td>\n",
       "      <td>-0.225775</td>\n",
       "      <td>-0.638672</td>\n",
       "      <td>0.101288</td>\n",
       "      <td>-0.339846</td>\n",
       "      <td>0.167170</td>\n",
       "      <td>0.125895</td>\n",
       "      <td>-0.008983</td>\n",
       "      <td>0.014724</td>\n",
       "      <td>2.69</td>\n",
       "      <td>0</td>\n",
       "    </tr>\n",
       "    <tr>\n",
       "      <th>2</th>\n",
       "      <td>1.0</td>\n",
       "      <td>-1.358354</td>\n",
       "      <td>-1.340163</td>\n",
       "      <td>1.773209</td>\n",
       "      <td>0.379780</td>\n",
       "      <td>-0.503198</td>\n",
       "      <td>1.800499</td>\n",
       "      <td>0.791461</td>\n",
       "      <td>0.247676</td>\n",
       "      <td>-1.514654</td>\n",
       "      <td>...</td>\n",
       "      <td>0.247998</td>\n",
       "      <td>0.771679</td>\n",
       "      <td>0.909412</td>\n",
       "      <td>-0.689281</td>\n",
       "      <td>-0.327642</td>\n",
       "      <td>-0.139097</td>\n",
       "      <td>-0.055353</td>\n",
       "      <td>-0.059752</td>\n",
       "      <td>378.66</td>\n",
       "      <td>0</td>\n",
       "    </tr>\n",
       "    <tr>\n",
       "      <th>3</th>\n",
       "      <td>1.0</td>\n",
       "      <td>-0.966272</td>\n",
       "      <td>-0.185226</td>\n",
       "      <td>1.792993</td>\n",
       "      <td>-0.863291</td>\n",
       "      <td>-0.010309</td>\n",
       "      <td>1.247203</td>\n",
       "      <td>0.237609</td>\n",
       "      <td>0.377436</td>\n",
       "      <td>-1.387024</td>\n",
       "      <td>...</td>\n",
       "      <td>-0.108300</td>\n",
       "      <td>0.005274</td>\n",
       "      <td>-0.190321</td>\n",
       "      <td>-1.175575</td>\n",
       "      <td>0.647376</td>\n",
       "      <td>-0.221929</td>\n",
       "      <td>0.062723</td>\n",
       "      <td>0.061458</td>\n",
       "      <td>123.50</td>\n",
       "      <td>0</td>\n",
       "    </tr>\n",
       "    <tr>\n",
       "      <th>4</th>\n",
       "      <td>2.0</td>\n",
       "      <td>-1.158233</td>\n",
       "      <td>0.877737</td>\n",
       "      <td>1.548718</td>\n",
       "      <td>0.403034</td>\n",
       "      <td>-0.407193</td>\n",
       "      <td>0.095921</td>\n",
       "      <td>0.592941</td>\n",
       "      <td>-0.270533</td>\n",
       "      <td>0.817739</td>\n",
       "      <td>...</td>\n",
       "      <td>-0.009431</td>\n",
       "      <td>0.798278</td>\n",
       "      <td>-0.137458</td>\n",
       "      <td>0.141267</td>\n",
       "      <td>-0.206010</td>\n",
       "      <td>0.502292</td>\n",
       "      <td>0.219422</td>\n",
       "      <td>0.215153</td>\n",
       "      <td>69.99</td>\n",
       "      <td>0</td>\n",
       "    </tr>\n",
       "  </tbody>\n",
       "</table>\n",
       "<p>5 rows × 31 columns</p>\n",
       "</div>"
      ],
      "text/plain": [
       "   Time        V1        V2        V3        V4        V5        V6        V7  \\\n",
       "0   0.0 -1.359807 -0.072781  2.536347  1.378155 -0.338321  0.462388  0.239599   \n",
       "1   0.0  1.191857  0.266151  0.166480  0.448154  0.060018 -0.082361 -0.078803   \n",
       "2   1.0 -1.358354 -1.340163  1.773209  0.379780 -0.503198  1.800499  0.791461   \n",
       "3   1.0 -0.966272 -0.185226  1.792993 -0.863291 -0.010309  1.247203  0.237609   \n",
       "4   2.0 -1.158233  0.877737  1.548718  0.403034 -0.407193  0.095921  0.592941   \n",
       "\n",
       "         V8        V9  ...       V21       V22       V23       V24       V25  \\\n",
       "0  0.098698  0.363787  ... -0.018307  0.277838 -0.110474  0.066928  0.128539   \n",
       "1  0.085102 -0.255425  ... -0.225775 -0.638672  0.101288 -0.339846  0.167170   \n",
       "2  0.247676 -1.514654  ...  0.247998  0.771679  0.909412 -0.689281 -0.327642   \n",
       "3  0.377436 -1.387024  ... -0.108300  0.005274 -0.190321 -1.175575  0.647376   \n",
       "4 -0.270533  0.817739  ... -0.009431  0.798278 -0.137458  0.141267 -0.206010   \n",
       "\n",
       "        V26       V27       V28  Amount  Class  \n",
       "0 -0.189115  0.133558 -0.021053  149.62      0  \n",
       "1  0.125895 -0.008983  0.014724    2.69      0  \n",
       "2 -0.139097 -0.055353 -0.059752  378.66      0  \n",
       "3 -0.221929  0.062723  0.061458  123.50      0  \n",
       "4  0.502292  0.219422  0.215153   69.99      0  \n",
       "\n",
       "[5 rows x 31 columns]"
      ]
     },
     "execution_count": 7,
     "metadata": {},
     "output_type": "execute_result"
    }
   ],
   "source": [
    "data.head()"
   ]
  },
  {
   "cell_type": "code",
   "execution_count": 8,
   "metadata": {},
   "outputs": [
    {
     "name": "stdout",
     "output_type": "stream",
     "text": [
      "<class 'pandas.core.frame.DataFrame'>\n",
      "RangeIndex: 284807 entries, 0 to 284806\n",
      "Data columns (total 31 columns):\n",
      " #   Column  Non-Null Count   Dtype  \n",
      "---  ------  --------------   -----  \n",
      " 0   Time    284807 non-null  float64\n",
      " 1   V1      284807 non-null  float64\n",
      " 2   V2      284807 non-null  float64\n",
      " 3   V3      284807 non-null  float64\n",
      " 4   V4      284807 non-null  float64\n",
      " 5   V5      284807 non-null  float64\n",
      " 6   V6      284807 non-null  float64\n",
      " 7   V7      284807 non-null  float64\n",
      " 8   V8      284807 non-null  float64\n",
      " 9   V9      284807 non-null  float64\n",
      " 10  V10     284807 non-null  float64\n",
      " 11  V11     284807 non-null  float64\n",
      " 12  V12     284807 non-null  float64\n",
      " 13  V13     284807 non-null  float64\n",
      " 14  V14     284807 non-null  float64\n",
      " 15  V15     284807 non-null  float64\n",
      " 16  V16     284807 non-null  float64\n",
      " 17  V17     284807 non-null  float64\n",
      " 18  V18     284807 non-null  float64\n",
      " 19  V19     284807 non-null  float64\n",
      " 20  V20     284807 non-null  float64\n",
      " 21  V21     284807 non-null  float64\n",
      " 22  V22     284807 non-null  float64\n",
      " 23  V23     284807 non-null  float64\n",
      " 24  V24     284807 non-null  float64\n",
      " 25  V25     284807 non-null  float64\n",
      " 26  V26     284807 non-null  float64\n",
      " 27  V27     284807 non-null  float64\n",
      " 28  V28     284807 non-null  float64\n",
      " 29  Amount  284807 non-null  float64\n",
      " 30  Class   284807 non-null  int64  \n",
      "dtypes: float64(30), int64(1)\n",
      "memory usage: 67.4 MB\n"
     ]
    }
   ],
   "source": [
    "data.info()"
   ]
  },
  {
   "cell_type": "code",
   "execution_count": 9,
   "metadata": {},
   "outputs": [],
   "source": [
    "#finding out missing value"
   ]
  },
  {
   "cell_type": "code",
   "execution_count": 10,
   "metadata": {},
   "outputs": [
    {
     "data": {
      "text/plain": [
       "Time      0\n",
       "V1        0\n",
       "V2        0\n",
       "V3        0\n",
       "V4        0\n",
       "V5        0\n",
       "V6        0\n",
       "V7        0\n",
       "V8        0\n",
       "V9        0\n",
       "V10       0\n",
       "V11       0\n",
       "V12       0\n",
       "V13       0\n",
       "V14       0\n",
       "V15       0\n",
       "V16       0\n",
       "V17       0\n",
       "V18       0\n",
       "V19       0\n",
       "V20       0\n",
       "V21       0\n",
       "V22       0\n",
       "V23       0\n",
       "V24       0\n",
       "V25       0\n",
       "V26       0\n",
       "V27       0\n",
       "V28       0\n",
       "Amount    0\n",
       "Class     0\n",
       "dtype: int64"
      ]
     },
     "execution_count": 10,
     "metadata": {},
     "output_type": "execute_result"
    }
   ],
   "source": [
    "data.isnull().sum()"
   ]
  },
  {
   "cell_type": "code",
   "execution_count": 11,
   "metadata": {},
   "outputs": [],
   "source": [
    "#findingout the Outliers"
   ]
  },
  {
   "cell_type": "code",
   "execution_count": 12,
   "metadata": {},
   "outputs": [
    {
     "data": {
      "text/plain": [
       "<matplotlib.axes._subplots.AxesSubplot at 0x1e343980d90>"
      ]
     },
     "execution_count": 12,
     "metadata": {},
     "output_type": "execute_result"
    },
    {
     "data": {
      "image/png": "[encoded data removed]",
      "text/plain": [
       "<Figure size 2160x576 with 1 Axes>"
      ]
     },
     "metadata": {
      "needs_background": "light"
     },
     "output_type": "display_data"
    }
   ],
   "source": [
    "data.boxplot(figsize=(30,8))"
   ]
  },
  {
   "cell_type": "code",
   "execution_count": 13,
   "metadata": {},
   "outputs": [],
   "source": [
    "#Fixing of Outlier"
   ]
  },
  {
   "cell_type": "code",
   "execution_count": 14,
   "metadata": {},
   "outputs": [
    {
     "data": {
      "text/plain": [
       "<matplotlib.axes._subplots.AxesSubplot at 0x1e344656580>"
      ]
     },
     "execution_count": 14,
     "metadata": {},
     "output_type": "execute_result"
    },
    {
     "data": {
      "image/png": "[encoded data removed]",
      "text/plain": [
       "<Figure size 432x288 with 1 Axes>"
      ]
     },
     "metadata": {
      "needs_background": "light"
     },
     "output_type": "display_data"
    }
   ],
   "source": [
    "data.boxplot(column=\"Amount\")"
   ]
  },
  {
   "cell_type": "code",
   "execution_count": 15,
   "metadata": {},
   "outputs": [
    {
     "data": {
      "text/plain": [
       "<matplotlib.axes._subplots.AxesSubplot at 0x1e34410c8e0>"
      ]
     },
     "execution_count": 15,
     "metadata": {},
     "output_type": "execute_result"
    },
    {
     "data": {
      "image/png": "[encoded data removed]",
      "text/plain": [
       "<Figure size 432x288 with 1 Axes>"
      ]
     },
     "metadata": {
      "needs_background": "light"
     },
     "output_type": "display_data"
    }
   ],
   "source": [
    "min=data['V1'].quantile(0.05)\n",
    "max=data['V1'].quantile(0.95)\n",
    "new=np.where(data['V1']<min,min,data['V1'])\n",
    "data.V1=new\n",
    "new=np.where(data['V1']>max,max,data['V1'])\n",
    "data.V1=new\n",
    "data.boxplot('V1')"
   ]
  },
  {
   "cell_type": "code",
   "execution_count": 16,
   "metadata": {},
   "outputs": [
    {
     "data": {
      "text/plain": [
       "<matplotlib.axes._subplots.AxesSubplot at 0x1e344113760>"
      ]
     },
     "execution_count": 16,
     "metadata": {},
     "output_type": "execute_result"
    },
    {
     "data": {
      "image/png": "[encoded data removed]",
      "text/plain": [
       "<Figure size 432x288 with 1 Axes>"
      ]
     },
     "metadata": {
      "needs_background": "light"
     },
     "output_type": "display_data"
    }
   ],
   "source": [
    "min=data['V2'].quantile(0.05)\n",
    "max=data['V2'].quantile(0.95)\n",
    "new=np.where(data['V2']<min,min,data['V2'])\n",
    "data.V2=new\n",
    "new=np.where(data['V2']>max,max,data['V2'])\n",
    "data.V2=new\n",
    "data.boxplot('V2')"
   ]
  },
  {
   "cell_type": "code",
   "execution_count": 17,
   "metadata": {},
   "outputs": [
    {
     "data": {
      "text/plain": [
       "<matplotlib.axes._subplots.AxesSubplot at 0x1e3441898e0>"
      ]
     },
     "execution_count": 17,
     "metadata": {},
     "output_type": "execute_result"
    },
    {
     "data": {
      "image/png": "[encoded data removed]",
      "text/plain": [
       "<Figure size 432x288 with 1 Axes>"
      ]
     },
     "metadata": {
      "needs_background": "light"
     },
     "output_type": "display_data"
    }
   ],
   "source": [
    "min=data['V3'].quantile(0.05)\n",
    "max=data['V3'].quantile(0.95)\n",
    "new=np.where(data['V3']<min,min,data['V3'])\n",
    "data.V3=new\n",
    "new=np.where(data['V3']>max,max,data['V3'])\n",
    "data.V3=new\n",
    "data.boxplot('V3')"
   ]
  },
  {
   "cell_type": "code",
   "execution_count": 18,
   "metadata": {},
   "outputs": [
    {
     "data": {
      "text/plain": [
       "<matplotlib.axes._subplots.AxesSubplot at 0x1e344244100>"
      ]
     },
     "execution_count": 18,
     "metadata": {},
     "output_type": "execute_result"
    },
    {
     "data": {
      "image/png": "[encoded data removed]",
      "text/plain": [
       "<Figure size 432x288 with 1 Axes>"
      ]
     },
     "metadata": {
      "needs_background": "light"
     },
     "output_type": "display_data"
    }
   ],
   "source": [
    "min=data['V4'].quantile(0.05)\n",
    "max=data['V4'].quantile(0.95)\n",
    "new=np.where(data['V4']<min,min,data['V4'])\n",
    "data.V4=new\n",
    "new=np.where(data['V4']>max,max,data['V4'])\n",
    "data.V4=new\n",
    "data.boxplot('V4')"
   ]
  },
  {
   "cell_type": "code",
   "execution_count": 19,
   "metadata": {},
   "outputs": [
    {
     "data": {
      "text/plain": [
       "<matplotlib.axes._subplots.AxesSubplot at 0x1e34429a280>"
      ]
     },
     "execution_count": 19,
     "metadata": {},
     "output_type": "execute_result"
    },
    {
     "data": {
      "image/png": "[encoded data removed]",
      "text/plain": [
       "<Figure size 432x288 with 1 Axes>"
      ]
     },
     "metadata": {
      "needs_background": "light"
     },
     "output_type": "display_data"
    }
   ],
   "source": [
    "min=data['V5'].quantile(0.05)\n",
    "max=data['V5'].quantile(0.95)\n",
    "new=np.where(data['V5']<min,min,data['V5'])\n",
    "data.V5=new\n",
    "new=np.where(data['V5']>max,max,data['V5'])\n",
    "data.V5=new\n",
    "data.boxplot('V5')"
   ]
  },
  {
   "cell_type": "code",
   "execution_count": 20,
   "metadata": {},
   "outputs": [
    {
     "data": {
      "text/plain": [
       "<matplotlib.axes._subplots.AxesSubplot at 0x1e3442f0ee0>"
      ]
     },
     "execution_count": 20,
     "metadata": {},
     "output_type": "execute_result"
    },
    {
     "data": {
      "image/png": "[encoded data removed]",
      "text/plain": [
       "<Figure size 432x288 with 1 Axes>"
      ]
     },
     "metadata": {
      "needs_background": "light"
     },
     "output_type": "display_data"
    }
   ],
   "source": [
    "min=data['V6'].quantile(0.05)\n",
    "max=data['V6'].quantile(0.90)\n",
    "new=np.where(data['V6']<min,min,data['V6'])\n",
    "data.V6=new\n",
    "new=np.where(data['V6']>max,max,data['V6'])\n",
    "data.V6=new\n",
    "data.boxplot('V6')"
   ]
  },
  {
   "cell_type": "code",
   "execution_count": 21,
   "metadata": {},
   "outputs": [
    {
     "data": {
      "text/plain": [
       "<matplotlib.axes._subplots.AxesSubplot at 0x1e34429afa0>"
      ]
     },
     "execution_count": 21,
     "metadata": {},
     "output_type": "execute_result"
    },
    {
     "data": {
      "image/png": "[encoded data removed]",
      "text/plain": [
       "<Figure size 432x288 with 1 Axes>"
      ]
     },
     "metadata": {
      "needs_background": "light"
     },
     "output_type": "display_data"
    }
   ],
   "source": [
    "min=data['V7'].quantile(0.05)\n",
    "max=data['V7'].quantile(0.95)\n",
    "new=np.where(data['V7']<min,min,data['V7'])\n",
    "data.V7=new\n",
    "new=np.where(data['V7']>max,max,data['V7'])\n",
    "data.V7=new\n",
    "data.boxplot('V7')"
   ]
  },
  {
   "cell_type": "code",
   "execution_count": 22,
   "metadata": {},
   "outputs": [
    {
     "data": {
      "text/plain": [
       "<matplotlib.axes._subplots.AxesSubplot at 0x1e344625040>"
      ]
     },
     "execution_count": 22,
     "metadata": {},
     "output_type": "execute_result"
    },
    {
     "data": {
      "image/png": "[encoded data removed]",
      "text/plain": [
       "<Figure size 432x288 with 1 Axes>"
      ]
     },
     "metadata": {
      "needs_background": "light"
     },
     "output_type": "display_data"
    }
   ],
   "source": [
    "min=data['V8'].quantile(0.05)\n",
    "max=data['V8'].quantile(0.95)\n",
    "new=np.where(data['V8']<min,min,data['V8'])\n",
    "data.V8=new\n",
    "new=np.where(data['V8']>max,max,data['V8'])\n",
    "data.V8=new\n",
    "data.boxplot('V8')"
   ]
  },
  {
   "cell_type": "code",
   "execution_count": 23,
   "metadata": {},
   "outputs": [
    {
     "data": {
      "text/plain": [
       "<matplotlib.axes._subplots.AxesSubplot at 0x1e344119e20>"
      ]
     },
     "execution_count": 23,
     "metadata": {},
     "output_type": "execute_result"
    },
    {
     "data": {
      "image/png": "[encoded data removed]",
      "text/plain": [
       "<Figure size 432x288 with 1 Axes>"
      ]
     },
     "metadata": {
      "needs_background": "light"
     },
     "output_type": "display_data"
    }
   ],
   "source": [
    "min=data['V9'].quantile(0.05)\n",
    "max=data['V9'].quantile(0.95)\n",
    "new=np.where(data['V9']<min,min,data['V9'])\n",
    "data.V9=new\n",
    "new=np.where(data['V9']>max,max,data['V9'])\n",
    "data.V9=new\n",
    "data.boxplot('V9')"
   ]
  },
  {
   "cell_type": "code",
   "execution_count": 24,
   "metadata": {},
   "outputs": [
    {
     "data": {
      "text/plain": [
       "<matplotlib.axes._subplots.AxesSubplot at 0x1e3443ee7c0>"
      ]
     },
     "execution_count": 24,
     "metadata": {},
     "output_type": "execute_result"
    },
    {
     "data": {
      "image/png": "[encoded data removed]",
      "text/plain": [
       "<Figure size 432x288 with 1 Axes>"
      ]
     },
     "metadata": {
      "needs_background": "light"
     },
     "output_type": "display_data"
    }
   ],
   "source": [
    "min=data['V10'].quantile(0.05)\n",
    "max=data['V10'].quantile(0.95)\n",
    "new=np.where(data['V10']<min,min,data['V10'])\n",
    "data.V10=new\n",
    "new=np.where(data['V10']>max,max,data['V10'])\n",
    "data.V10=new\n",
    "data.boxplot('V10')"
   ]
  },
  {
   "cell_type": "code",
   "execution_count": 25,
   "metadata": {},
   "outputs": [
    {
     "data": {
      "text/plain": [
       "<matplotlib.axes._subplots.AxesSubplot at 0x1e34446e460>"
      ]
     },
     "execution_count": 25,
     "metadata": {},
     "output_type": "execute_result"
    },
    {
     "data": {
      "image/png": "[encoded data removed]",
      "text/plain": [
       "<Figure size 432x288 with 1 Axes>"
      ]
     },
     "metadata": {
      "needs_background": "light"
     },
     "output_type": "display_data"
    }
   ],
   "source": [
    "min=data['V11'].quantile(0.05)\n",
    "max=data['V11'].quantile(0.95)\n",
    "new=np.where(data['V11']<min,min,data['V11'])\n",
    "data.V11=new\n",
    "new=np.where(data['V11']>max,max,data['V11'])\n",
    "data.V11=new\n",
    "data.boxplot('V11')"
   ]
  },
  {
   "cell_type": "code",
   "execution_count": 26,
   "metadata": {},
   "outputs": [
    {
     "data": {
      "text/plain": [
       "<matplotlib.axes._subplots.AxesSubplot at 0x1e34446ec40>"
      ]
     },
     "execution_count": 26,
     "metadata": {},
     "output_type": "execute_result"
    },
    {
     "data": {
      "image/png": "[encoded data removed]",
      "text/plain": [
       "<Figure size 432x288 with 1 Axes>"
      ]
     },
     "metadata": {
      "needs_background": "light"
     },
     "output_type": "display_data"
    }
   ],
   "source": [
    "min=data['V12'].quantile(0.10)\n",
    "max=data['V12'].quantile(0.95)\n",
    "new=np.where(data['V12']<min,min,data['V12'])\n",
    "data.V12=new\n",
    "new=np.where(data['V12']>max,max,data['V12'])\n",
    "data.V12=new\n",
    "data.boxplot('V12')"
   ]
  },
  {
   "cell_type": "code",
   "execution_count": 27,
   "metadata": {},
   "outputs": [
    {
     "data": {
      "text/plain": [
       "<matplotlib.axes._subplots.AxesSubplot at 0x1e344520370>"
      ]
     },
     "execution_count": 27,
     "metadata": {},
     "output_type": "execute_result"
    },
    {
     "data": {
      "image/png": "[encoded data removed]",
      "text/plain": [
       "<Figure size 432x288 with 1 Axes>"
      ]
     },
     "metadata": {
      "needs_background": "light"
     },
     "output_type": "display_data"
    }
   ],
   "source": [
    "min=data['V13'].quantile(0.05)\n",
    "max=data['V13'].quantile(0.95)\n",
    "new=np.where(data['V13']<min,min,data['V13'])\n",
    "data.V13=new\n",
    "new=np.where(data['V13']>max,max,data['V13'])\n",
    "data.V13=new\n",
    "data.boxplot('V13')"
   ]
  },
  {
   "cell_type": "code",
   "execution_count": 28,
   "metadata": {},
   "outputs": [
    {
     "data": {
      "text/plain": [
       "<matplotlib.axes._subplots.AxesSubplot at 0x1e3444c2e80>"
      ]
     },
     "execution_count": 28,
     "metadata": {},
     "output_type": "execute_result"
    },
    {
     "data": {
      "image/png": "[encoded data removed]",
      "text/plain": [
       "<Figure size 432x288 with 1 Axes>"
      ]
     },
     "metadata": {
      "needs_background": "light"
     },
     "output_type": "display_data"
    }
   ],
   "source": [
    "min=data['V14'].quantile(0.05)\n",
    "max=data['V14'].quantile(0.95)\n",
    "new=np.where(data['V14']<min,min,data['V14'])\n",
    "data.V14=new\n",
    "new=np.where(data['V14']>max,max,data['V14'])\n",
    "data.V14=new\n",
    "data.boxplot('V14')"
   ]
  },
  {
   "cell_type": "code",
   "execution_count": 29,
   "metadata": {},
   "outputs": [
    {
     "data": {
      "text/plain": [
       "<matplotlib.axes._subplots.AxesSubplot at 0x1e34464e880>"
      ]
     },
     "execution_count": 29,
     "metadata": {},
     "output_type": "execute_result"
    },
    {
     "data": {
      "image/png": "[encoded data removed]",
      "text/plain": [
       "<Figure size 432x288 with 1 Axes>"
      ]
     },
     "metadata": {
      "needs_background": "light"
     },
     "output_type": "display_data"
    }
   ],
   "source": [
    "min=data['V15'].quantile(0.05)\n",
    "max=data['V15'].quantile(0.95)\n",
    "new=np.where(data['V15']<min,min,data['V15'])\n",
    "data.V15=new\n",
    "new=np.where(data['V15']>max,max,data['V15'])\n",
    "data.V15=new\n",
    "data.boxplot('V15')"
   ]
  },
  {
   "cell_type": "code",
   "execution_count": 30,
   "metadata": {},
   "outputs": [
    {
     "data": {
      "text/plain": [
       "<matplotlib.axes._subplots.AxesSubplot at 0x1e344a31730>"
      ]
     },
     "execution_count": 30,
     "metadata": {},
     "output_type": "execute_result"
    },
    {
     "data": {
      "image/png": "[encoded data removed]",
      "text/plain": [
       "<Figure size 432x288 with 1 Axes>"
      ]
     },
     "metadata": {
      "needs_background": "light"
     },
     "output_type": "display_data"
    }
   ],
   "source": [
    "min=data['V16'].quantile(0.05)\n",
    "max=data['V16'].quantile(0.95)\n",
    "new=np.where(data['V16']<min,min,data['V16'])\n",
    "data.V16=new\n",
    "new=np.where(data['V16']>max,max,data['V16'])\n",
    "data.V16=new\n",
    "data.boxplot('V16')"
   ]
  },
  {
   "cell_type": "code",
   "execution_count": 31,
   "metadata": {},
   "outputs": [
    {
     "data": {
      "text/plain": [
       "<matplotlib.axes._subplots.AxesSubplot at 0x1e344a8c610>"
      ]
     },
     "execution_count": 31,
     "metadata": {},
     "output_type": "execute_result"
    },
    {
     "data": {
      "image/png": "[encoded data removed]",
      "text/plain": [
       "<Figure size 432x288 with 1 Axes>"
      ]
     },
     "metadata": {
      "needs_background": "light"
     },
     "output_type": "display_data"
    }
   ],
   "source": [
    "min=data['V17'].quantile(0.05)\n",
    "max=data['V17'].quantile(0.95)\n",
    "new=np.where(data['V17']<min,min,data['V17'])\n",
    "data.V17=new\n",
    "new=np.where(data['V17']>max,max,data['V17'])\n",
    "data.V17=new\n",
    "data.boxplot('V17')"
   ]
  },
  {
   "cell_type": "code",
   "execution_count": 32,
   "metadata": {},
   "outputs": [
    {
     "data": {
      "text/plain": [
       "<matplotlib.axes._subplots.AxesSubplot at 0x1e344ae5c40>"
      ]
     },
     "execution_count": 32,
     "metadata": {},
     "output_type": "execute_result"
    },
    {
     "data": {
      "image/png": "[encoded data removed]",
      "text/plain": [
       "<Figure size 432x288 with 1 Axes>"
      ]
     },
     "metadata": {
      "needs_background": "light"
     },
     "output_type": "display_data"
    }
   ],
   "source": [
    "min=data['V18'].quantile(0.05)\n",
    "max=data['V18'].quantile(0.95)\n",
    "new=np.where(data['V18']<min,min,data['V18'])\n",
    "data.V18=new\n",
    "new=np.where(data['V18']>max,max,data['V18'])\n",
    "data.V18=new\n",
    "data.boxplot('V18')"
   ]
  },
  {
   "cell_type": "code",
   "execution_count": 33,
   "metadata": {},
   "outputs": [
    {
     "data": {
      "text/plain": [
       "<matplotlib.axes._subplots.AxesSubplot at 0x1e344b30f10>"
      ]
     },
     "execution_count": 33,
     "metadata": {},
     "output_type": "execute_result"
    },
    {
     "data": {
      "image/png": "[encoded data removed]",
      "text/plain": [
       "<Figure size 432x288 with 1 Axes>"
      ]
     },
     "metadata": {
      "needs_background": "light"
     },
     "output_type": "display_data"
    }
   ],
   "source": [
    "min=data['V19'].quantile(0.05)\n",
    "max=data['V19'].quantile(0.95)\n",
    "new=np.where(data['V19']<min,min,data['V19'])\n",
    "data.V19=new\n",
    "new=np.where(data['V19']>max,max,data['V19'])\n",
    "data.V19=new\n",
    "data.boxplot('V19')"
   ]
  },
  {
   "cell_type": "code",
   "execution_count": 34,
   "metadata": {},
   "outputs": [
    {
     "data": {
      "text/plain": [
       "<matplotlib.axes._subplots.AxesSubplot at 0x1e344b911f0>"
      ]
     },
     "execution_count": 34,
     "metadata": {},
     "output_type": "execute_result"
    },
    {
     "data": {
      "image/png": "[encoded data removed]",
      "text/plain": [
       "<Figure size 432x288 with 1 Axes>"
      ]
     },
     "metadata": {
      "needs_background": "light"
     },
     "output_type": "display_data"
    }
   ],
   "source": [
    "min=data['V20'].quantile(0.05)\n",
    "max=data['V20'].quantile(0.90)\n",
    "new=np.where(data['V20']<min,min,data['V20'])\n",
    "data.V20=new\n",
    "new=np.where(data['V20']>max,max,data['V20'])\n",
    "data.V20=new\n",
    "data.boxplot('V20')"
   ]
  },
  {
   "cell_type": "code",
   "execution_count": 35,
   "metadata": {},
   "outputs": [
    {
     "data": {
      "text/plain": [
       "<matplotlib.axes._subplots.AxesSubplot at 0x1e344b814c0>"
      ]
     },
     "execution_count": 35,
     "metadata": {},
     "output_type": "execute_result"
    },
    {
     "data": {
      "image/png": "[encoded data removed]",
      "text/plain": [
       "<Figure size 432x288 with 1 Axes>"
      ]
     },
     "metadata": {
      "needs_background": "light"
     },
     "output_type": "display_data"
    }
   ],
   "source": [
    "min=data['V21'].quantile(0.05)\n",
    "max=data['V21'].quantile(0.95)\n",
    "new=np.where(data['V21']<min,min,data['V21'])\n",
    "data.V21=new\n",
    "new=np.where(data['V21']>max,max,data['V21'])\n",
    "data.V21=new\n",
    "data.boxplot('V21')"
   ]
  },
  {
   "cell_type": "code",
   "execution_count": 36,
   "metadata": {},
   "outputs": [
    {
     "data": {
      "text/plain": [
       "<matplotlib.axes._subplots.AxesSubplot at 0x1e344c61b50>"
      ]
     },
     "execution_count": 36,
     "metadata": {},
     "output_type": "execute_result"
    },
    {
     "data": {
      "image/png": "[encoded data removed]",
      "text/plain": [
       "<Figure size 432x288 with 1 Axes>"
      ]
     },
     "metadata": {
      "needs_background": "light"
     },
     "output_type": "display_data"
    }
   ],
   "source": [
    "min=data['V22'].quantile(0.05)\n",
    "max=data['V22'].quantile(0.95)\n",
    "new=np.where(data['V22']<min,min,data['V22'])\n",
    "data.V22=new\n",
    "new=np.where(data['V22']>max,max,data['V22'])\n",
    "data.V22=new\n",
    "data.boxplot('V22')"
   ]
  },
  {
   "cell_type": "code",
   "execution_count": 37,
   "metadata": {},
   "outputs": [
    {
     "data": {
      "text/plain": [
       "<matplotlib.axes._subplots.AxesSubplot at 0x1e344cc6040>"
      ]
     },
     "execution_count": 37,
     "metadata": {},
     "output_type": "execute_result"
    },
    {
     "data": {
      "image/png": "[encoded data removed]",
      "text/plain": [
       "<Figure size 432x288 with 1 Axes>"
      ]
     },
     "metadata": {
      "needs_background": "light"
     },
     "output_type": "display_data"
    }
   ],
   "source": [
    "min=data['V22'].quantile(0.05)\n",
    "max=data['V22'].quantile(0.95)\n",
    "new=np.where(data['V22']<min,min,data['V22'])\n",
    "data.V22=new\n",
    "new=np.where(data['V22']>max,max,data['V22'])\n",
    "data.V22=new\n",
    "data.boxplot('V22')"
   ]
  },
  {
   "cell_type": "code",
   "execution_count": 38,
   "metadata": {},
   "outputs": [
    {
     "data": {
      "text/plain": [
       "<matplotlib.axes._subplots.AxesSubplot at 0x1e344594fa0>"
      ]
     },
     "execution_count": 38,
     "metadata": {},
     "output_type": "execute_result"
    },
    {
     "data": {
      "image/png": "[encoded data removed]",
      "text/plain": [
       "<Figure size 432x288 with 1 Axes>"
      ]
     },
     "metadata": {
      "needs_background": "light"
     },
     "output_type": "display_data"
    }
   ],
   "source": [
    "min=data['V23'].quantile(0.05)\n",
    "max=data['V23'].quantile(0.95)\n",
    "new=np.where(data['V23']<min,min,data['V23'])\n",
    "data.V23=new\n",
    "new=np.where(data['V23']>max,max,data['V23'])\n",
    "data.V23=new\n",
    "data.boxplot('V23')"
   ]
  },
  {
   "cell_type": "code",
   "execution_count": 39,
   "metadata": {},
   "outputs": [
    {
     "data": {
      "text/plain": [
       "<matplotlib.axes._subplots.AxesSubplot at 0x1e344a95280>"
      ]
     },
     "execution_count": 39,
     "metadata": {},
     "output_type": "execute_result"
    },
    {
     "data": {
      "image/png": "[encoded data removed]",
      "text/plain": [
       "<Figure size 432x288 with 1 Axes>"
      ]
     },
     "metadata": {
      "needs_background": "light"
     },
     "output_type": "display_data"
    }
   ],
   "source": [
    "min=data['V24'].quantile(0.05)\n",
    "max=data['V24'].quantile(0.95)\n",
    "new=np.where(data['V24']<min,min,data['V24'])\n",
    "data.V24=new\n",
    "new=np.where(data['V24']>max,max,data['V24'])\n",
    "data.V24=new\n",
    "data.boxplot('V24')"
   ]
  },
  {
   "cell_type": "code",
   "execution_count": 40,
   "metadata": {},
   "outputs": [
    {
     "data": {
      "text/plain": [
       "<matplotlib.axes._subplots.AxesSubplot at 0x1e344daff10>"
      ]
     },
     "execution_count": 40,
     "metadata": {},
     "output_type": "execute_result"
    },
    {
     "data": {
      "image/png": "[encoded data removed]",
      "text/plain": [
       "<Figure size 432x288 with 1 Axes>"
      ]
     },
     "metadata": {
      "needs_background": "light"
     },
     "output_type": "display_data"
    }
   ],
   "source": [
    "min=data['V25'].quantile(0.05)\n",
    "max=data['V25'].quantile(0.95)\n",
    "new=np.where(data['V25']<min,min,data['V25'])\n",
    "data.V25=new\n",
    "new=np.where(data['V25']>max,max,data['V25'])\n",
    "data.V25=new\n",
    "data.boxplot('V25')"
   ]
  },
  {
   "cell_type": "code",
   "execution_count": 41,
   "metadata": {},
   "outputs": [
    {
     "data": {
      "text/plain": [
       "<matplotlib.axes._subplots.AxesSubplot at 0x1e344e19f70>"
      ]
     },
     "execution_count": 41,
     "metadata": {},
     "output_type": "execute_result"
    },
    {
     "data": {
      "image/png": "[encoded data removed]",
      "text/plain": [
       "<Figure size 432x288 with 1 Axes>"
      ]
     },
     "metadata": {
      "needs_background": "light"
     },
     "output_type": "display_data"
    }
   ],
   "source": [
    "min=data['V26'].quantile(0.05)\n",
    "max=data['V26'].quantile(0.95)\n",
    "new=np.where(data['V26']<min,min,data['V26'])\n",
    "data.V26=new\n",
    "new=np.where(data['V26']>max,max,data['V26'])\n",
    "data.V26=new\n",
    "data.boxplot('V26')"
   ]
  },
  {
   "cell_type": "code",
   "execution_count": 42,
   "metadata": {},
   "outputs": [
    {
     "data": {
      "text/plain": [
       "<matplotlib.axes._subplots.AxesSubplot at 0x1e344dfd130>"
      ]
     },
     "execution_count": 42,
     "metadata": {},
     "output_type": "execute_result"
    },
    {
     "data": {
      "image/png": "[encoded data removed]",
      "text/plain": [
       "<Figure size 432x288 with 1 Axes>"
      ]
     },
     "metadata": {
      "needs_background": "light"
     },
     "output_type": "display_data"
    }
   ],
   "source": [
    "min=data['V27'].quantile(0.10)\n",
    "max=data['V27'].quantile(0.90)\n",
    "new=np.where(data['V27']<min,min,data['V27'])\n",
    "data.V27=new\n",
    "new=np.where(data['V27']>max,max,data['V27'])\n",
    "data.V27=new\n",
    "data.boxplot('V27')"
   ]
  },
  {
   "cell_type": "code",
   "execution_count": 43,
   "metadata": {},
   "outputs": [
    {
     "data": {
      "text/plain": [
       "<matplotlib.axes._subplots.AxesSubplot at 0x1e344efe3d0>"
      ]
     },
     "execution_count": 43,
     "metadata": {},
     "output_type": "execute_result"
    },
    {
     "data": {
      "image/png": "[encoded data removed]",
      "text/plain": [
       "<Figure size 432x288 with 1 Axes>"
      ]
     },
     "metadata": {
      "needs_background": "light"
     },
     "output_type": "display_data"
    }
   ],
   "source": [
    "min=data['V28'].quantile(0.10)\n",
    "max=data['V28'].quantile(0.95)\n",
    "new=np.where(data['V28']<min,min,data['V28'])\n",
    "data.V28=new\n",
    "new=np.where(data['V28']>max,max,data['V28'])\n",
    "data.V28=new\n",
    "data.boxplot('V28')"
   ]
  },
  {
   "cell_type": "code",
   "execution_count": 44,
   "metadata": {},
   "outputs": [
    {
     "data": {
      "text/plain": [
       "<matplotlib.axes._subplots.AxesSubplot at 0x1e344f59070>"
      ]
     },
     "execution_count": 44,
     "metadata": {},
     "output_type": "execute_result"
    },
    {
     "data": {
      "image/png": "[encoded data removed]",
      "text/plain": [
       "<Figure size 432x288 with 1 Axes>"
      ]
     },
     "metadata": {
      "needs_background": "light"
     },
     "output_type": "display_data"
    }
   ],
   "source": [
    "min=data['Amount'].quantile(0.05)\n",
    "max=data['Amount'].quantile(0.85)\n",
    "new=np.where(data['Amount']<min,min,data['Amount'])\n",
    "data.Amount=new\n",
    "new=np.where(data['Amount']>max,max,data['Amount'])\n",
    "data.Amount=new\n",
    "data.boxplot('Amount')"
   ]
  },
  {
   "cell_type": "code",
   "execution_count": 45,
   "metadata": {},
   "outputs": [],
   "source": [
    "#ploting the data"
   ]
  },
  {
   "cell_type": "code",
   "execution_count": 46,
   "metadata": {},
   "outputs": [
    {
     "data": {
      "text/plain": [
       "[<matplotlib.lines.Line2D at 0x1e344fdbe20>,\n",
       " <matplotlib.lines.Line2D at 0x1e344fdbf10>,\n",
       " <matplotlib.lines.Line2D at 0x1e344fdbfd0>,\n",
       " <matplotlib.lines.Line2D at 0x1e344fe70d0>,\n",
       " <matplotlib.lines.Line2D at 0x1e344fe7190>,\n",
       " <matplotlib.lines.Line2D at 0x1e344fe7250>,\n",
       " <matplotlib.lines.Line2D at 0x1e344fe7310>,\n",
       " <matplotlib.lines.Line2D at 0x1e344fe73d0>,\n",
       " <matplotlib.lines.Line2D at 0x1e344fe7490>,\n",
       " <matplotlib.lines.Line2D at 0x1e344fe7550>,\n",
       " <matplotlib.lines.Line2D at 0x1e344fc20a0>,\n",
       " <matplotlib.lines.Line2D at 0x1e344fe7670>,\n",
       " <matplotlib.lines.Line2D at 0x1e344fe7760>,\n",
       " <matplotlib.lines.Line2D at 0x1e344fe7820>,\n",
       " <matplotlib.lines.Line2D at 0x1e344fe78e0>,\n",
       " <matplotlib.lines.Line2D at 0x1e344fe79a0>,\n",
       " <matplotlib.lines.Line2D at 0x1e344fe7a60>,\n",
       " <matplotlib.lines.Line2D at 0x1e344fe7b20>,\n",
       " <matplotlib.lines.Line2D at 0x1e344fe7be0>,\n",
       " <matplotlib.lines.Line2D at 0x1e344fe7ca0>,\n",
       " <matplotlib.lines.Line2D at 0x1e344fe7d60>,\n",
       " <matplotlib.lines.Line2D at 0x1e344fe7e20>,\n",
       " <matplotlib.lines.Line2D at 0x1e344fe7ee0>,\n",
       " <matplotlib.lines.Line2D at 0x1e344fe7fa0>,\n",
       " <matplotlib.lines.Line2D at 0x1e344fee0a0>,\n",
       " <matplotlib.lines.Line2D at 0x1e344fee160>,\n",
       " <matplotlib.lines.Line2D at 0x1e344fee220>,\n",
       " <matplotlib.lines.Line2D at 0x1e344fee2e0>,\n",
       " <matplotlib.lines.Line2D at 0x1e344fee3a0>,\n",
       " <matplotlib.lines.Line2D at 0x1e344fee460>,\n",
       " <matplotlib.lines.Line2D at 0x1e344fee520>]"
      ]
     },
     "execution_count": 46,
     "metadata": {},
     "output_type": "execute_result"
    },
    {
     "data": {
      "image/png": "[encoded data removed]",
      "text/plain": [
       "<Figure size 432x288 with 1 Axes>"
      ]
     },
     "metadata": {
      "needs_background": "light"
     },
     "output_type": "display_data"
    }
   ],
   "source": [
    "plt.plot(data)"
   ]
  },
  {
   "cell_type": "code",
   "execution_count": 47,
   "metadata": {},
   "outputs": [],
   "source": [
    "#finding out the correlation"
   ]
  },
  {
   "cell_type": "code",
   "execution_count": 48,
   "metadata": {},
   "outputs": [
    {
     "data": {
      "text/html": [
       "<div>\n",
       "<style scoped>\n",
       "    .dataframe tbody tr th:only-of-type {\n",
       "        vertical-align: middle;\n",
       "    }\n",
       "\n",
       "    .dataframe tbody tr th {\n",
       "        vertical-align: top;\n",
       "    }\n",
       "\n",
       "    .dataframe thead th {\n",
       "        text-align: right;\n",
       "    }\n",
       "</style>\n",
       "<table border=\"1\" class=\"dataframe\">\n",
       "  <thead>\n",
       "    <tr style=\"text-align: right;\">\n",
       "      <th></th>\n",
       "      <th>Time</th>\n",
       "      <th>V1</th>\n",
       "      <th>V2</th>\n",
       "      <th>V3</th>\n",
       "      <th>V4</th>\n",
       "      <th>V5</th>\n",
       "      <th>V6</th>\n",
       "      <th>V7</th>\n",
       "      <th>V8</th>\n",
       "      <th>V9</th>\n",
       "      <th>...</th>\n",
       "      <th>V21</th>\n",
       "      <th>V22</th>\n",
       "      <th>V23</th>\n",
       "      <th>V24</th>\n",
       "      <th>V25</th>\n",
       "      <th>V26</th>\n",
       "      <th>V27</th>\n",
       "      <th>V28</th>\n",
       "      <th>Amount</th>\n",
       "      <th>Class</th>\n",
       "    </tr>\n",
       "  </thead>\n",
       "  <tbody>\n",
       "    <tr>\n",
       "      <th>Time</th>\n",
       "      <td>1.000000</td>\n",
       "      <td>0.149833</td>\n",
       "      <td>-0.016840</td>\n",
       "      <td>-0.485056</td>\n",
       "      <td>-0.133576</td>\n",
       "      <td>0.216774</td>\n",
       "      <td>-0.094803</td>\n",
       "      <td>0.114876</td>\n",
       "      <td>-0.087082</td>\n",
       "      <td>-0.000438</td>\n",
       "      <td>...</td>\n",
       "      <td>0.109520</td>\n",
       "      <td>0.147191</td>\n",
       "      <td>0.137375</td>\n",
       "      <td>-0.013516</td>\n",
       "      <td>-0.260823</td>\n",
       "      <td>-0.032924</td>\n",
       "      <td>-0.017084</td>\n",
       "      <td>-0.072701</td>\n",
       "      <td>-0.025844</td>\n",
       "      <td>-0.012323</td>\n",
       "    </tr>\n",
       "    <tr>\n",
       "      <th>V1</th>\n",
       "      <td>0.149833</td>\n",
       "      <td>1.000000</td>\n",
       "      <td>-0.329465</td>\n",
       "      <td>-0.327233</td>\n",
       "      <td>0.109643</td>\n",
       "      <td>-0.123681</td>\n",
       "      <td>-0.074518</td>\n",
       "      <td>-0.205330</td>\n",
       "      <td>-0.200583</td>\n",
       "      <td>0.120472</td>\n",
       "      <td>...</td>\n",
       "      <td>-0.068550</td>\n",
       "      <td>-0.034009</td>\n",
       "      <td>0.083867</td>\n",
       "      <td>0.005097</td>\n",
       "      <td>0.068115</td>\n",
       "      <td>-0.003524</td>\n",
       "      <td>-0.119419</td>\n",
       "      <td>-0.165624</td>\n",
       "      <td>-0.085345</td>\n",
       "      <td>-0.048393</td>\n",
       "    </tr>\n",
       "    <tr>\n",
       "      <th>V2</th>\n",
       "      <td>-0.016840</td>\n",
       "      <td>-0.329465</td>\n",
       "      <td>1.000000</td>\n",
       "      <td>0.054837</td>\n",
       "      <td>0.159148</td>\n",
       "      <td>0.285692</td>\n",
       "      <td>-0.102559</td>\n",
       "      <td>0.373288</td>\n",
       "      <td>0.029351</td>\n",
       "      <td>-0.038332</td>\n",
       "      <td>...</td>\n",
       "      <td>-0.109338</td>\n",
       "      <td>-0.048079</td>\n",
       "      <td>-0.069487</td>\n",
       "      <td>0.017854</td>\n",
       "      <td>-0.061647</td>\n",
       "      <td>0.005463</td>\n",
       "      <td>0.158356</td>\n",
       "      <td>0.116282</td>\n",
       "      <td>-0.523265</td>\n",
       "      <td>0.052525</td>\n",
       "    </tr>\n",
       "    <tr>\n",
       "      <th>V3</th>\n",
       "      <td>-0.485056</td>\n",
       "      <td>-0.327233</td>\n",
       "      <td>0.054837</td>\n",
       "      <td>1.000000</td>\n",
       "      <td>0.063292</td>\n",
       "      <td>-0.232069</td>\n",
       "      <td>0.123905</td>\n",
       "      <td>-0.082376</td>\n",
       "      <td>0.094918</td>\n",
       "      <td>-0.021874</td>\n",
       "      <td>...</td>\n",
       "      <td>-0.056668</td>\n",
       "      <td>-0.010740</td>\n",
       "      <td>-0.120024</td>\n",
       "      <td>0.001795</td>\n",
       "      <td>0.014708</td>\n",
       "      <td>-0.007030</td>\n",
       "      <td>0.114570</td>\n",
       "      <td>0.102977</td>\n",
       "      <td>-0.047377</td>\n",
       "      <td>-0.066234</td>\n",
       "    </tr>\n",
       "    <tr>\n",
       "      <th>V4</th>\n",
       "      <td>-0.133576</td>\n",
       "      <td>0.109643</td>\n",
       "      <td>0.159148</td>\n",
       "      <td>0.063292</td>\n",
       "      <td>1.000000</td>\n",
       "      <td>0.017235</td>\n",
       "      <td>0.080826</td>\n",
       "      <td>0.061958</td>\n",
       "      <td>-0.011871</td>\n",
       "      <td>0.065170</td>\n",
       "      <td>...</td>\n",
       "      <td>0.038397</td>\n",
       "      <td>-0.003579</td>\n",
       "      <td>0.014495</td>\n",
       "      <td>0.000899</td>\n",
       "      <td>0.036658</td>\n",
       "      <td>-0.040106</td>\n",
       "      <td>-0.037719</td>\n",
       "      <td>0.000553</td>\n",
       "      <td>-0.003359</td>\n",
       "      <td>0.077001</td>\n",
       "    </tr>\n",
       "    <tr>\n",
       "      <th>V5</th>\n",
       "      <td>0.216774</td>\n",
       "      <td>-0.123681</td>\n",
       "      <td>0.285692</td>\n",
       "      <td>-0.232069</td>\n",
       "      <td>0.017235</td>\n",
       "      <td>1.000000</td>\n",
       "      <td>0.080871</td>\n",
       "      <td>0.364840</td>\n",
       "      <td>0.011520</td>\n",
       "      <td>-0.048632</td>\n",
       "      <td>...</td>\n",
       "      <td>-0.035746</td>\n",
       "      <td>-0.010273</td>\n",
       "      <td>-0.088219</td>\n",
       "      <td>-0.009692</td>\n",
       "      <td>-0.000635</td>\n",
       "      <td>0.001601</td>\n",
       "      <td>0.042338</td>\n",
       "      <td>0.009833</td>\n",
       "      <td>-0.294484</td>\n",
       "      <td>-0.029909</td>\n",
       "    </tr>\n",
       "    <tr>\n",
       "      <th>V6</th>\n",
       "      <td>-0.094803</td>\n",
       "      <td>-0.074518</td>\n",
       "      <td>-0.102559</td>\n",
       "      <td>0.123905</td>\n",
       "      <td>0.080826</td>\n",
       "      <td>0.080871</td>\n",
       "      <td>1.000000</td>\n",
       "      <td>-0.275420</td>\n",
       "      <td>0.401309</td>\n",
       "      <td>0.025703</td>\n",
       "      <td>...</td>\n",
       "      <td>0.032789</td>\n",
       "      <td>0.038831</td>\n",
       "      <td>-0.028178</td>\n",
       "      <td>-0.156095</td>\n",
       "      <td>-0.018941</td>\n",
       "      <td>-0.002718</td>\n",
       "      <td>0.045528</td>\n",
       "      <td>0.006397</td>\n",
       "      <td>0.185777</td>\n",
       "      <td>-0.033970</td>\n",
       "    </tr>\n",
       "    <tr>\n",
       "      <th>V7</th>\n",
       "      <td>0.114876</td>\n",
       "      <td>-0.205330</td>\n",
       "      <td>0.373288</td>\n",
       "      <td>-0.082376</td>\n",
       "      <td>0.061958</td>\n",
       "      <td>0.364840</td>\n",
       "      <td>-0.275420</td>\n",
       "      <td>1.000000</td>\n",
       "      <td>-0.371865</td>\n",
       "      <td>-0.079628</td>\n",
       "      <td>...</td>\n",
       "      <td>-0.017462</td>\n",
       "      <td>-0.020765</td>\n",
       "      <td>-0.178706</td>\n",
       "      <td>-0.005418</td>\n",
       "      <td>-0.036389</td>\n",
       "      <td>0.001844</td>\n",
       "      <td>-0.054635</td>\n",
       "      <td>0.060204</td>\n",
       "      <td>0.037700</td>\n",
       "      <td>-0.053471</td>\n",
       "    </tr>\n",
       "    <tr>\n",
       "      <th>V8</th>\n",
       "      <td>-0.087082</td>\n",
       "      <td>-0.200583</td>\n",
       "      <td>0.029351</td>\n",
       "      <td>0.094918</td>\n",
       "      <td>-0.011871</td>\n",
       "      <td>0.011520</td>\n",
       "      <td>0.401309</td>\n",
       "      <td>-0.371865</td>\n",
       "      <td>1.000000</td>\n",
       "      <td>-0.010818</td>\n",
       "      <td>...</td>\n",
       "      <td>0.051486</td>\n",
       "      <td>0.001863</td>\n",
       "      <td>0.080011</td>\n",
       "      <td>-0.012775</td>\n",
       "      <td>-0.059232</td>\n",
       "      <td>-0.000832</td>\n",
       "      <td>0.130171</td>\n",
       "      <td>0.024909</td>\n",
       "      <td>-0.030989</td>\n",
       "      <td>0.027564</td>\n",
       "    </tr>\n",
       "    <tr>\n",
       "      <th>V9</th>\n",
       "      <td>-0.000438</td>\n",
       "      <td>0.120472</td>\n",
       "      <td>-0.038332</td>\n",
       "      <td>-0.021874</td>\n",
       "      <td>0.065170</td>\n",
       "      <td>-0.048632</td>\n",
       "      <td>0.025703</td>\n",
       "      <td>-0.079628</td>\n",
       "      <td>-0.010818</td>\n",
       "      <td>1.000000</td>\n",
       "      <td>...</td>\n",
       "      <td>-0.067261</td>\n",
       "      <td>0.010200</td>\n",
       "      <td>0.061289</td>\n",
       "      <td>-0.000346</td>\n",
       "      <td>-0.018750</td>\n",
       "      <td>0.026159</td>\n",
       "      <td>0.003624</td>\n",
       "      <td>-0.074154</td>\n",
       "      <td>-0.059309</td>\n",
       "      <td>-0.053187</td>\n",
       "    </tr>\n",
       "    <tr>\n",
       "      <th>V10</th>\n",
       "      <td>0.029783</td>\n",
       "      <td>0.177071</td>\n",
       "      <td>-0.184096</td>\n",
       "      <td>-0.061753</td>\n",
       "      <td>0.039746</td>\n",
       "      <td>-0.150551</td>\n",
       "      <td>0.051284</td>\n",
       "      <td>-0.209156</td>\n",
       "      <td>-0.119655</td>\n",
       "      <td>-0.315970</td>\n",
       "      <td>...</td>\n",
       "      <td>-0.069590</td>\n",
       "      <td>0.034327</td>\n",
       "      <td>0.075938</td>\n",
       "      <td>-0.002412</td>\n",
       "      <td>-0.036130</td>\n",
       "      <td>-0.026006</td>\n",
       "      <td>-0.008788</td>\n",
       "      <td>-0.081333</td>\n",
       "      <td>0.008881</td>\n",
       "      <td>-0.059415</td>\n",
       "    </tr>\n",
       "    <tr>\n",
       "      <th>V11</th>\n",
       "      <td>-0.241491</td>\n",
       "      <td>0.032248</td>\n",
       "      <td>-0.008659</td>\n",
       "      <td>0.053882</td>\n",
       "      <td>-0.020063</td>\n",
       "      <td>0.011808</td>\n",
       "      <td>0.046840</td>\n",
       "      <td>0.010228</td>\n",
       "      <td>0.015651</td>\n",
       "      <td>-0.016314</td>\n",
       "      <td>...</td>\n",
       "      <td>-0.001084</td>\n",
       "      <td>0.000130</td>\n",
       "      <td>0.025878</td>\n",
       "      <td>0.004527</td>\n",
       "      <td>-0.003917</td>\n",
       "      <td>-0.000797</td>\n",
       "      <td>-0.023227</td>\n",
       "      <td>-0.033499</td>\n",
       "      <td>-0.028545</td>\n",
       "      <td>0.060767</td>\n",
       "    </tr>\n",
       "    <tr>\n",
       "      <th>V12</th>\n",
       "      <td>0.082446</td>\n",
       "      <td>0.009354</td>\n",
       "      <td>0.065505</td>\n",
       "      <td>-0.056260</td>\n",
       "      <td>0.120747</td>\n",
       "      <td>-0.047095</td>\n",
       "      <td>0.032637</td>\n",
       "      <td>-0.033827</td>\n",
       "      <td>0.107211</td>\n",
       "      <td>0.080364</td>\n",
       "      <td>...</td>\n",
       "      <td>0.032606</td>\n",
       "      <td>-0.013158</td>\n",
       "      <td>0.074361</td>\n",
       "      <td>-0.003944</td>\n",
       "      <td>0.004009</td>\n",
       "      <td>0.016811</td>\n",
       "      <td>0.022583</td>\n",
       "      <td>-0.005966</td>\n",
       "      <td>-0.012483</td>\n",
       "      <td>-0.063929</td>\n",
       "    </tr>\n",
       "    <tr>\n",
       "      <th>V13</th>\n",
       "      <td>-0.055879</td>\n",
       "      <td>0.033747</td>\n",
       "      <td>0.025302</td>\n",
       "      <td>0.011536</td>\n",
       "      <td>-0.019121</td>\n",
       "      <td>0.016585</td>\n",
       "      <td>-0.003589</td>\n",
       "      <td>-0.020010</td>\n",
       "      <td>-0.110472</td>\n",
       "      <td>-0.030840</td>\n",
       "      <td>...</td>\n",
       "      <td>-0.046841</td>\n",
       "      <td>0.007231</td>\n",
       "      <td>0.002874</td>\n",
       "      <td>-0.004856</td>\n",
       "      <td>0.002161</td>\n",
       "      <td>-0.006154</td>\n",
       "      <td>-0.003640</td>\n",
       "      <td>-0.009998</td>\n",
       "      <td>-0.021267</td>\n",
       "      <td>-0.004202</td>\n",
       "    </tr>\n",
       "    <tr>\n",
       "      <th>V14</th>\n",
       "      <td>-0.116616</td>\n",
       "      <td>-0.021943</td>\n",
       "      <td>0.075741</td>\n",
       "      <td>-0.097792</td>\n",
       "      <td>0.083008</td>\n",
       "      <td>0.009702</td>\n",
       "      <td>-0.049357</td>\n",
       "      <td>0.028276</td>\n",
       "      <td>0.066590</td>\n",
       "      <td>-0.008974</td>\n",
       "      <td>...</td>\n",
       "      <td>0.083032</td>\n",
       "      <td>-0.007416</td>\n",
       "      <td>0.025065</td>\n",
       "      <td>-0.015524</td>\n",
       "      <td>0.021638</td>\n",
       "      <td>0.000040</td>\n",
       "      <td>-0.054517</td>\n",
       "      <td>0.005320</td>\n",
       "      <td>-0.004782</td>\n",
       "      <td>-0.075668</td>\n",
       "    </tr>\n",
       "    <tr>\n",
       "      <th>V15</th>\n",
       "      <td>-0.198912</td>\n",
       "      <td>0.043605</td>\n",
       "      <td>0.043240</td>\n",
       "      <td>0.035132</td>\n",
       "      <td>0.017013</td>\n",
       "      <td>-0.017577</td>\n",
       "      <td>-0.042983</td>\n",
       "      <td>-0.040320</td>\n",
       "      <td>-0.014034</td>\n",
       "      <td>-0.005454</td>\n",
       "      <td>...</td>\n",
       "      <td>0.030490</td>\n",
       "      <td>-0.002255</td>\n",
       "      <td>0.032124</td>\n",
       "      <td>0.007339</td>\n",
       "      <td>0.005504</td>\n",
       "      <td>-0.010960</td>\n",
       "      <td>0.011483</td>\n",
       "      <td>0.007452</td>\n",
       "      <td>-0.050847</td>\n",
       "      <td>-0.003310</td>\n",
       "    </tr>\n",
       "    <tr>\n",
       "      <th>V16</th>\n",
       "      <td>0.006783</td>\n",
       "      <td>0.030799</td>\n",
       "      <td>0.077420</td>\n",
       "      <td>-0.037190</td>\n",
       "      <td>-0.007344</td>\n",
       "      <td>-0.002399</td>\n",
       "      <td>-0.049060</td>\n",
       "      <td>-0.117638</td>\n",
       "      <td>0.078066</td>\n",
       "      <td>-0.022081</td>\n",
       "      <td>...</td>\n",
       "      <td>0.120160</td>\n",
       "      <td>-0.020076</td>\n",
       "      <td>0.036784</td>\n",
       "      <td>-0.011754</td>\n",
       "      <td>-0.003924</td>\n",
       "      <td>-0.002261</td>\n",
       "      <td>-0.038429</td>\n",
       "      <td>-0.022187</td>\n",
       "      <td>-0.102006</td>\n",
       "      <td>-0.059672</td>\n",
       "    </tr>\n",
       "    <tr>\n",
       "      <th>V17</th>\n",
       "      <td>-0.101059</td>\n",
       "      <td>-0.070318</td>\n",
       "      <td>0.009782</td>\n",
       "      <td>-0.070185</td>\n",
       "      <td>0.052886</td>\n",
       "      <td>-0.125759</td>\n",
       "      <td>0.010788</td>\n",
       "      <td>-0.151269</td>\n",
       "      <td>0.093568</td>\n",
       "      <td>-0.057540</td>\n",
       "      <td>...</td>\n",
       "      <td>-0.003635</td>\n",
       "      <td>0.016113</td>\n",
       "      <td>0.032810</td>\n",
       "      <td>0.028968</td>\n",
       "      <td>0.001246</td>\n",
       "      <td>-0.004223</td>\n",
       "      <td>0.035274</td>\n",
       "      <td>0.045516</td>\n",
       "      <td>0.040911</td>\n",
       "      <td>-0.038104</td>\n",
       "    </tr>\n",
       "    <tr>\n",
       "      <th>V18</th>\n",
       "      <td>0.090458</td>\n",
       "      <td>-0.047970</td>\n",
       "      <td>0.011135</td>\n",
       "      <td>-0.044839</td>\n",
       "      <td>0.021533</td>\n",
       "      <td>-0.019995</td>\n",
       "      <td>0.009321</td>\n",
       "      <td>-0.065436</td>\n",
       "      <td>0.043060</td>\n",
       "      <td>-0.010371</td>\n",
       "      <td>...</td>\n",
       "      <td>-0.005034</td>\n",
       "      <td>0.034658</td>\n",
       "      <td>-0.091119</td>\n",
       "      <td>-0.024219</td>\n",
       "      <td>-0.006772</td>\n",
       "      <td>0.001297</td>\n",
       "      <td>0.010886</td>\n",
       "      <td>0.026938</td>\n",
       "      <td>0.064142</td>\n",
       "      <td>-0.038148</td>\n",
       "    </tr>\n",
       "    <tr>\n",
       "      <th>V19</th>\n",
       "      <td>0.022857</td>\n",
       "      <td>0.007334</td>\n",
       "      <td>0.013934</td>\n",
       "      <td>-0.008330</td>\n",
       "      <td>-0.025118</td>\n",
       "      <td>0.003447</td>\n",
       "      <td>0.001459</td>\n",
       "      <td>0.002127</td>\n",
       "      <td>-0.030529</td>\n",
       "      <td>0.012858</td>\n",
       "      <td>...</td>\n",
       "      <td>-0.005059</td>\n",
       "      <td>-0.012103</td>\n",
       "      <td>-0.070098</td>\n",
       "      <td>-0.031030</td>\n",
       "      <td>0.005543</td>\n",
       "      <td>-0.022266</td>\n",
       "      <td>0.010296</td>\n",
       "      <td>-0.019250</td>\n",
       "      <td>-0.029538</td>\n",
       "      <td>0.023280</td>\n",
       "    </tr>\n",
       "    <tr>\n",
       "      <th>V20</th>\n",
       "      <td>-0.110127</td>\n",
       "      <td>-0.164609</td>\n",
       "      <td>-0.003132</td>\n",
       "      <td>0.083321</td>\n",
       "      <td>0.014390</td>\n",
       "      <td>0.053077</td>\n",
       "      <td>0.052960</td>\n",
       "      <td>0.149798</td>\n",
       "      <td>0.002347</td>\n",
       "      <td>0.012052</td>\n",
       "      <td>...</td>\n",
       "      <td>0.121714</td>\n",
       "      <td>0.042387</td>\n",
       "      <td>-0.169571</td>\n",
       "      <td>0.033691</td>\n",
       "      <td>0.051854</td>\n",
       "      <td>0.042227</td>\n",
       "      <td>0.108070</td>\n",
       "      <td>0.251323</td>\n",
       "      <td>0.260432</td>\n",
       "      <td>0.023472</td>\n",
       "    </tr>\n",
       "    <tr>\n",
       "      <th>V21</th>\n",
       "      <td>0.109520</td>\n",
       "      <td>-0.068550</td>\n",
       "      <td>-0.109338</td>\n",
       "      <td>-0.056668</td>\n",
       "      <td>0.038397</td>\n",
       "      <td>-0.035746</td>\n",
       "      <td>0.032789</td>\n",
       "      <td>-0.017462</td>\n",
       "      <td>0.051486</td>\n",
       "      <td>-0.067261</td>\n",
       "      <td>...</td>\n",
       "      <td>1.000000</td>\n",
       "      <td>0.637217</td>\n",
       "      <td>-0.218477</td>\n",
       "      <td>0.024987</td>\n",
       "      <td>0.016657</td>\n",
       "      <td>-0.018845</td>\n",
       "      <td>-0.035529</td>\n",
       "      <td>0.098893</td>\n",
       "      <td>0.194495</td>\n",
       "      <td>0.042445</td>\n",
       "    </tr>\n",
       "    <tr>\n",
       "      <th>V22</th>\n",
       "      <td>0.147191</td>\n",
       "      <td>-0.034009</td>\n",
       "      <td>-0.048079</td>\n",
       "      <td>-0.010740</td>\n",
       "      <td>-0.003579</td>\n",
       "      <td>-0.010273</td>\n",
       "      <td>0.038831</td>\n",
       "      <td>-0.020765</td>\n",
       "      <td>0.001863</td>\n",
       "      <td>0.010200</td>\n",
       "      <td>...</td>\n",
       "      <td>0.637217</td>\n",
       "      <td>1.000000</td>\n",
       "      <td>-0.214133</td>\n",
       "      <td>0.007183</td>\n",
       "      <td>0.014710</td>\n",
       "      <td>-0.022420</td>\n",
       "      <td>0.052930</td>\n",
       "      <td>0.005292</td>\n",
       "      <td>0.052235</td>\n",
       "      <td>0.002236</td>\n",
       "    </tr>\n",
       "    <tr>\n",
       "      <th>V23</th>\n",
       "      <td>0.137375</td>\n",
       "      <td>0.083867</td>\n",
       "      <td>-0.069487</td>\n",
       "      <td>-0.120024</td>\n",
       "      <td>0.014495</td>\n",
       "      <td>-0.088219</td>\n",
       "      <td>-0.028178</td>\n",
       "      <td>-0.178706</td>\n",
       "      <td>0.080011</td>\n",
       "      <td>0.061289</td>\n",
       "      <td>...</td>\n",
       "      <td>-0.218477</td>\n",
       "      <td>-0.214133</td>\n",
       "      <td>1.000000</td>\n",
       "      <td>0.094275</td>\n",
       "      <td>-0.401512</td>\n",
       "      <td>-0.030262</td>\n",
       "      <td>0.058291</td>\n",
       "      <td>-0.018156</td>\n",
       "      <td>-0.048943</td>\n",
       "      <td>-0.003553</td>\n",
       "    </tr>\n",
       "    <tr>\n",
       "      <th>V24</th>\n",
       "      <td>-0.013516</td>\n",
       "      <td>0.005097</td>\n",
       "      <td>0.017854</td>\n",
       "      <td>0.001795</td>\n",
       "      <td>0.000899</td>\n",
       "      <td>-0.009692</td>\n",
       "      <td>-0.156095</td>\n",
       "      <td>-0.005418</td>\n",
       "      <td>-0.012775</td>\n",
       "      <td>-0.000346</td>\n",
       "      <td>...</td>\n",
       "      <td>0.024987</td>\n",
       "      <td>0.007183</td>\n",
       "      <td>0.094275</td>\n",
       "      <td>1.000000</td>\n",
       "      <td>-0.001824</td>\n",
       "      <td>0.001958</td>\n",
       "      <td>-0.030340</td>\n",
       "      <td>0.039987</td>\n",
       "      <td>-0.020620</td>\n",
       "      <td>-0.008020</td>\n",
       "    </tr>\n",
       "    <tr>\n",
       "      <th>V25</th>\n",
       "      <td>-0.260823</td>\n",
       "      <td>0.068115</td>\n",
       "      <td>-0.061647</td>\n",
       "      <td>0.014708</td>\n",
       "      <td>0.036658</td>\n",
       "      <td>-0.000635</td>\n",
       "      <td>-0.018941</td>\n",
       "      <td>-0.036389</td>\n",
       "      <td>-0.059232</td>\n",
       "      <td>-0.018750</td>\n",
       "      <td>...</td>\n",
       "      <td>0.016657</td>\n",
       "      <td>0.014710</td>\n",
       "      <td>-0.401512</td>\n",
       "      <td>-0.001824</td>\n",
       "      <td>1.000000</td>\n",
       "      <td>-0.031280</td>\n",
       "      <td>-0.115673</td>\n",
       "      <td>-0.105804</td>\n",
       "      <td>0.017126</td>\n",
       "      <td>0.003948</td>\n",
       "    </tr>\n",
       "    <tr>\n",
       "      <th>V26</th>\n",
       "      <td>-0.032924</td>\n",
       "      <td>-0.003524</td>\n",
       "      <td>0.005463</td>\n",
       "      <td>-0.007030</td>\n",
       "      <td>-0.040106</td>\n",
       "      <td>0.001601</td>\n",
       "      <td>-0.002718</td>\n",
       "      <td>0.001844</td>\n",
       "      <td>-0.000832</td>\n",
       "      <td>0.026159</td>\n",
       "      <td>...</td>\n",
       "      <td>-0.018845</td>\n",
       "      <td>-0.022420</td>\n",
       "      <td>-0.030262</td>\n",
       "      <td>0.001958</td>\n",
       "      <td>-0.031280</td>\n",
       "      <td>1.000000</td>\n",
       "      <td>-0.128119</td>\n",
       "      <td>-0.017470</td>\n",
       "      <td>-0.017131</td>\n",
       "      <td>0.004792</td>\n",
       "    </tr>\n",
       "    <tr>\n",
       "      <th>V27</th>\n",
       "      <td>-0.017084</td>\n",
       "      <td>-0.119419</td>\n",
       "      <td>0.158356</td>\n",
       "      <td>0.114570</td>\n",
       "      <td>-0.037719</td>\n",
       "      <td>0.042338</td>\n",
       "      <td>0.045528</td>\n",
       "      <td>-0.054635</td>\n",
       "      <td>0.130171</td>\n",
       "      <td>0.003624</td>\n",
       "      <td>...</td>\n",
       "      <td>-0.035529</td>\n",
       "      <td>0.052930</td>\n",
       "      <td>0.058291</td>\n",
       "      <td>-0.030340</td>\n",
       "      <td>-0.115673</td>\n",
       "      <td>-0.128119</td>\n",
       "      <td>1.000000</td>\n",
       "      <td>0.466032</td>\n",
       "      <td>-0.129767</td>\n",
       "      <td>0.031035</td>\n",
       "    </tr>\n",
       "    <tr>\n",
       "      <th>V28</th>\n",
       "      <td>-0.072701</td>\n",
       "      <td>-0.165624</td>\n",
       "      <td>0.116282</td>\n",
       "      <td>0.102977</td>\n",
       "      <td>0.000553</td>\n",
       "      <td>0.009833</td>\n",
       "      <td>0.006397</td>\n",
       "      <td>0.060204</td>\n",
       "      <td>0.024909</td>\n",
       "      <td>-0.074154</td>\n",
       "      <td>...</td>\n",
       "      <td>0.098893</td>\n",
       "      <td>0.005292</td>\n",
       "      <td>-0.018156</td>\n",
       "      <td>0.039987</td>\n",
       "      <td>-0.105804</td>\n",
       "      <td>-0.017470</td>\n",
       "      <td>0.466032</td>\n",
       "      <td>1.000000</td>\n",
       "      <td>0.011426</td>\n",
       "      <td>0.028968</td>\n",
       "    </tr>\n",
       "    <tr>\n",
       "      <th>Amount</th>\n",
       "      <td>-0.025844</td>\n",
       "      <td>-0.085345</td>\n",
       "      <td>-0.523265</td>\n",
       "      <td>-0.047377</td>\n",
       "      <td>-0.003359</td>\n",
       "      <td>-0.294484</td>\n",
       "      <td>0.185777</td>\n",
       "      <td>0.037700</td>\n",
       "      <td>-0.030989</td>\n",
       "      <td>-0.059309</td>\n",
       "      <td>...</td>\n",
       "      <td>0.194495</td>\n",
       "      <td>0.052235</td>\n",
       "      <td>-0.048943</td>\n",
       "      <td>-0.020620</td>\n",
       "      <td>0.017126</td>\n",
       "      <td>-0.017131</td>\n",
       "      <td>-0.129767</td>\n",
       "      <td>0.011426</td>\n",
       "      <td>1.000000</td>\n",
       "      <td>0.003222</td>\n",
       "    </tr>\n",
       "    <tr>\n",
       "      <th>Class</th>\n",
       "      <td>-0.012323</td>\n",
       "      <td>-0.048393</td>\n",
       "      <td>0.052525</td>\n",
       "      <td>-0.066234</td>\n",
       "      <td>0.077001</td>\n",
       "      <td>-0.029909</td>\n",
       "      <td>-0.033970</td>\n",
       "      <td>-0.053471</td>\n",
       "      <td>0.027564</td>\n",
       "      <td>-0.053187</td>\n",
       "      <td>...</td>\n",
       "      <td>0.042445</td>\n",
       "      <td>0.002236</td>\n",
       "      <td>-0.003553</td>\n",
       "      <td>-0.008020</td>\n",
       "      <td>0.003948</td>\n",
       "      <td>0.004792</td>\n",
       "      <td>0.031035</td>\n",
       "      <td>0.028968</td>\n",
       "      <td>0.003222</td>\n",
       "      <td>1.000000</td>\n",
       "    </tr>\n",
       "  </tbody>\n",
       "</table>\n",
       "<p>31 rows × 31 columns</p>\n",
       "</div>"
      ],
      "text/plain": [
       "            Time        V1        V2        V3        V4        V5        V6  \\\n",
       "Time    1.000000  0.149833 -0.016840 -0.485056 -0.133576  0.216774 -0.094803   \n",
       "V1      0.149833  1.000000 -0.329465 -0.327233  0.109643 -0.123681 -0.074518   \n",
       "V2     -0.016840 -0.329465  1.000000  0.054837  0.159148  0.285692 -0.102559   \n",
       "V3     -0.485056 -0.327233  0.054837  1.000000  0.063292 -0.232069  0.123905   \n",
       "V4     -0.133576  0.109643  0.159148  0.063292  1.000000  0.017235  0.080826   \n",
       "V5      0.216774 -0.123681  0.285692 -0.232069  0.017235  1.000000  0.080871   \n",
       "V6     -0.094803 -0.074518 -0.102559  0.123905  0.080826  0.080871  1.000000   \n",
       "V7      0.114876 -0.205330  0.373288 -0.082376  0.061958  0.364840 -0.275420   \n",
       "V8     -0.087082 -0.200583  0.029351  0.094918 -0.011871  0.011520  0.401309   \n",
       "V9     -0.000438  0.120472 -0.038332 -0.021874  0.065170 -0.048632  0.025703   \n",
       "V10     0.029783  0.177071 -0.184096 -0.061753  0.039746 -0.150551  0.051284   \n",
       "V11    -0.241491  0.032248 -0.008659  0.053882 -0.020063  0.011808  0.046840   \n",
       "V12     0.082446  0.009354  0.065505 -0.056260  0.120747 -0.047095  0.032637   \n",
       "V13    -0.055879  0.033747  0.025302  0.011536 -0.019121  0.016585 -0.003589   \n",
       "V14    -0.116616 -0.021943  0.075741 -0.097792  0.083008  0.009702 -0.049357   \n",
       "V15    -0.198912  0.043605  0.043240  0.035132  0.017013 -0.017577 -0.042983   \n",
       "V16     0.006783  0.030799  0.077420 -0.037190 -0.007344 -0.002399 -0.049060   \n",
       "V17    -0.101059 -0.070318  0.009782 -0.070185  0.052886 -0.125759  0.010788   \n",
       "V18     0.090458 -0.047970  0.011135 -0.044839  0.021533 -0.019995  0.009321   \n",
       "V19     0.022857  0.007334  0.013934 -0.008330 -0.025118  0.003447  0.001459   \n",
       "V20    -0.110127 -0.164609 -0.003132  0.083321  0.014390  0.053077  0.052960   \n",
       "V21     0.109520 -0.068550 -0.109338 -0.056668  0.038397 -0.035746  0.032789   \n",
       "V22     0.147191 -0.034009 -0.048079 -0.010740 -0.003579 -0.010273  0.038831   \n",
       "V23     0.137375  0.083867 -0.069487 -0.120024  0.014495 -0.088219 -0.028178   \n",
       "V24    -0.013516  0.005097  0.017854  0.001795  0.000899 -0.009692 -0.156095   \n",
       "V25    -0.260823  0.068115 -0.061647  0.014708  0.036658 -0.000635 -0.018941   \n",
       "V26    -0.032924 -0.003524  0.005463 -0.007030 -0.040106  0.001601 -0.002718   \n",
       "V27    -0.017084 -0.119419  0.158356  0.114570 -0.037719  0.042338  0.045528   \n",
       "V28    -0.072701 -0.165624  0.116282  0.102977  0.000553  0.009833  0.006397   \n",
       "Amount -0.025844 -0.085345 -0.523265 -0.047377 -0.003359 -0.294484  0.185777   \n",
       "Class  -0.012323 -0.048393  0.052525 -0.066234  0.077001 -0.029909 -0.033970   \n",
       "\n",
       "              V7        V8        V9  ...       V21       V22       V23  \\\n",
       "Time    0.114876 -0.087082 -0.000438  ...  0.109520  0.147191  0.137375   \n",
       "V1     -0.205330 -0.200583  0.120472  ... -0.068550 -0.034009  0.083867   \n",
       "V2      0.373288  0.029351 -0.038332  ... -0.109338 -0.048079 -0.069487   \n",
       "V3     -0.082376  0.094918 -0.021874  ... -0.056668 -0.010740 -0.120024   \n",
       "V4      0.061958 -0.011871  0.065170  ...  0.038397 -0.003579  0.014495   \n",
       "V5      0.364840  0.011520 -0.048632  ... -0.035746 -0.010273 -0.088219   \n",
       "V6     -0.275420  0.401309  0.025703  ...  0.032789  0.038831 -0.028178   \n",
       "V7      1.000000 -0.371865 -0.079628  ... -0.017462 -0.020765 -0.178706   \n",
       "V8     -0.371865  1.000000 -0.010818  ...  0.051486  0.001863  0.080011   \n",
       "V9     -0.079628 -0.010818  1.000000  ... -0.067261  0.010200  0.061289   \n",
       "V10    -0.209156 -0.119655 -0.315970  ... -0.069590  0.034327  0.075938   \n",
       "V11     0.010228  0.015651 -0.016314  ... -0.001084  0.000130  0.025878   \n",
       "V12    -0.033827  0.107211  0.080364  ...  0.032606 -0.013158  0.074361   \n",
       "V13    -0.020010 -0.110472 -0.030840  ... -0.046841  0.007231  0.002874   \n",
       "V14     0.028276  0.066590 -0.008974  ...  0.083032 -0.007416  0.025065   \n",
       "V15    -0.040320 -0.014034 -0.005454  ...  0.030490 -0.002255  0.032124   \n",
       "V16    -0.117638  0.078066 -0.022081  ...  0.120160 -0.020076  0.036784   \n",
       "V17    -0.151269  0.093568 -0.057540  ... -0.003635  0.016113  0.032810   \n",
       "V18    -0.065436  0.043060 -0.010371  ... -0.005034  0.034658 -0.091119   \n",
       "V19     0.002127 -0.030529  0.012858  ... -0.005059 -0.012103 -0.070098   \n",
       "V20     0.149798  0.002347  0.012052  ...  0.121714  0.042387 -0.169571   \n",
       "V21    -0.017462  0.051486 -0.067261  ...  1.000000  0.637217 -0.218477   \n",
       "V22    -0.020765  0.001863  0.010200  ...  0.637217  1.000000 -0.214133   \n",
       "V23    -0.178706  0.080011  0.061289  ... -0.218477 -0.214133  1.000000   \n",
       "V24    -0.005418 -0.012775 -0.000346  ...  0.024987  0.007183  0.094275   \n",
       "V25    -0.036389 -0.059232 -0.018750  ...  0.016657  0.014710 -0.401512   \n",
       "V26     0.001844 -0.000832  0.026159  ... -0.018845 -0.022420 -0.030262   \n",
       "V27    -0.054635  0.130171  0.003624  ... -0.035529  0.052930  0.058291   \n",
       "V28     0.060204  0.024909 -0.074154  ...  0.098893  0.005292 -0.018156   \n",
       "Amount  0.037700 -0.030989 -0.059309  ...  0.194495  0.052235 -0.048943   \n",
       "Class  -0.053471  0.027564 -0.053187  ...  0.042445  0.002236 -0.003553   \n",
       "\n",
       "             V24       V25       V26       V27       V28    Amount     Class  \n",
       "Time   -0.013516 -0.260823 -0.032924 -0.017084 -0.072701 -0.025844 -0.012323  \n",
       "V1      0.005097  0.068115 -0.003524 -0.119419 -0.165624 -0.085345 -0.048393  \n",
       "V2      0.017854 -0.061647  0.005463  0.158356  0.116282 -0.523265  0.052525  \n",
       "V3      0.001795  0.014708 -0.007030  0.114570  0.102977 -0.047377 -0.066234  \n",
       "V4      0.000899  0.036658 -0.040106 -0.037719  0.000553 -0.003359  0.077001  \n",
       "V5     -0.009692 -0.000635  0.001601  0.042338  0.009833 -0.294484 -0.029909  \n",
       "V6     -0.156095 -0.018941 -0.002718  0.045528  0.006397  0.185777 -0.033970  \n",
       "V7     -0.005418 -0.036389  0.001844 -0.054635  0.060204  0.037700 -0.053471  \n",
       "V8     -0.012775 -0.059232 -0.000832  0.130171  0.024909 -0.030989  0.027564  \n",
       "V9     -0.000346 -0.018750  0.026159  0.003624 -0.074154 -0.059309 -0.053187  \n",
       "V10    -0.002412 -0.036130 -0.026006 -0.008788 -0.081333  0.008881 -0.059415  \n",
       "V11     0.004527 -0.003917 -0.000797 -0.023227 -0.033499 -0.028545  0.060767  \n",
       "V12    -0.003944  0.004009  0.016811  0.022583 -0.005966 -0.012483 -0.063929  \n",
       "V13    -0.004856  0.002161 -0.006154 -0.003640 -0.009998 -0.021267 -0.004202  \n",
       "V14    -0.015524  0.021638  0.000040 -0.054517  0.005320 -0.004782 -0.075668  \n",
       "V15     0.007339  0.005504 -0.010960  0.011483  0.007452 -0.050847 -0.003310  \n",
       "V16    -0.011754 -0.003924 -0.002261 -0.038429 -0.022187 -0.102006 -0.059672  \n",
       "V17     0.028968  0.001246 -0.004223  0.035274  0.045516  0.040911 -0.038104  \n",
       "V18    -0.024219 -0.006772  0.001297  0.010886  0.026938  0.064142 -0.038148  \n",
       "V19    -0.031030  0.005543 -0.022266  0.010296 -0.019250 -0.029538  0.023280  \n",
       "V20     0.033691  0.051854  0.042227  0.108070  0.251323  0.260432  0.023472  \n",
       "V21     0.024987  0.016657 -0.018845 -0.035529  0.098893  0.194495  0.042445  \n",
       "V22     0.007183  0.014710 -0.022420  0.052930  0.005292  0.052235  0.002236  \n",
       "V23     0.094275 -0.401512 -0.030262  0.058291 -0.018156 -0.048943 -0.003553  \n",
       "V24     1.000000 -0.001824  0.001958 -0.030340  0.039987 -0.020620 -0.008020  \n",
       "V25    -0.001824  1.000000 -0.031280 -0.115673 -0.105804  0.017126  0.003948  \n",
       "V26     0.001958 -0.031280  1.000000 -0.128119 -0.017470 -0.017131  0.004792  \n",
       "V27    -0.030340 -0.115673 -0.128119  1.000000  0.466032 -0.129767  0.031035  \n",
       "V28     0.039987 -0.105804 -0.017470  0.466032  1.000000  0.011426  0.028968  \n",
       "Amount -0.020620  0.017126 -0.017131 -0.129767  0.011426  1.000000  0.003222  \n",
       "Class  -0.008020  0.003948  0.004792  0.031035  0.028968  0.003222  1.000000  \n",
       "\n",
       "[31 rows x 31 columns]"
      ]
     },
     "execution_count": 48,
     "metadata": {},
     "output_type": "execute_result"
    }
   ],
   "source": [
    "corr = data.corr()\n",
    "corr"
   ]
  },
  {
   "cell_type": "code",
   "execution_count": 49,
   "metadata": {},
   "outputs": [],
   "source": [
    "#importing the library for VIF"
   ]
  },
  {
   "cell_type": "code",
   "execution_count": 50,
   "metadata": {},
   "outputs": [],
   "source": [
    "from sklearn.linear_model import LinearRegression\n",
    "from sklearn.model_selection import train_test_split\n",
    "from statsmodels.stats.outliers_influence import variance_inflation_factor"
   ]
  },
  {
   "cell_type": "code",
   "execution_count": 51,
   "metadata": {},
   "outputs": [],
   "source": [
    "#Finding out the VIF Value"
   ]
  },
  {
   "cell_type": "code",
   "execution_count": 52,
   "metadata": {},
   "outputs": [],
   "source": [
    "x = data['Class']\n",
    "y = data.drop(['Time','Class','V7'],axis=1)"
   ]
  },
  {
   "cell_type": "code",
   "execution_count": 53,
   "metadata": {},
   "outputs": [],
   "source": [
    "x = x.values.reshape(-1,1)"
   ]
  },
  {
   "cell_type": "code",
   "execution_count": 54,
   "metadata": {},
   "outputs": [],
   "source": [
    "model = LinearRegression()\n",
    "model = model.fit(x, y)"
   ]
  },
  {
   "cell_type": "code",
   "execution_count": 55,
   "metadata": {},
   "outputs": [
    {
     "name": "stdout",
     "output_type": "stream",
     "text": [
      "1.5873476201672905\n",
      "1.6994741923907788\n",
      "1.7107449480202646\n",
      "1.3020727289643732\n",
      "1.5847215353105475\n",
      "1.338817803843577\n",
      "1.4730219879527573\n",
      "1.2959857052316341\n",
      "1.6895905371881252\n",
      "1.364024481768258\n",
      "1.9208468701019625\n",
      "1.1039402552889308\n",
      "1.5462450862608275\n",
      "1.0448708486423284\n",
      "1.579462603366966\n",
      "2.133303071196535\n",
      "1.263812731493115\n",
      "1.1081511054911548\n",
      "1.3607459893734788\n",
      "2.069603994414252\n",
      "1.8521622429184148\n",
      "1.484792035978627\n",
      "1.0573617756968723\n",
      "1.2679468493450825\n",
      "1.0352591221201273\n",
      "1.4573166527213268\n",
      "1.4825703546505256\n",
      "1.2970648188659601\n"
     ]
    },
    {
     "data": {
      "text/html": [
       "<div>\n",
       "<style scoped>\n",
       "    .dataframe tbody tr th:only-of-type {\n",
       "        vertical-align: middle;\n",
       "    }\n",
       "\n",
       "    .dataframe tbody tr th {\n",
       "        vertical-align: top;\n",
       "    }\n",
       "\n",
       "    .dataframe thead th {\n",
       "        text-align: right;\n",
       "    }\n",
       "</style>\n",
       "<table border=\"1\" class=\"dataframe\">\n",
       "  <thead>\n",
       "    <tr style=\"text-align: right;\">\n",
       "      <th></th>\n",
       "      <th>VIF Factor</th>\n",
       "      <th>features</th>\n",
       "    </tr>\n",
       "  </thead>\n",
       "  <tbody>\n",
       "    <tr>\n",
       "      <th>0</th>\n",
       "      <td>1.587348</td>\n",
       "      <td>V1</td>\n",
       "    </tr>\n",
       "    <tr>\n",
       "      <th>1</th>\n",
       "      <td>1.699474</td>\n",
       "      <td>V2</td>\n",
       "    </tr>\n",
       "    <tr>\n",
       "      <th>2</th>\n",
       "      <td>1.710745</td>\n",
       "      <td>V3</td>\n",
       "    </tr>\n",
       "    <tr>\n",
       "      <th>3</th>\n",
       "      <td>1.302073</td>\n",
       "      <td>V4</td>\n",
       "    </tr>\n",
       "    <tr>\n",
       "      <th>4</th>\n",
       "      <td>1.584722</td>\n",
       "      <td>V5</td>\n",
       "    </tr>\n",
       "    <tr>\n",
       "      <th>5</th>\n",
       "      <td>1.338818</td>\n",
       "      <td>V6</td>\n",
       "    </tr>\n",
       "    <tr>\n",
       "      <th>6</th>\n",
       "      <td>1.473022</td>\n",
       "      <td>V8</td>\n",
       "    </tr>\n",
       "    <tr>\n",
       "      <th>7</th>\n",
       "      <td>1.295986</td>\n",
       "      <td>V9</td>\n",
       "    </tr>\n",
       "    <tr>\n",
       "      <th>8</th>\n",
       "      <td>1.689591</td>\n",
       "      <td>V10</td>\n",
       "    </tr>\n",
       "    <tr>\n",
       "      <th>9</th>\n",
       "      <td>1.364024</td>\n",
       "      <td>V11</td>\n",
       "    </tr>\n",
       "    <tr>\n",
       "      <th>10</th>\n",
       "      <td>1.920847</td>\n",
       "      <td>V12</td>\n",
       "    </tr>\n",
       "    <tr>\n",
       "      <th>11</th>\n",
       "      <td>1.103940</td>\n",
       "      <td>V13</td>\n",
       "    </tr>\n",
       "    <tr>\n",
       "      <th>12</th>\n",
       "      <td>1.546245</td>\n",
       "      <td>V14</td>\n",
       "    </tr>\n",
       "    <tr>\n",
       "      <th>13</th>\n",
       "      <td>1.044871</td>\n",
       "      <td>V15</td>\n",
       "    </tr>\n",
       "    <tr>\n",
       "      <th>14</th>\n",
       "      <td>1.579463</td>\n",
       "      <td>V16</td>\n",
       "    </tr>\n",
       "    <tr>\n",
       "      <th>15</th>\n",
       "      <td>2.133303</td>\n",
       "      <td>V17</td>\n",
       "    </tr>\n",
       "    <tr>\n",
       "      <th>16</th>\n",
       "      <td>1.263813</td>\n",
       "      <td>V18</td>\n",
       "    </tr>\n",
       "    <tr>\n",
       "      <th>17</th>\n",
       "      <td>1.108151</td>\n",
       "      <td>V19</td>\n",
       "    </tr>\n",
       "    <tr>\n",
       "      <th>18</th>\n",
       "      <td>1.360746</td>\n",
       "      <td>V20</td>\n",
       "    </tr>\n",
       "    <tr>\n",
       "      <th>19</th>\n",
       "      <td>2.069604</td>\n",
       "      <td>V21</td>\n",
       "    </tr>\n",
       "    <tr>\n",
       "      <th>20</th>\n",
       "      <td>1.852162</td>\n",
       "      <td>V22</td>\n",
       "    </tr>\n",
       "    <tr>\n",
       "      <th>21</th>\n",
       "      <td>1.484792</td>\n",
       "      <td>V23</td>\n",
       "    </tr>\n",
       "    <tr>\n",
       "      <th>22</th>\n",
       "      <td>1.057362</td>\n",
       "      <td>V24</td>\n",
       "    </tr>\n",
       "    <tr>\n",
       "      <th>23</th>\n",
       "      <td>1.267947</td>\n",
       "      <td>V25</td>\n",
       "    </tr>\n",
       "    <tr>\n",
       "      <th>24</th>\n",
       "      <td>1.035259</td>\n",
       "      <td>V26</td>\n",
       "    </tr>\n",
       "    <tr>\n",
       "      <th>25</th>\n",
       "      <td>1.457317</td>\n",
       "      <td>V27</td>\n",
       "    </tr>\n",
       "    <tr>\n",
       "      <th>26</th>\n",
       "      <td>1.482570</td>\n",
       "      <td>V28</td>\n",
       "    </tr>\n",
       "    <tr>\n",
       "      <th>27</th>\n",
       "      <td>1.297065</td>\n",
       "      <td>Amount</td>\n",
       "    </tr>\n",
       "  </tbody>\n",
       "</table>\n",
       "</div>"
      ],
      "text/plain": [
       "    VIF Factor features\n",
       "0     1.587348       V1\n",
       "1     1.699474       V2\n",
       "2     1.710745       V3\n",
       "3     1.302073       V4\n",
       "4     1.584722       V5\n",
       "5     1.338818       V6\n",
       "6     1.473022       V8\n",
       "7     1.295986       V9\n",
       "8     1.689591      V10\n",
       "9     1.364024      V11\n",
       "10    1.920847      V12\n",
       "11    1.103940      V13\n",
       "12    1.546245      V14\n",
       "13    1.044871      V15\n",
       "14    1.579463      V16\n",
       "15    2.133303      V17\n",
       "16    1.263813      V18\n",
       "17    1.108151      V19\n",
       "18    1.360746      V20\n",
       "19    2.069604      V21\n",
       "20    1.852162      V22\n",
       "21    1.484792      V23\n",
       "22    1.057362      V24\n",
       "23    1.267947      V25\n",
       "24    1.035259      V26\n",
       "25    1.457317      V27\n",
       "26    1.482570      V28\n",
       "27    1.297065   Amount"
      ]
     },
     "execution_count": 55,
     "metadata": {},
     "output_type": "execute_result"
    }
   ],
   "source": [
    "vif = pd.DataFrame()\n",
    "vif[\"VIF Factor\"] = [variance_inflation_factor(y.values,i) for i in range(y.shape[1])]\n",
    "vif[\"features\"] = y.columns\n",
    "[variance_inflation_factor(y.values,i) for i in range(y.shape[1])]\n",
    "for i in range(y.shape[1]):\n",
    "    a = variance_inflation_factor(y.values,i)\n",
    "    print(a)\n",
    "vif"
   ]
  },
  {
   "cell_type": "code",
   "execution_count": 56,
   "metadata": {},
   "outputs": [],
   "source": [
    "#Removed V7 as it has 2.6 VIF"
   ]
  },
  {
   "cell_type": "code",
   "execution_count": 57,
   "metadata": {},
   "outputs": [],
   "source": [
    "#making model on the basis of OLS (Method 1)"
   ]
  },
  {
   "cell_type": "code",
   "execution_count": 58,
   "metadata": {},
   "outputs": [],
   "source": [
    "import statsmodels.api as sm"
   ]
  },
  {
   "cell_type": "code",
   "execution_count": 59,
   "metadata": {},
   "outputs": [],
   "source": [
    "x = data.drop(columns=\"Class\")\n",
    "y = data.Class"
   ]
  },
  {
   "cell_type": "code",
   "execution_count": 63,
   "metadata": {},
   "outputs": [],
   "source": [
    "x_train, x_test, y_train, y_test = train_test_split(y,x, test_size=0.2)\n",
    "lm = sm.OLS(x_train,y_train).fit()"
   ]
  },
  {
   "cell_type": "code",
   "execution_count": 64,
   "metadata": {},
   "outputs": [
    {
     "name": "stdout",
     "output_type": "stream",
     "text": [
      "(227845,) (56962,) (227845, 30) (56962, 30)\n"
     ]
    }
   ],
   "source": [
    "print(x_train.shape, x_test.shape, y_train.shape, y_test.shape)"
   ]
  },
  {
   "cell_type": "code",
   "execution_count": 65,
   "metadata": {},
   "outputs": [
    {
     "data": {
      "text/html": [
       "<table class=\"simpletable\">\n",
       "<caption>OLS Regression Results</caption>\n",
       "<tr>\n",
       "  <th>Dep. Variable:</th>          <td>Class</td>      <th>  R-squared (uncentered):</th>       <td>   0.381</td> \n",
       "</tr>\n",
       "<tr>\n",
       "  <th>Model:</th>                   <td>OLS</td>       <th>  Adj. R-squared (uncentered):</th>  <td>   0.381</td> \n",
       "</tr>\n",
       "<tr>\n",
       "  <th>Method:</th>             <td>Least Squares</td>  <th>  F-statistic:       </th>           <td>   4674.</td> \n",
       "</tr>\n",
       "<tr>\n",
       "  <th>Date:</th>             <td>Mon, 09 Nov 2020</td> <th>  Prob (F-statistic):</th>            <td>  0.00</td>  \n",
       "</tr>\n",
       "<tr>\n",
       "  <th>Time:</th>                 <td>16:42:54</td>     <th>  Log-Likelihood:    </th>          <td>4.5474e+05</td>\n",
       "</tr>\n",
       "<tr>\n",
       "  <th>No. Observations:</th>      <td>227845</td>      <th>  AIC:               </th>          <td>-9.094e+05</td>\n",
       "</tr>\n",
       "<tr>\n",
       "  <th>Df Residuals:</th>          <td>227815</td>      <th>  BIC:               </th>          <td>-9.091e+05</td>\n",
       "</tr>\n",
       "<tr>\n",
       "  <th>Df Model:</th>              <td>    30</td>      <th>                     </th>               <td> </td>    \n",
       "</tr>\n",
       "<tr>\n",
       "  <th>Covariance Type:</th>      <td>nonrobust</td>    <th>                     </th>               <td> </td>    \n",
       "</tr>\n",
       "</table>\n",
       "<table class=\"simpletable\">\n",
       "<tr>\n",
       "     <td></td>       <th>coef</th>     <th>std err</th>      <th>t</th>      <th>P>|t|</th>  <th>[0.025</th>    <th>0.975]</th>  \n",
       "</tr>\n",
       "<tr>\n",
       "  <th>Time</th>   <td> 3.041e-08</td> <td> 1.17e-09</td> <td>   25.923</td> <td> 0.000</td> <td> 2.81e-08</td> <td> 3.27e-08</td>\n",
       "</tr>\n",
       "<tr>\n",
       "  <th>V1</th>     <td>   -0.0071</td> <td> 6.31e-05</td> <td> -112.882</td> <td> 0.000</td> <td>   -0.007</td> <td>   -0.007</td>\n",
       "</tr>\n",
       "<tr>\n",
       "  <th>V2</th>     <td>    0.0116</td> <td>    0.000</td> <td>  107.948</td> <td> 0.000</td> <td>    0.011</td> <td>    0.012</td>\n",
       "</tr>\n",
       "<tr>\n",
       "  <th>V3</th>     <td>   -0.0169</td> <td> 7.41e-05</td> <td> -228.725</td> <td> 0.000</td> <td>   -0.017</td> <td>   -0.017</td>\n",
       "</tr>\n",
       "<tr>\n",
       "  <th>V4</th>     <td>    0.0130</td> <td> 6.77e-05</td> <td>  191.813</td> <td> 0.000</td> <td>    0.013</td> <td>    0.013</td>\n",
       "</tr>\n",
       "<tr>\n",
       "  <th>V5</th>     <td>   -0.0114</td> <td> 9.61e-05</td> <td> -118.914</td> <td> 0.000</td> <td>   -0.012</td> <td>   -0.011</td>\n",
       "</tr>\n",
       "<tr>\n",
       "  <th>V6</th>     <td>   -0.0089</td> <td>    0.000</td> <td>  -88.940</td> <td> 0.000</td> <td>   -0.009</td> <td>   -0.009</td>\n",
       "</tr>\n",
       "<tr>\n",
       "  <th>V7</th>     <td>   -0.0311</td> <td>    0.000</td> <td> -211.628</td> <td> 0.000</td> <td>   -0.031</td> <td>   -0.031</td>\n",
       "</tr>\n",
       "<tr>\n",
       "  <th>V8</th>     <td>    0.0060</td> <td>    0.000</td> <td>   31.484</td> <td> 0.000</td> <td>    0.006</td> <td>    0.006</td>\n",
       "</tr>\n",
       "<tr>\n",
       "  <th>V9</th>     <td>   -0.0118</td> <td> 8.66e-05</td> <td> -136.646</td> <td> 0.000</td> <td>   -0.012</td> <td>   -0.012</td>\n",
       "</tr>\n",
       "<tr>\n",
       "  <th>V10</th>    <td>   -0.0294</td> <td>    0.000</td> <td> -230.923</td> <td> 0.000</td> <td>   -0.030</td> <td>   -0.029</td>\n",
       "</tr>\n",
       "<tr>\n",
       "  <th>V11</th>    <td>    0.0207</td> <td> 9.06e-05</td> <td>  228.542</td> <td> 0.000</td> <td>    0.021</td> <td>    0.021</td>\n",
       "</tr>\n",
       "<tr>\n",
       "  <th>V12</th>    <td>   -0.0402</td> <td>    0.000</td> <td> -279.691</td> <td> 0.000</td> <td>   -0.041</td> <td>   -0.040</td>\n",
       "</tr>\n",
       "<tr>\n",
       "  <th>V13</th>    <td>    0.0045</td> <td>  8.1e-05</td> <td>   55.364</td> <td> 0.000</td> <td>    0.004</td> <td>    0.005</td>\n",
       "</tr>\n",
       "<tr>\n",
       "  <th>V14</th>    <td>   -0.0305</td> <td>    0.000</td> <td> -248.708</td> <td> 0.000</td> <td>   -0.031</td> <td>   -0.030</td>\n",
       "</tr>\n",
       "<tr>\n",
       "  <th>V15</th>    <td>   -0.0031</td> <td> 8.63e-05</td> <td>  -35.933</td> <td> 0.000</td> <td>   -0.003</td> <td>   -0.003</td>\n",
       "</tr>\n",
       "<tr>\n",
       "  <th>V16</th>    <td>   -0.0329</td> <td>    0.000</td> <td> -257.194</td> <td> 0.000</td> <td>   -0.033</td> <td>   -0.033</td>\n",
       "</tr>\n",
       "<tr>\n",
       "  <th>V17</th>    <td>   -0.0538</td> <td>    0.000</td> <td> -299.257</td> <td> 0.000</td> <td>   -0.054</td> <td>   -0.053</td>\n",
       "</tr>\n",
       "<tr>\n",
       "  <th>V18</th>    <td>   -0.0217</td> <td>    0.000</td> <td> -194.685</td> <td> 0.000</td> <td>   -0.022</td> <td>   -0.021</td>\n",
       "</tr>\n",
       "<tr>\n",
       "  <th>V19</th>    <td>    0.0064</td> <td>    0.000</td> <td>   60.584</td> <td> 0.000</td> <td>    0.006</td> <td>    0.007</td>\n",
       "</tr>\n",
       "<tr>\n",
       "  <th>V20</th>    <td>    0.0029</td> <td>    0.000</td> <td>    9.244</td> <td> 0.000</td> <td>    0.002</td> <td>    0.003</td>\n",
       "</tr>\n",
       "<tr>\n",
       "  <th>V21</th>    <td>    0.0136</td> <td>    0.000</td> <td>   38.232</td> <td> 0.000</td> <td>    0.013</td> <td>    0.014</td>\n",
       "</tr>\n",
       "<tr>\n",
       "  <th>V22</th>    <td>   -0.0034</td> <td>    0.000</td> <td>  -23.424</td> <td> 0.000</td> <td>   -0.004</td> <td>   -0.003</td>\n",
       "</tr>\n",
       "<tr>\n",
       "  <th>V23</th>    <td>   -0.0036</td> <td>    0.000</td> <td>  -10.232</td> <td> 0.000</td> <td>   -0.004</td> <td>   -0.003</td>\n",
       "</tr>\n",
       "<tr>\n",
       "  <th>V24</th>    <td>   -0.0035</td> <td>    0.000</td> <td>  -27.380</td> <td> 0.000</td> <td>   -0.004</td> <td>   -0.003</td>\n",
       "</tr>\n",
       "<tr>\n",
       "  <th>V25</th>    <td>-3.985e-05</td> <td>    0.000</td> <td>   -0.222</td> <td> 0.824</td> <td>   -0.000</td> <td>    0.000</td>\n",
       "</tr>\n",
       "<tr>\n",
       "  <th>V26</th>    <td>    0.0022</td> <td>    0.000</td> <td>   13.978</td> <td> 0.000</td> <td>    0.002</td> <td>    0.003</td>\n",
       "</tr>\n",
       "<tr>\n",
       "  <th>V27</th>    <td>    0.0072</td> <td>    0.001</td> <td>   12.063</td> <td> 0.000</td> <td>    0.006</td> <td>    0.008</td>\n",
       "</tr>\n",
       "<tr>\n",
       "  <th>V28</th>    <td>    0.0045</td> <td>    0.001</td> <td>    5.869</td> <td> 0.000</td> <td>    0.003</td> <td>    0.006</td>\n",
       "</tr>\n",
       "<tr>\n",
       "  <th>Amount</th> <td> 5.007e-05</td> <td> 1.89e-06</td> <td>   26.474</td> <td> 0.000</td> <td> 4.64e-05</td> <td> 5.38e-05</td>\n",
       "</tr>\n",
       "</table>\n",
       "<table class=\"simpletable\">\n",
       "<tr>\n",
       "  <th>Omnibus:</th>       <td>432511.467</td> <th>  Durbin-Watson:     </th>    <td>   2.005</td>   \n",
       "</tr>\n",
       "<tr>\n",
       "  <th>Prob(Omnibus):</th>   <td> 0.000</td>   <th>  Jarque-Bera (JB):  </th> <td>1535216702.223</td>\n",
       "</tr>\n",
       "<tr>\n",
       "  <th>Skew:</th>            <td>14.472</td>   <th>  Prob(JB):          </th>    <td>    0.00</td>   \n",
       "</tr>\n",
       "<tr>\n",
       "  <th>Kurtosis:</th>        <td>404.091</td>  <th>  Cond. No.          </th>    <td>1.30e+06</td>   \n",
       "</tr>\n",
       "</table><br/><br/>Warnings:<br/>[1] Standard Errors assume that the covariance matrix of the errors is correctly specified.<br/>[2] The condition number is large, 1.3e+06. This might indicate that there are<br/>strong multicollinearity or other numerical problems."
      ],
      "text/plain": [
       "<class 'statsmodels.iolib.summary.Summary'>\n",
       "\"\"\"\n",
       "                                 OLS Regression Results                                \n",
       "=======================================================================================\n",
       "Dep. Variable:                  Class   R-squared (uncentered):                   0.381\n",
       "Model:                            OLS   Adj. R-squared (uncentered):              0.381\n",
       "Method:                 Least Squares   F-statistic:                              4674.\n",
       "Date:                Mon, 09 Nov 2020   Prob (F-statistic):                        0.00\n",
       "Time:                        16:42:54   Log-Likelihood:                      4.5474e+05\n",
       "No. Observations:              227845   AIC:                                 -9.094e+05\n",
       "Df Residuals:                  227815   BIC:                                 -9.091e+05\n",
       "Df Model:                          30                                                  \n",
       "Covariance Type:            nonrobust                                                  \n",
       "==============================================================================\n",
       "                 coef    std err          t      P>|t|      [0.025      0.975]\n",
       "------------------------------------------------------------------------------\n",
       "Time        3.041e-08   1.17e-09     25.923      0.000    2.81e-08    3.27e-08\n",
       "V1            -0.0071   6.31e-05   -112.882      0.000      -0.007      -0.007\n",
       "V2             0.0116      0.000    107.948      0.000       0.011       0.012\n",
       "V3            -0.0169   7.41e-05   -228.725      0.000      -0.017      -0.017\n",
       "V4             0.0130   6.77e-05    191.813      0.000       0.013       0.013\n",
       "V5            -0.0114   9.61e-05   -118.914      0.000      -0.012      -0.011\n",
       "V6            -0.0089      0.000    -88.940      0.000      -0.009      -0.009\n",
       "V7            -0.0311      0.000   -211.628      0.000      -0.031      -0.031\n",
       "V8             0.0060      0.000     31.484      0.000       0.006       0.006\n",
       "V9            -0.0118   8.66e-05   -136.646      0.000      -0.012      -0.012\n",
       "V10           -0.0294      0.000   -230.923      0.000      -0.030      -0.029\n",
       "V11            0.0207   9.06e-05    228.542      0.000       0.021       0.021\n",
       "V12           -0.0402      0.000   -279.691      0.000      -0.041      -0.040\n",
       "V13            0.0045    8.1e-05     55.364      0.000       0.004       0.005\n",
       "V14           -0.0305      0.000   -248.708      0.000      -0.031      -0.030\n",
       "V15           -0.0031   8.63e-05    -35.933      0.000      -0.003      -0.003\n",
       "V16           -0.0329      0.000   -257.194      0.000      -0.033      -0.033\n",
       "V17           -0.0538      0.000   -299.257      0.000      -0.054      -0.053\n",
       "V18           -0.0217      0.000   -194.685      0.000      -0.022      -0.021\n",
       "V19            0.0064      0.000     60.584      0.000       0.006       0.007\n",
       "V20            0.0029      0.000      9.244      0.000       0.002       0.003\n",
       "V21            0.0136      0.000     38.232      0.000       0.013       0.014\n",
       "V22           -0.0034      0.000    -23.424      0.000      -0.004      -0.003\n",
       "V23           -0.0036      0.000    -10.232      0.000      -0.004      -0.003\n",
       "V24           -0.0035      0.000    -27.380      0.000      -0.004      -0.003\n",
       "V25        -3.985e-05      0.000     -0.222      0.824      -0.000       0.000\n",
       "V26            0.0022      0.000     13.978      0.000       0.002       0.003\n",
       "V27            0.0072      0.001     12.063      0.000       0.006       0.008\n",
       "V28            0.0045      0.001      5.869      0.000       0.003       0.006\n",
       "Amount      5.007e-05   1.89e-06     26.474      0.000    4.64e-05    5.38e-05\n",
       "==============================================================================\n",
       "Omnibus:                   432511.467   Durbin-Watson:                   2.005\n",
       "Prob(Omnibus):                  0.000   Jarque-Bera (JB):       1535216702.223\n",
       "Skew:                          14.472   Prob(JB):                         0.00\n",
       "Kurtosis:                     404.091   Cond. No.                     1.30e+06\n",
       "==============================================================================\n",
       "\n",
       "Warnings:\n",
       "[1] Standard Errors assume that the covariance matrix of the errors is correctly specified.\n",
       "[2] The condition number is large, 1.3e+06. This might indicate that there are\n",
       "strong multicollinearity or other numerical problems.\n",
       "\"\"\""
      ]
     },
     "execution_count": 65,
     "metadata": {},
     "output_type": "execute_result"
    }
   ],
   "source": [
    "lm.summary()"
   ]
  },
  {
   "cell_type": "code",
   "execution_count": 70,
   "metadata": {},
   "outputs": [],
   "source": [
    "final = lm.predict(y_test)\n",
    "prediction = list(map(round,final))"
   ]
  },
  {
   "cell_type": "code",
   "execution_count": 72,
   "metadata": {},
   "outputs": [],
   "source": [
    "from sklearn.metrics import confusion_matrix"
   ]
  },
  {
   "cell_type": "code",
   "execution_count": 73,
   "metadata": {},
   "outputs": [],
   "source": [
    "cm = confusion_matrix(x_test, prediction)"
   ]
  },
  {
   "cell_type": "code",
   "execution_count": 74,
   "metadata": {},
   "outputs": [
    {
     "data": {
      "text/plain": [
       "array([[56863,     5],\n",
       "       [   55,    39]], dtype=int64)"
      ]
     },
     "execution_count": 74,
     "metadata": {},
     "output_type": "execute_result"
    }
   ],
   "source": [
    "cm"
   ]
  },
  {
   "cell_type": "code",
   "execution_count": 75,
   "metadata": {},
   "outputs": [],
   "source": [
    "from sklearn.metrics import accuracy_score"
   ]
  },
  {
   "cell_type": "code",
   "execution_count": 76,
   "metadata": {},
   "outputs": [],
   "source": [
    "accuracy = accuracy_score(x_test, prediction)"
   ]
  },
  {
   "cell_type": "code",
   "execution_count": 77,
   "metadata": {},
   "outputs": [
    {
     "data": {
      "text/plain": [
       "0.9989466661985184"
      ]
     },
     "execution_count": 77,
     "metadata": {},
     "output_type": "execute_result"
    }
   ],
   "source": [
    "accuracy"
   ]
  }
 ],
 "metadata": {
  "kernelspec": {
   "display_name": "Python 3",
   "language": "python",
   "name": "python3"
  },
  "language_info": {
   "codemirror_mode": {
    "name": "ipython",
    "version": 3
   },
   "file_extension": ".py",
   "mimetype": "text/x-python",
   "name": "python",
   "nbconvert_exporter": "python",
   "pygments_lexer": "ipython3",
   "version": "3.8.3"
  }
 },
 "nbformat": 4,
 "nbformat_minor": 4
}
