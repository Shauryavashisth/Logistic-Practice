{
 "cells": [
  {
   "cell_type": "code",
   "execution_count": 416,
   "id": "e50023f3-e103-4d5d-91a4-1c919488269a",
   "metadata": {},
   "outputs": [],
   "source": [
    "import pandas as pd\n",
    "import numpy as np\n",
    "import matplotlib.pyplot as plt\n",
    "import seaborn as sns"
   ]
  },
  {
   "cell_type": "code",
   "execution_count": 417,
   "id": "bd350539-d29d-4fdc-a498-d33ab6eeb23c",
   "metadata": {},
   "outputs": [],
   "source": [
    "df = pd.read_csv(r\"D:\\Study\\BA\\Accidental Drug Related Deaths\\data.csv\")"
   ]
  },
  {
   "cell_type": "markdown",
   "id": "82c84be8-a445-4ba6-8889-e9c5310cd9f1",
   "metadata": {},
   "source": [
    "# Checking DataSet"
   ]
  },
  {
   "cell_type": "code",
   "execution_count": 418,
   "id": "34077ffc-c9d1-4eb2-8cc6-8e71f9c6b82f",
   "metadata": {},
   "outputs": [
    {
     "data": {
      "text/html": [
       "<div>\n",
       "<style scoped>\n",
       "    .dataframe tbody tr th:only-of-type {\n",
       "        vertical-align: middle;\n",
       "    }\n",
       "\n",
       "    .dataframe tbody tr th {\n",
       "        vertical-align: top;\n",
       "    }\n",
       "\n",
       "    .dataframe thead th {\n",
       "        text-align: right;\n",
       "    }\n",
       "</style>\n",
       "<table border=\"1\" class=\"dataframe\">\n",
       "  <thead>\n",
       "    <tr style=\"text-align: right;\">\n",
       "      <th></th>\n",
       "      <th>Case_Number</th>\n",
       "      <th>Date</th>\n",
       "      <th>Gender</th>\n",
       "      <th>Race</th>\n",
       "      <th>Age</th>\n",
       "      <th>City</th>\n",
       "      <th>State_Abbreviation</th>\n",
       "      <th>County</th>\n",
       "      <th>Death_City</th>\n",
       "      <th>Death_County</th>\n",
       "      <th>...</th>\n",
       "      <th>Is_Amphetamine</th>\n",
       "      <th>Is_Tramadol</th>\n",
       "      <th>Is_Morphine</th>\n",
       "      <th>Is_Hydromorphone</th>\n",
       "      <th>Other</th>\n",
       "      <th>Is_OpiateNOS</th>\n",
       "      <th>Is_Any_Opioid</th>\n",
       "      <th>Manner_of_Death</th>\n",
       "      <th>Latitude</th>\n",
       "      <th>Longitude</th>\n",
       "    </tr>\n",
       "  </thead>\n",
       "  <tbody>\n",
       "    <tr>\n",
       "      <th>0</th>\n",
       "      <td>14-0273</td>\n",
       "      <td>2014-06-28</td>\n",
       "      <td>NaN</td>\n",
       "      <td>NaN</td>\n",
       "      <td>NaN</td>\n",
       "      <td>NaN</td>\n",
       "      <td>NaN</td>\n",
       "      <td>NaN</td>\n",
       "      <td>NaN</td>\n",
       "      <td>NaN</td>\n",
       "      <td>...</td>\n",
       "      <td>NaN</td>\n",
       "      <td>NaN</td>\n",
       "      <td>NaN</td>\n",
       "      <td>NaN</td>\n",
       "      <td>NaN</td>\n",
       "      <td>NaN</td>\n",
       "      <td>NaN</td>\n",
       "      <td>Accident</td>\n",
       "      <td>41.575155</td>\n",
       "      <td>-72.738288</td>\n",
       "    </tr>\n",
       "    <tr>\n",
       "      <th>1</th>\n",
       "      <td>13-0102</td>\n",
       "      <td>2013-03-21</td>\n",
       "      <td>Male</td>\n",
       "      <td>Black</td>\n",
       "      <td>48.0</td>\n",
       "      <td>NORWALK</td>\n",
       "      <td>NaN</td>\n",
       "      <td>NaN</td>\n",
       "      <td>NORWALK</td>\n",
       "      <td>FAIRFIELD</td>\n",
       "      <td>...</td>\n",
       "      <td>NaN</td>\n",
       "      <td>NaN</td>\n",
       "      <td>NaN</td>\n",
       "      <td>NaN</td>\n",
       "      <td>NaN</td>\n",
       "      <td>NaN</td>\n",
       "      <td>NaN</td>\n",
       "      <td>Accident</td>\n",
       "      <td>NaN</td>\n",
       "      <td>NaN</td>\n",
       "    </tr>\n",
       "    <tr>\n",
       "      <th>2</th>\n",
       "      <td>16-0165</td>\n",
       "      <td>2016-03-13</td>\n",
       "      <td>Female</td>\n",
       "      <td>White</td>\n",
       "      <td>30.0</td>\n",
       "      <td>SANDY HOOK</td>\n",
       "      <td>CT</td>\n",
       "      <td>FAIRFIELD</td>\n",
       "      <td>DANBURY</td>\n",
       "      <td>NaN</td>\n",
       "      <td>...</td>\n",
       "      <td>NaN</td>\n",
       "      <td>NaN</td>\n",
       "      <td>NaN</td>\n",
       "      <td>NaN</td>\n",
       "      <td>NaN</td>\n",
       "      <td>NaN</td>\n",
       "      <td>True</td>\n",
       "      <td>Accident</td>\n",
       "      <td>41.393666</td>\n",
       "      <td>-73.451539</td>\n",
       "    </tr>\n",
       "    <tr>\n",
       "      <th>3</th>\n",
       "      <td>16-0208</td>\n",
       "      <td>2016-03-31</td>\n",
       "      <td>Male</td>\n",
       "      <td>White</td>\n",
       "      <td>23.0</td>\n",
       "      <td>RYE</td>\n",
       "      <td>NY</td>\n",
       "      <td>WESTCHESTER</td>\n",
       "      <td>GREENWICH</td>\n",
       "      <td>NaN</td>\n",
       "      <td>...</td>\n",
       "      <td>NaN</td>\n",
       "      <td>NaN</td>\n",
       "      <td>NaN</td>\n",
       "      <td>NaN</td>\n",
       "      <td>NaN</td>\n",
       "      <td>NaN</td>\n",
       "      <td>True</td>\n",
       "      <td>Accident</td>\n",
       "      <td>41.026526</td>\n",
       "      <td>-73.628549</td>\n",
       "    </tr>\n",
       "    <tr>\n",
       "      <th>4</th>\n",
       "      <td>13-0052</td>\n",
       "      <td>2013-02-13</td>\n",
       "      <td>Male</td>\n",
       "      <td>Asian, Other</td>\n",
       "      <td>22.0</td>\n",
       "      <td>FLUSHING</td>\n",
       "      <td>NaN</td>\n",
       "      <td>QUEENS</td>\n",
       "      <td>GREENWICH</td>\n",
       "      <td>FAIRFIELD</td>\n",
       "      <td>...</td>\n",
       "      <td>NaN</td>\n",
       "      <td>NaN</td>\n",
       "      <td>NaN</td>\n",
       "      <td>NaN</td>\n",
       "      <td>NaN</td>\n",
       "      <td>NaN</td>\n",
       "      <td>NaN</td>\n",
       "      <td>Accident</td>\n",
       "      <td>41.026526</td>\n",
       "      <td>-73.628549</td>\n",
       "    </tr>\n",
       "  </tbody>\n",
       "</table>\n",
       "<p>5 rows × 33 columns</p>\n",
       "</div>"
      ],
      "text/plain": [
       "  Case_Number        Date  Gender          Race   Age        City  \\\n",
       "0     14-0273  2014-06-28     NaN           NaN   NaN         NaN   \n",
       "1     13-0102  2013-03-21    Male         Black  48.0     NORWALK   \n",
       "2     16-0165  2016-03-13  Female         White  30.0  SANDY HOOK   \n",
       "3     16-0208  2016-03-31    Male         White  23.0         RYE   \n",
       "4     13-0052  2013-02-13    Male  Asian, Other  22.0    FLUSHING   \n",
       "\n",
       "  State_Abbreviation       County Death_City Death_County  ... Is_Amphetamine  \\\n",
       "0                NaN          NaN        NaN          NaN  ...            NaN   \n",
       "1                NaN          NaN    NORWALK    FAIRFIELD  ...            NaN   \n",
       "2                 CT    FAIRFIELD    DANBURY          NaN  ...            NaN   \n",
       "3                 NY  WESTCHESTER  GREENWICH          NaN  ...            NaN   \n",
       "4                NaN       QUEENS  GREENWICH    FAIRFIELD  ...            NaN   \n",
       "\n",
       "  Is_Tramadol Is_Morphine Is_Hydromorphone Other Is_OpiateNOS Is_Any_Opioid  \\\n",
       "0         NaN         NaN              NaN   NaN          NaN           NaN   \n",
       "1         NaN         NaN              NaN   NaN          NaN           NaN   \n",
       "2         NaN         NaN              NaN   NaN          NaN          True   \n",
       "3         NaN         NaN              NaN   NaN          NaN          True   \n",
       "4         NaN         NaN              NaN   NaN          NaN           NaN   \n",
       "\n",
       "  Manner_of_Death   Latitude  Longitude  \n",
       "0        Accident  41.575155 -72.738288  \n",
       "1        Accident        NaN        NaN  \n",
       "2        Accident  41.393666 -73.451539  \n",
       "3        Accident  41.026526 -73.628549  \n",
       "4        Accident  41.026526 -73.628549  \n",
       "\n",
       "[5 rows x 33 columns]"
      ]
     },
     "execution_count": 418,
     "metadata": {},
     "output_type": "execute_result"
    }
   ],
   "source": [
    "df.head()"
   ]
  },
  {
   "cell_type": "markdown",
   "id": "b51c7c78-cb55-4da5-9ce7-2f7ca66d4106",
   "metadata": {},
   "source": [
    "# Dropping variable that wont be included"
   ]
  },
  {
   "cell_type": "code",
   "execution_count": 419,
   "id": "ee45dcce-b781-4a45-8b7a-c590c8893935",
   "metadata": {},
   "outputs": [],
   "source": [
    "df = df.drop([\"Case_Number\",\"Date\",\"City\",\"State_Abbreviation\",\"County\",\"Death_City\",\"Death_County\",\"Immediate_Cause\",\"Description_of_Injury\",\"Latitude\",\"Longitude\",\"Injury_Place\",\"Other\",\"Is_Any_Opioid\"],axis=1)"
   ]
  },
  {
   "cell_type": "code",
   "execution_count": 420,
   "id": "e7ac70d0-c81d-44fc-8218-5e12d15efdfb",
   "metadata": {},
   "outputs": [
    {
     "data": {
      "text/html": [
       "<div>\n",
       "<style scoped>\n",
       "    .dataframe tbody tr th:only-of-type {\n",
       "        vertical-align: middle;\n",
       "    }\n",
       "\n",
       "    .dataframe tbody tr th {\n",
       "        vertical-align: top;\n",
       "    }\n",
       "\n",
       "    .dataframe thead th {\n",
       "        text-align: right;\n",
       "    }\n",
       "</style>\n",
       "<table border=\"1\" class=\"dataframe\">\n",
       "  <thead>\n",
       "    <tr style=\"text-align: right;\">\n",
       "      <th></th>\n",
       "      <th>Gender</th>\n",
       "      <th>Race</th>\n",
       "      <th>Age</th>\n",
       "      <th>Location</th>\n",
       "      <th>Is_Heroin</th>\n",
       "      <th>Is_Cocaine</th>\n",
       "      <th>Is_Fentanyl</th>\n",
       "      <th>Is_Oxycodone</th>\n",
       "      <th>Is_Oxymorphone</th>\n",
       "      <th>Is_EtOH</th>\n",
       "      <th>Is_Hydrocodone</th>\n",
       "      <th>Is_Benzodiazepine</th>\n",
       "      <th>Is_Methadone</th>\n",
       "      <th>Is_Amphetamine</th>\n",
       "      <th>Is_Tramadol</th>\n",
       "      <th>Is_Morphine</th>\n",
       "      <th>Is_Hydromorphone</th>\n",
       "      <th>Is_OpiateNOS</th>\n",
       "      <th>Manner_of_Death</th>\n",
       "    </tr>\n",
       "  </thead>\n",
       "  <tbody>\n",
       "    <tr>\n",
       "      <th>0</th>\n",
       "      <td>NaN</td>\n",
       "      <td>NaN</td>\n",
       "      <td>NaN</td>\n",
       "      <td>NaN</td>\n",
       "      <td>NaN</td>\n",
       "      <td>NaN</td>\n",
       "      <td>true</td>\n",
       "      <td>NaN</td>\n",
       "      <td>NaN</td>\n",
       "      <td>NaN</td>\n",
       "      <td>NaN</td>\n",
       "      <td>True</td>\n",
       "      <td>True</td>\n",
       "      <td>NaN</td>\n",
       "      <td>NaN</td>\n",
       "      <td>NaN</td>\n",
       "      <td>NaN</td>\n",
       "      <td>NaN</td>\n",
       "      <td>Accident</td>\n",
       "    </tr>\n",
       "    <tr>\n",
       "      <th>1</th>\n",
       "      <td>Male</td>\n",
       "      <td>Black</td>\n",
       "      <td>48.0</td>\n",
       "      <td>Hospital</td>\n",
       "      <td>NaN</td>\n",
       "      <td>True</td>\n",
       "      <td>NaN</td>\n",
       "      <td>NaN</td>\n",
       "      <td>NaN</td>\n",
       "      <td>NaN</td>\n",
       "      <td>NaN</td>\n",
       "      <td>NaN</td>\n",
       "      <td>NaN</td>\n",
       "      <td>NaN</td>\n",
       "      <td>NaN</td>\n",
       "      <td>NaN</td>\n",
       "      <td>NaN</td>\n",
       "      <td>NaN</td>\n",
       "      <td>Accident</td>\n",
       "    </tr>\n",
       "    <tr>\n",
       "      <th>2</th>\n",
       "      <td>Female</td>\n",
       "      <td>White</td>\n",
       "      <td>30.0</td>\n",
       "      <td>Hospital</td>\n",
       "      <td>True</td>\n",
       "      <td>True</td>\n",
       "      <td>NaN</td>\n",
       "      <td>NaN</td>\n",
       "      <td>NaN</td>\n",
       "      <td>NaN</td>\n",
       "      <td>NaN</td>\n",
       "      <td>NaN</td>\n",
       "      <td>NaN</td>\n",
       "      <td>NaN</td>\n",
       "      <td>NaN</td>\n",
       "      <td>NaN</td>\n",
       "      <td>NaN</td>\n",
       "      <td>NaN</td>\n",
       "      <td>Accident</td>\n",
       "    </tr>\n",
       "    <tr>\n",
       "      <th>3</th>\n",
       "      <td>Male</td>\n",
       "      <td>White</td>\n",
       "      <td>23.0</td>\n",
       "      <td>Hospital</td>\n",
       "      <td>True</td>\n",
       "      <td>NaN</td>\n",
       "      <td>true</td>\n",
       "      <td>NaN</td>\n",
       "      <td>NaN</td>\n",
       "      <td>NaN</td>\n",
       "      <td>NaN</td>\n",
       "      <td>NaN</td>\n",
       "      <td>NaN</td>\n",
       "      <td>NaN</td>\n",
       "      <td>NaN</td>\n",
       "      <td>NaN</td>\n",
       "      <td>NaN</td>\n",
       "      <td>NaN</td>\n",
       "      <td>Accident</td>\n",
       "    </tr>\n",
       "    <tr>\n",
       "      <th>4</th>\n",
       "      <td>Male</td>\n",
       "      <td>Asian, Other</td>\n",
       "      <td>22.0</td>\n",
       "      <td>Hospital</td>\n",
       "      <td>NaN</td>\n",
       "      <td>NaN</td>\n",
       "      <td>true</td>\n",
       "      <td>NaN</td>\n",
       "      <td>NaN</td>\n",
       "      <td>NaN</td>\n",
       "      <td>NaN</td>\n",
       "      <td>NaN</td>\n",
       "      <td>NaN</td>\n",
       "      <td>NaN</td>\n",
       "      <td>NaN</td>\n",
       "      <td>NaN</td>\n",
       "      <td>NaN</td>\n",
       "      <td>NaN</td>\n",
       "      <td>Accident</td>\n",
       "    </tr>\n",
       "  </tbody>\n",
       "</table>\n",
       "</div>"
      ],
      "text/plain": [
       "   Gender          Race   Age  Location Is_Heroin Is_Cocaine Is_Fentanyl  \\\n",
       "0     NaN           NaN   NaN       NaN       NaN        NaN        true   \n",
       "1    Male         Black  48.0  Hospital       NaN       True         NaN   \n",
       "2  Female         White  30.0  Hospital      True       True         NaN   \n",
       "3    Male         White  23.0  Hospital      True        NaN        true   \n",
       "4    Male  Asian, Other  22.0  Hospital       NaN        NaN        true   \n",
       "\n",
       "  Is_Oxycodone Is_Oxymorphone Is_EtOH Is_Hydrocodone Is_Benzodiazepine  \\\n",
       "0          NaN            NaN     NaN            NaN              True   \n",
       "1          NaN            NaN     NaN            NaN               NaN   \n",
       "2          NaN            NaN     NaN            NaN               NaN   \n",
       "3          NaN            NaN     NaN            NaN               NaN   \n",
       "4          NaN            NaN     NaN            NaN               NaN   \n",
       "\n",
       "  Is_Methadone Is_Amphetamine Is_Tramadol Is_Morphine Is_Hydromorphone  \\\n",
       "0         True            NaN         NaN         NaN              NaN   \n",
       "1          NaN            NaN         NaN         NaN              NaN   \n",
       "2          NaN            NaN         NaN         NaN              NaN   \n",
       "3          NaN            NaN         NaN         NaN              NaN   \n",
       "4          NaN            NaN         NaN         NaN              NaN   \n",
       "\n",
       "  Is_OpiateNOS Manner_of_Death  \n",
       "0          NaN        Accident  \n",
       "1          NaN        Accident  \n",
       "2          NaN        Accident  \n",
       "3          NaN        Accident  \n",
       "4          NaN        Accident  "
      ]
     },
     "execution_count": 420,
     "metadata": {},
     "output_type": "execute_result"
    }
   ],
   "source": [
    "df.head()"
   ]
  },
  {
   "cell_type": "code",
   "execution_count": 421,
   "id": "73f4628a-d102-42b1-8f64-8607028b3462",
   "metadata": {},
   "outputs": [
    {
     "name": "stdout",
     "output_type": "stream",
     "text": [
      "<class 'pandas.core.frame.DataFrame'>\n",
      "RangeIndex: 5104 entries, 0 to 5103\n",
      "Data columns (total 19 columns):\n",
      " #   Column             Non-Null Count  Dtype  \n",
      "---  ------             --------------  -----  \n",
      " 0   Gender             5098 non-null   object \n",
      " 1   Race               5091 non-null   object \n",
      " 2   Age                5101 non-null   float64\n",
      " 3   Location           5080 non-null   object \n",
      " 4   Is_Heroin          2529 non-null   object \n",
      " 5   Is_Cocaine         1521 non-null   object \n",
      " 6   Is_Fentanyl        2231 non-null   object \n",
      " 7   Is_Oxycodone       389 non-null    object \n",
      " 8   Is_Oxymorphone     607 non-null    object \n",
      " 9   Is_EtOH            108 non-null    object \n",
      " 10  Is_Hydrocodone     1247 non-null   object \n",
      " 11  Is_Benzodiazepine  118 non-null    object \n",
      " 12  Is_Methadone       1342 non-null   object \n",
      " 13  Is_Amphetamine     474 non-null    object \n",
      " 14  Is_Tramadol        159 non-null    object \n",
      " 15  Is_Morphine        130 non-null    object \n",
      " 16  Is_Hydromorphone   41 non-null     object \n",
      " 17  Is_OpiateNOS       87 non-null     object \n",
      " 18  Manner_of_Death    5094 non-null   object \n",
      "dtypes: float64(1), object(18)\n",
      "memory usage: 757.8+ KB\n"
     ]
    }
   ],
   "source": [
    "df.info()"
   ]
  },
  {
   "cell_type": "code",
   "execution_count": 422,
   "id": "52f2304c-c1db-4eba-98eb-6730b10c9b4c",
   "metadata": {},
   "outputs": [
    {
     "data": {
      "text/html": [
       "<div>\n",
       "<style scoped>\n",
       "    .dataframe tbody tr th:only-of-type {\n",
       "        vertical-align: middle;\n",
       "    }\n",
       "\n",
       "    .dataframe tbody tr th {\n",
       "        vertical-align: top;\n",
       "    }\n",
       "\n",
       "    .dataframe thead th {\n",
       "        text-align: right;\n",
       "    }\n",
       "</style>\n",
       "<table border=\"1\" class=\"dataframe\">\n",
       "  <thead>\n",
       "    <tr style=\"text-align: right;\">\n",
       "      <th></th>\n",
       "      <th>Age</th>\n",
       "    </tr>\n",
       "  </thead>\n",
       "  <tbody>\n",
       "    <tr>\n",
       "      <th>count</th>\n",
       "      <td>5101.000000</td>\n",
       "    </tr>\n",
       "    <tr>\n",
       "      <th>mean</th>\n",
       "      <td>41.967653</td>\n",
       "    </tr>\n",
       "    <tr>\n",
       "      <th>std</th>\n",
       "      <td>12.336298</td>\n",
       "    </tr>\n",
       "    <tr>\n",
       "      <th>min</th>\n",
       "      <td>14.000000</td>\n",
       "    </tr>\n",
       "    <tr>\n",
       "      <th>25%</th>\n",
       "      <td>32.000000</td>\n",
       "    </tr>\n",
       "    <tr>\n",
       "      <th>50%</th>\n",
       "      <td>42.000000</td>\n",
       "    </tr>\n",
       "    <tr>\n",
       "      <th>75%</th>\n",
       "      <td>52.000000</td>\n",
       "    </tr>\n",
       "    <tr>\n",
       "      <th>max</th>\n",
       "      <td>87.000000</td>\n",
       "    </tr>\n",
       "  </tbody>\n",
       "</table>\n",
       "</div>"
      ],
      "text/plain": [
       "               Age\n",
       "count  5101.000000\n",
       "mean     41.967653\n",
       "std      12.336298\n",
       "min      14.000000\n",
       "25%      32.000000\n",
       "50%      42.000000\n",
       "75%      52.000000\n",
       "max      87.000000"
      ]
     },
     "execution_count": 422,
     "metadata": {},
     "output_type": "execute_result"
    }
   ],
   "source": [
    "df.describe()"
   ]
  },
  {
   "cell_type": "markdown",
   "id": "6e70cf39-0440-4ea9-8bf5-5f7d496ccf02",
   "metadata": {},
   "source": [
    "# Unique in Target Variable"
   ]
  },
  {
   "cell_type": "code",
   "execution_count": 423,
   "id": "6a03d19b-729b-441f-bcb7-9fb5dd42c79e",
   "metadata": {},
   "outputs": [
    {
     "data": {
      "text/plain": [
       "array(['Accident', 'accident', nan, 'Pending', 'ACCIDENT', 'Natural'],\n",
       "      dtype=object)"
      ]
     },
     "execution_count": 423,
     "metadata": {},
     "output_type": "execute_result"
    }
   ],
   "source": [
    "df[\"Manner_of_Death\"].unique()"
   ]
  },
  {
   "cell_type": "code",
   "execution_count": 424,
   "id": "fa60bdd6-0964-4cc6-bf66-ac6d5740cbaf",
   "metadata": {},
   "outputs": [],
   "source": [
    "df[\"Manner_of_Death\"] = np.where(df[\"Manner_of_Death\"]==\"accident\",\"Accident\",df[\"Manner_of_Death\"])\n",
    "df[\"Manner_of_Death\"] = np.where(df[\"Manner_of_Death\"]==\"ACCIDENT\",\"Accident\",df[\"Manner_of_Death\"])"
   ]
  },
  {
   "cell_type": "code",
   "execution_count": 425,
   "id": "c0b57018-7a9d-41c5-87f1-3b03ee55063b",
   "metadata": {},
   "outputs": [
    {
     "data": {
      "text/plain": [
       "array(['Accident', nan, 'Pending', 'Natural'], dtype=object)"
      ]
     },
     "execution_count": 425,
     "metadata": {},
     "output_type": "execute_result"
    }
   ],
   "source": [
    "df[\"Manner_of_Death\"].unique()"
   ]
  },
  {
   "cell_type": "markdown",
   "id": "d0cbe795-dc77-49b6-a877-4cfc51ba64ab",
   "metadata": {},
   "source": [
    "### Dropping Which are null or Pending"
   ]
  },
  {
   "cell_type": "code",
   "execution_count": 426,
   "id": "81eece1c-bed4-41d9-a4ff-581a1aa7c586",
   "metadata": {},
   "outputs": [],
   "source": [
    "df = df.loc[~(df[\"Manner_of_Death\"].isnull()|(df[\"Manner_of_Death\"]==\"Pending\"))]"
   ]
  },
  {
   "cell_type": "code",
   "execution_count": 427,
   "id": "3793a979-07d9-4b0c-8d1c-db8bc029fa11",
   "metadata": {},
   "outputs": [
    {
     "data": {
      "text/plain": [
       "array(['Accident', 'Natural'], dtype=object)"
      ]
     },
     "execution_count": 427,
     "metadata": {},
     "output_type": "execute_result"
    }
   ],
   "source": [
    "df[\"Manner_of_Death\"].unique()"
   ]
  },
  {
   "cell_type": "markdown",
   "id": "f809aab8-6137-41d7-b93a-c902fa55c503",
   "metadata": {},
   "source": [
    "# Seprating Object and Numeric data"
   ]
  },
  {
   "cell_type": "code",
   "execution_count": 428,
   "id": "9fc24e32-e81d-41da-8916-38b572656568",
   "metadata": {},
   "outputs": [
    {
     "name": "stdout",
     "output_type": "stream",
     "text": [
      "<class 'pandas.core.frame.DataFrame'>\n",
      "Int64Index: 5080 entries, 0 to 5103\n",
      "Data columns (total 18 columns):\n",
      " #   Column             Non-Null Count  Dtype \n",
      "---  ------             --------------  ----- \n",
      " 0   Gender             5075 non-null   object\n",
      " 1   Race               5068 non-null   object\n",
      " 2   Location           5059 non-null   object\n",
      " 3   Is_Heroin          2522 non-null   object\n",
      " 4   Is_Cocaine         1514 non-null   object\n",
      " 5   Is_Fentanyl        2228 non-null   object\n",
      " 6   Is_Oxycodone       389 non-null    object\n",
      " 7   Is_Oxymorphone     603 non-null    object\n",
      " 8   Is_EtOH            108 non-null    object\n",
      " 9   Is_Hydrocodone     1242 non-null   object\n",
      " 10  Is_Benzodiazepine  116 non-null    object\n",
      " 11  Is_Methadone       1337 non-null   object\n",
      " 12  Is_Amphetamine     473 non-null    object\n",
      " 13  Is_Tramadol        159 non-null    object\n",
      " 14  Is_Morphine        130 non-null    object\n",
      " 15  Is_Hydromorphone   41 non-null     object\n",
      " 16  Is_OpiateNOS       85 non-null     object\n",
      " 17  Manner_of_Death    5080 non-null   object\n",
      "dtypes: object(18)\n",
      "memory usage: 754.1+ KB\n"
     ]
    }
   ],
   "source": [
    "Text = df.select_dtypes(include=\"object\").info()"
   ]
  },
  {
   "cell_type": "code",
   "execution_count": 429,
   "id": "13ade8b8-aca0-4b0b-b932-37db69322917",
   "metadata": {},
   "outputs": [
    {
     "name": "stdout",
     "output_type": "stream",
     "text": [
      "<class 'pandas.core.frame.DataFrame'>\n",
      "Int64Index: 5080 entries, 0 to 5103\n",
      "Data columns (total 1 columns):\n",
      " #   Column  Non-Null Count  Dtype  \n",
      "---  ------  --------------  -----  \n",
      " 0   Age     5078 non-null   float64\n",
      "dtypes: float64(1)\n",
      "memory usage: 79.4 KB\n"
     ]
    }
   ],
   "source": [
    "Num = df.select_dtypes(exclude=\"object\").info()"
   ]
  },
  {
   "cell_type": "markdown",
   "id": "e0cf830c-b50c-4d30-9373-4dc01b16e071",
   "metadata": {},
   "source": [
    "# Checking Unique Value"
   ]
  },
  {
   "cell_type": "code",
   "execution_count": 430,
   "id": "25ca912d-7192-4ca7-bd6a-81379a05d533",
   "metadata": {},
   "outputs": [
    {
     "data": {
      "text/plain": [
       "Gender                3\n",
       "Race                 11\n",
       "Age                  65\n",
       "Location              6\n",
       "Is_Heroin             1\n",
       "Is_Cocaine            1\n",
       "Is_Fentanyl           4\n",
       "Is_Oxycodone          1\n",
       "Is_Oxymorphone        1\n",
       "Is_EtOH               1\n",
       "Is_Hydrocodone        1\n",
       "Is_Benzodiazepine     1\n",
       "Is_Methadone          1\n",
       "Is_Amphetamine        1\n",
       "Is_Tramadol           1\n",
       "Is_Morphine           1\n",
       "Is_Hydromorphone      4\n",
       "Is_OpiateNOS          1\n",
       "Manner_of_Death       2\n",
       "dtype: int64"
      ]
     },
     "execution_count": 430,
     "metadata": {},
     "output_type": "execute_result"
    }
   ],
   "source": [
    "df.nunique()"
   ]
  },
  {
   "cell_type": "code",
   "execution_count": 431,
   "id": "cfe95598-f042-48e8-9988-c4c98ab1c4a8",
   "metadata": {},
   "outputs": [
    {
     "data": {
      "text/plain": [
       "array([nan, 'Male', 'Female', 'Unknown'], dtype=object)"
      ]
     },
     "execution_count": 431,
     "metadata": {},
     "output_type": "execute_result"
    }
   ],
   "source": [
    "df[\"Gender\"].unique()"
   ]
  },
  {
   "cell_type": "code",
   "execution_count": 432,
   "id": "466a88df-1a9b-47b4-bb74-d633526cfc1d",
   "metadata": {},
   "outputs": [],
   "source": [
    "df = df.loc[~(df[\"Gender\"].isnull()|(df[\"Gender\"]==\"Unknown\"))]"
   ]
  },
  {
   "cell_type": "code",
   "execution_count": 433,
   "id": "1b31ac98-8441-4e09-8f5a-56a98f37fade",
   "metadata": {},
   "outputs": [
    {
     "data": {
      "text/plain": [
       "array(['Black', 'White', 'Asian, Other', 'Hispanic, White', nan,\n",
       "       'Asian Indian', 'Hispanic, Black', 'Unknown', 'Other', 'Chinese',\n",
       "       'Native American, Other', 'Hawaiian'], dtype=object)"
      ]
     },
     "execution_count": 433,
     "metadata": {},
     "output_type": "execute_result"
    }
   ],
   "source": [
    "df[\"Race\"].unique()"
   ]
  },
  {
   "cell_type": "code",
   "execution_count": 434,
   "id": "b73c30c3-ad34-4e4a-a35b-cfe1fe6e3e40",
   "metadata": {},
   "outputs": [],
   "source": [
    "df[\"Race\"] = df[\"Race\"].fillna(df[\"Race\"].mode()[0])"
   ]
  },
  {
   "cell_type": "code",
   "execution_count": 435,
   "id": "77b982b8-8121-4019-a06f-147c18888763",
   "metadata": {},
   "outputs": [],
   "source": [
    "df[\"Age\"] = df[\"Age\"].fillna(df[\"Age\"].mean())"
   ]
  },
  {
   "cell_type": "code",
   "execution_count": 436,
   "id": "f626ac30-e7d9-44f6-a6df-8a6d164f0a07",
   "metadata": {},
   "outputs": [
    {
     "data": {
      "text/plain": [
       "array(['Hospital', 'Residence', 'Other', 'Nursing Home', nan,\n",
       "       'Convalescent Home', 'Hospice'], dtype=object)"
      ]
     },
     "execution_count": 436,
     "metadata": {},
     "output_type": "execute_result"
    }
   ],
   "source": [
    "df[\"Location\"].unique()"
   ]
  },
  {
   "cell_type": "code",
   "execution_count": 437,
   "id": "9b26c2f7-063d-4ca1-b53f-9bd247578c45",
   "metadata": {},
   "outputs": [],
   "source": [
    "df[\"Location\"] = df[\"Location\"].fillna(df[\"Location\"].mode()[0])"
   ]
  },
  {
   "cell_type": "code",
   "execution_count": 438,
   "id": "ba3156d7-cd64-42d1-bf00-ac6c33f404a7",
   "metadata": {},
   "outputs": [],
   "source": [
    "df[\"Is_Heroin\"] = np.where(df[\"Is_Heroin\"]==\"True\",1,0)"
   ]
  },
  {
   "cell_type": "code",
   "execution_count": 439,
   "id": "b3b28737-2925-47a4-8729-ec79f1cc8239",
   "metadata": {},
   "outputs": [],
   "source": [
    "df[\"Is_Cocaine\"] = np.where(df[\"Is_Cocaine\"]==\"True\",1,0)"
   ]
  },
  {
   "cell_type": "code",
   "execution_count": 440,
   "id": "4232f9c9-8874-43a4-9e3d-9eda47513eb9",
   "metadata": {},
   "outputs": [
    {
     "data": {
      "text/plain": [
       "array([nan, 'true', 'true-a', 'true pops', 'true (ptch)'], dtype=object)"
      ]
     },
     "execution_count": 440,
     "metadata": {},
     "output_type": "execute_result"
    }
   ],
   "source": [
    "df[\"Is_Fentanyl\"].unique()"
   ]
  },
  {
   "cell_type": "code",
   "execution_count": 441,
   "id": "e584455b-44e2-498e-89ed-284f1d27c09b",
   "metadata": {},
   "outputs": [],
   "source": [
    "df[\"Is_Fentanyl\"] = np.where(df[\"Is_Fentanyl\"]==\"true\",1,df[\"Is_Fentanyl\"])\n",
    "df[\"Is_Fentanyl\"] = np.where(df[\"Is_Fentanyl\"]==\"true-a\",1,df[\"Is_Fentanyl\"])\n",
    "df[\"Is_Fentanyl\"] = np.where(df[\"Is_Fentanyl\"]==\"true pops\",1,df[\"Is_Fentanyl\"])\n",
    "df[\"Is_Fentanyl\"] = np.where(df[\"Is_Fentanyl\"]==\"true (ptch)\",1,df[\"Is_Fentanyl\"])\n",
    "df[\"Is_Fentanyl\"] = np.where(df[\"Is_Fentanyl\"]==1,1,0)"
   ]
  },
  {
   "cell_type": "code",
   "execution_count": 442,
   "id": "29dc8ff2-60b8-4b28-950d-f850887eca87",
   "metadata": {},
   "outputs": [],
   "source": [
    "df[\"Is_Oxycodone\"] = np.where(df[\"Is_Oxycodone\"]==\"True\",1,0)"
   ]
  },
  {
   "cell_type": "code",
   "execution_count": 443,
   "id": "a8eab4ce-a401-4da8-8514-07035235d563",
   "metadata": {},
   "outputs": [],
   "source": [
    "df[\"Is_Oxymorphone\"] = np.where(df[\"Is_Oxymorphone\"]==\"True\",1,0)"
   ]
  },
  {
   "cell_type": "code",
   "execution_count": 444,
   "id": "9b0be97f-63a2-4bb0-966a-de5139260b22",
   "metadata": {},
   "outputs": [],
   "source": [
    "df[\"Is_EtOH\"] = np.where(df[\"Is_EtOH\"]==\"True\",1,0)"
   ]
  },
  {
   "cell_type": "code",
   "execution_count": 445,
   "id": "072559e1-fdce-4bbb-9579-5393341deefd",
   "metadata": {},
   "outputs": [],
   "source": [
    "df[\"Is_Hydrocodone\"] = np.where(df[\"Is_Hydrocodone\"]==\"True\",1,0)"
   ]
  },
  {
   "cell_type": "code",
   "execution_count": 446,
   "id": "51a1409e-ffb7-4d7c-a1d6-1e42440c444f",
   "metadata": {},
   "outputs": [],
   "source": [
    "df[\"Is_Benzodiazepine\"] = np.where(df[\"Is_Benzodiazepine\"]==\"True\",1,0)"
   ]
  },
  {
   "cell_type": "code",
   "execution_count": 447,
   "id": "c139eebb-d9a8-4cd4-abc6-75d480254ed1",
   "metadata": {},
   "outputs": [],
   "source": [
    "df[\"Is_Methadone\"] = np.where(df[\"Is_Methadone\"]==\"True\",1,0)"
   ]
  },
  {
   "cell_type": "code",
   "execution_count": 448,
   "id": "abec121e-40bf-44e8-ada0-85ddfa3eca37",
   "metadata": {},
   "outputs": [],
   "source": [
    "df[\"Is_Amphetamine\"] = np.where(df[\"Is_Amphetamine\"]==\"True\",1,0)"
   ]
  },
  {
   "cell_type": "code",
   "execution_count": 449,
   "id": "7882a026-bb67-4a59-9480-ac9ad4de91f2",
   "metadata": {},
   "outputs": [],
   "source": [
    "df[\"Is_Tramadol\"] = np.where(df[\"Is_Tramadol\"]==\"True\",1,0)"
   ]
  },
  {
   "cell_type": "code",
   "execution_count": 450,
   "id": "9216f6e5-0361-4c14-96ea-4e15b570728a",
   "metadata": {},
   "outputs": [],
   "source": [
    "df[\"Is_Morphine\"] = np.where(df[\"Is_Morphine\"]==\"True\",1,0)"
   ]
  },
  {
   "cell_type": "code",
   "execution_count": 451,
   "id": "f9602307-4dd5-43c0-bbf1-81989e582f58",
   "metadata": {},
   "outputs": [
    {
     "data": {
      "text/plain": [
       "array([nan, 'true', 'truees', 'falseo rx but straws', 'pcp falseeg'],\n",
       "      dtype=object)"
      ]
     },
     "execution_count": 451,
     "metadata": {},
     "output_type": "execute_result"
    }
   ],
   "source": [
    "df[\"Is_Hydromorphone\"].unique()"
   ]
  },
  {
   "cell_type": "code",
   "execution_count": 452,
   "id": "91ba218d-b8c4-4006-aac7-9a0ba536e990",
   "metadata": {},
   "outputs": [],
   "source": [
    "df[\"Is_Hydromorphone\"] = np.where(df[\"Is_Hydromorphone\"]==\"true\",1,df[\"Is_Hydromorphone\"])\n",
    "df[\"Is_Hydromorphone\"] = np.where(df[\"Is_Hydromorphone\"]==\"truees\",1,df[\"Is_Hydromorphone\"])\n",
    "df[\"Is_Hydromorphone\"] = np.where(df[\"Is_Hydromorphone\"]==\"falseo rx but straws\",2,df[\"Is_Hydromorphone\"])\n",
    "df[\"Is_Hydromorphone\"] = np.where(df[\"Is_Hydromorphone\"]==\"pcp falseeg\",3,df[\"Is_Hydromorphone\"])"
   ]
  },
  {
   "cell_type": "code",
   "execution_count": 453,
   "id": "26eff936-0265-4afd-8df3-60a5d3b71e34",
   "metadata": {},
   "outputs": [],
   "source": [
    "df[\"Is_Hydromorphone\"] = df[\"Is_Hydromorphone\"].fillna(0)"
   ]
  },
  {
   "cell_type": "code",
   "execution_count": 454,
   "id": "c7d173d3-12cf-4198-b280-3a5fc20b9ca1",
   "metadata": {},
   "outputs": [],
   "source": [
    "df[\"Is_OpiateNOS\"] = np.where(df[\"Is_OpiateNOS\"]==\"True\",1,0)"
   ]
  },
  {
   "cell_type": "markdown",
   "id": "d6c1746e-92ac-487a-a2dc-dfb2bb873660",
   "metadata": {},
   "source": [
    "# Missing Value"
   ]
  },
  {
   "cell_type": "code",
   "execution_count": 455,
   "id": "acb3a078-18a9-408c-b72c-945397325109",
   "metadata": {},
   "outputs": [
    {
     "data": {
      "text/plain": [
       "Gender               0\n",
       "Race                 0\n",
       "Age                  0\n",
       "Location             0\n",
       "Is_Heroin            0\n",
       "Is_Cocaine           0\n",
       "Is_Fentanyl          0\n",
       "Is_Oxycodone         0\n",
       "Is_Oxymorphone       0\n",
       "Is_EtOH              0\n",
       "Is_Hydrocodone       0\n",
       "Is_Benzodiazepine    0\n",
       "Is_Methadone         0\n",
       "Is_Amphetamine       0\n",
       "Is_Tramadol          0\n",
       "Is_Morphine          0\n",
       "Is_Hydromorphone     0\n",
       "Is_OpiateNOS         0\n",
       "Manner_of_Death      0\n",
       "dtype: int64"
      ]
     },
     "execution_count": 455,
     "metadata": {},
     "output_type": "execute_result"
    }
   ],
   "source": [
    "df.isna().sum()"
   ]
  },
  {
   "cell_type": "code",
   "execution_count": 456,
   "id": "9caea237-d83f-4835-8b19-0cbe3966dddc",
   "metadata": {},
   "outputs": [
    {
     "data": {
      "text/plain": [
       "Gender                2\n",
       "Race                 11\n",
       "Age                  65\n",
       "Location              6\n",
       "Is_Heroin             1\n",
       "Is_Cocaine            1\n",
       "Is_Fentanyl           2\n",
       "Is_Oxycodone          1\n",
       "Is_Oxymorphone        1\n",
       "Is_EtOH               1\n",
       "Is_Hydrocodone        1\n",
       "Is_Benzodiazepine     1\n",
       "Is_Methadone          1\n",
       "Is_Amphetamine        1\n",
       "Is_Tramadol           1\n",
       "Is_Morphine           1\n",
       "Is_Hydromorphone      4\n",
       "Is_OpiateNOS          1\n",
       "Manner_of_Death       2\n",
       "dtype: int64"
      ]
     },
     "execution_count": 456,
     "metadata": {},
     "output_type": "execute_result"
    }
   ],
   "source": [
    "df.nunique()"
   ]
  },
  {
   "cell_type": "code",
   "execution_count": 457,
   "id": "140d9116-934e-4c81-9f6f-301cc79bcb1b",
   "metadata": {},
   "outputs": [
    {
     "name": "stdout",
     "output_type": "stream",
     "text": [
      "<class 'pandas.core.frame.DataFrame'>\n",
      "Int64Index: 5074 entries, 1 to 5103\n",
      "Data columns (total 19 columns):\n",
      " #   Column             Non-Null Count  Dtype  \n",
      "---  ------             --------------  -----  \n",
      " 0   Gender             5074 non-null   object \n",
      " 1   Race               5074 non-null   object \n",
      " 2   Age                5074 non-null   float64\n",
      " 3   Location           5074 non-null   object \n",
      " 4   Is_Heroin          5074 non-null   int32  \n",
      " 5   Is_Cocaine         5074 non-null   int32  \n",
      " 6   Is_Fentanyl        5074 non-null   int32  \n",
      " 7   Is_Oxycodone       5074 non-null   int32  \n",
      " 8   Is_Oxymorphone     5074 non-null   int32  \n",
      " 9   Is_EtOH            5074 non-null   int32  \n",
      " 10  Is_Hydrocodone     5074 non-null   int32  \n",
      " 11  Is_Benzodiazepine  5074 non-null   int32  \n",
      " 12  Is_Methadone       5074 non-null   int32  \n",
      " 13  Is_Amphetamine     5074 non-null   int32  \n",
      " 14  Is_Tramadol        5074 non-null   int32  \n",
      " 15  Is_Morphine        5074 non-null   int32  \n",
      " 16  Is_Hydromorphone   5074 non-null   int64  \n",
      " 17  Is_OpiateNOS       5074 non-null   int32  \n",
      " 18  Manner_of_Death    5074 non-null   object \n",
      "dtypes: float64(1), int32(13), int64(1), object(4)\n",
      "memory usage: 535.1+ KB\n"
     ]
    }
   ],
   "source": [
    "df.info()"
   ]
  },
  {
   "cell_type": "code",
   "execution_count": 458,
   "id": "f784b11a-f6de-439a-9d1f-aa1ffdfa9cb4",
   "metadata": {},
   "outputs": [],
   "source": [
    "from sklearn.preprocessing import LabelEncoder\n",
    "le = LabelEncoder()\n",
    "df[\"Gender\"] = le.fit_transform(df[\"Gender\"])\n",
    "df[\"Race\"] = le.fit_transform(df[\"Race\"])\n",
    "df[\"Location\"] = le.fit_transform(df[\"Location\"])\n",
    "df[\"Manner_of_Death\"] = le.fit_transform(df[\"Manner_of_Death\"])"
   ]
  },
  {
   "cell_type": "code",
   "execution_count": 459,
   "id": "81912a92-0ef6-4b0b-a0e4-f92440303d37",
   "metadata": {},
   "outputs": [
    {
     "data": {
      "text/plain": [
       "array([0, 1])"
      ]
     },
     "execution_count": 459,
     "metadata": {},
     "output_type": "execute_result"
    }
   ],
   "source": [
    "df[\"Manner_of_Death\"].unique()"
   ]
  },
  {
   "cell_type": "code",
   "execution_count": 521,
   "id": "a1d1c9c4-a754-47ae-b47a-ece177d2cfa9",
   "metadata": {},
   "outputs": [],
   "source": [
    "x = df.drop(columns=[\"Manner_of_Death\"])\n",
    "y = df[\"Manner_of_Death\"]"
   ]
  },
  {
   "cell_type": "code",
   "execution_count": 522,
   "id": "e16316e3-b865-4213-9fda-cdc1ced549cb",
   "metadata": {},
   "outputs": [
    {
     "data": {
      "text/plain": [
       "((5074,), (5074, 18))"
      ]
     },
     "execution_count": 522,
     "metadata": {},
     "output_type": "execute_result"
    }
   ],
   "source": [
    "y.shape,x.shape"
   ]
  },
  {
   "cell_type": "code",
   "execution_count": 523,
   "id": "b595696b-d227-482b-9d03-a8b6d6c11887",
   "metadata": {},
   "outputs": [],
   "source": [
    "from sklearn.model_selection import train_test_split"
   ]
  },
  {
   "cell_type": "code",
   "execution_count": 531,
   "id": "35852698-fa3b-4c60-9efe-2c6227750c7d",
   "metadata": {},
   "outputs": [],
   "source": [
    "x_train, x_test, y_train, y_test = train_test_split(x,y,test_size=0.30,random_state=10)"
   ]
  },
  {
   "cell_type": "code",
   "execution_count": 532,
   "id": "52a937a2-2237-4157-b1c7-d9961615c127",
   "metadata": {},
   "outputs": [
    {
     "data": {
      "text/plain": [
       "((3551, 18), (1523, 18), (3551,), (1523,))"
      ]
     },
     "execution_count": 532,
     "metadata": {},
     "output_type": "execute_result"
    }
   ],
   "source": [
    "x_train.shape, x_test.shape, y_train.shape, y_test.shape"
   ]
  },
  {
   "cell_type": "code",
   "execution_count": 533,
   "id": "29ada349-770d-4f61-938c-3261c9ba7404",
   "metadata": {},
   "outputs": [],
   "source": [
    "from xgboost import XGBClassifier\n",
    "from sklearn.metrics import confusion_matrix\n",
    "from sklearn.metrics import accuracy_score"
   ]
  },
  {
   "cell_type": "code",
   "execution_count": 534,
   "id": "07ad2004-773d-4343-8527-c31e4998f615",
   "metadata": {},
   "outputs": [],
   "source": [
    "XGB = XGBClassifier(n_estimators=100,learning_rate=0.01,max_depth=5,min_child_weight=10,use_label_encoder=False)"
   ]
  },
  {
   "cell_type": "code",
   "execution_count": 535,
   "id": "c6352e9a-67d6-4835-a7b7-f74a622c176a",
   "metadata": {},
   "outputs": [
    {
     "data": {
      "text/plain": [
       "XGBClassifier(base_score=0.5, booster='gbtree', colsample_bylevel=1,\n",
       "              colsample_bynode=1, colsample_bytree=1, enable_categorical=False,\n",
       "              gamma=0, gpu_id=-1, importance_type=None,\n",
       "              interaction_constraints='', learning_rate=0.01, max_delta_step=0,\n",
       "              max_depth=5, min_child_weight=10, missing=nan,\n",
       "              monotone_constraints='()', n_estimators=100, n_jobs=8,\n",
       "              num_parallel_tree=1, predictor='auto', random_state=0,\n",
       "              reg_alpha=0, reg_lambda=1, scale_pos_weight=1, subsample=1,\n",
       "              tree_method='exact', use_label_encoder=False,\n",
       "              validate_parameters=1, verbosity=None)"
      ]
     },
     "execution_count": 535,
     "metadata": {},
     "output_type": "execute_result"
    }
   ],
   "source": [
    "Mat = [(x_test,y_test)]\n",
    "XGB.fit(x_train,y_train,eval_metric=[\"logloss\",\"error\"],eval_set=Mat,verbose=0)"
   ]
  },
  {
   "cell_type": "code",
   "execution_count": 536,
   "id": "7d2f0f91-0c04-4243-b088-cb7403d33d43",
   "metadata": {},
   "outputs": [],
   "source": [
    "predictXGB = XGB.predict(x_test)"
   ]
  },
  {
   "cell_type": "code",
   "execution_count": 537,
   "id": "7e0e2cad-2980-4398-b9de-c22fa8848c75",
   "metadata": {},
   "outputs": [
    {
     "data": {
      "text/plain": [
       "array([[1523]], dtype=int64)"
      ]
     },
     "execution_count": 537,
     "metadata": {},
     "output_type": "execute_result"
    }
   ],
   "source": [
    "confusion_matrix(predictXGB,y_test)"
   ]
  },
  {
   "cell_type": "code",
   "execution_count": 544,
   "id": "837aee7c-8a2e-44ac-8395-785e266f1775",
   "metadata": {},
   "outputs": [
    {
     "name": "stderr",
     "output_type": "stream",
     "text": [
      "D:\\Program\\lib\\site-packages\\statsmodels\\regression\\linear_model.py:1860: RuntimeWarning: divide by zero encountered in double_scalars\n",
      "  return np.sqrt(eigvals[0]/eigvals[-1])\n"
     ]
    },
    {
     "data": {
      "text/html": [
       "<table class=\"simpletable\">\n",
       "<caption>OLS Regression Results</caption>\n",
       "<tr>\n",
       "  <th>Dep. Variable:</th>     <td>Manner_of_Death</td> <th>  R-squared (uncentered):</th>       <td>   0.001</td> \n",
       "</tr>\n",
       "<tr>\n",
       "  <th>Model:</th>                   <td>OLS</td>       <th>  Adj. R-squared (uncentered):</th>  <td>  -0.001</td> \n",
       "</tr>\n",
       "<tr>\n",
       "  <th>Method:</th>             <td>Least Squares</td>  <th>  F-statistic:       </th>           <td>  0.5781</td> \n",
       "</tr>\n",
       "<tr>\n",
       "  <th>Date:</th>             <td>Wed, 26 Jan 2022</td> <th>  Prob (F-statistic):</th>            <td> 0.748</td>  \n",
       "</tr>\n",
       "<tr>\n",
       "  <th>Time:</th>                 <td>02:44:09</td>     <th>  Log-Likelihood:    </th>           <td>  9477.8</td> \n",
       "</tr>\n",
       "<tr>\n",
       "  <th>No. Observations:</th>      <td>  3551</td>      <th>  AIC:               </th>          <td>-1.894e+04</td>\n",
       "</tr>\n",
       "<tr>\n",
       "  <th>Df Residuals:</th>          <td>  3545</td>      <th>  BIC:               </th>          <td>-1.891e+04</td>\n",
       "</tr>\n",
       "<tr>\n",
       "  <th>Df Model:</th>              <td>     6</td>      <th>                     </th>               <td> </td>    \n",
       "</tr>\n",
       "<tr>\n",
       "  <th>Covariance Type:</th>      <td>nonrobust</td>    <th>                     </th>               <td> </td>    \n",
       "</tr>\n",
       "</table>\n",
       "<table class=\"simpletable\">\n",
       "<tr>\n",
       "          <td></td>             <th>coef</th>     <th>std err</th>      <th>t</th>      <th>P>|t|</th>  <th>[0.025</th>    <th>0.975]</th>  \n",
       "</tr>\n",
       "<tr>\n",
       "  <th>Gender</th>            <td>    0.0002</td> <td>    0.001</td> <td>    0.330</td> <td> 0.741</td> <td>   -0.001</td> <td>    0.001</td>\n",
       "</tr>\n",
       "<tr>\n",
       "  <th>Race</th>              <td>  -3.3e-05</td> <td> 9.05e-05</td> <td>   -0.365</td> <td> 0.715</td> <td>   -0.000</td> <td>    0.000</td>\n",
       "</tr>\n",
       "<tr>\n",
       "  <th>Age</th>               <td> 1.564e-05</td> <td> 1.84e-05</td> <td>    0.851</td> <td> 0.395</td> <td>-2.04e-05</td> <td> 5.17e-05</td>\n",
       "</tr>\n",
       "<tr>\n",
       "  <th>Location</th>          <td> 2.663e-05</td> <td>    0.000</td> <td>    0.135</td> <td> 0.893</td> <td>   -0.000</td> <td>    0.000</td>\n",
       "</tr>\n",
       "<tr>\n",
       "  <th>Is_Heroin</th>         <td> 1.539e-18</td> <td> 6.34e-18</td> <td>    0.243</td> <td> 0.808</td> <td>-1.09e-17</td> <td>  1.4e-17</td>\n",
       "</tr>\n",
       "<tr>\n",
       "  <th>Is_Cocaine</th>        <td>         0</td> <td>        0</td> <td>      nan</td> <td>   nan</td> <td>        0</td> <td>        0</td>\n",
       "</tr>\n",
       "<tr>\n",
       "  <th>Is_Fentanyl</th>       <td>   -0.0006</td> <td>    0.001</td> <td>   -1.064</td> <td> 0.287</td> <td>   -0.002</td> <td>    0.001</td>\n",
       "</tr>\n",
       "<tr>\n",
       "  <th>Is_Oxycodone</th>      <td>         0</td> <td>        0</td> <td>      nan</td> <td>   nan</td> <td>        0</td> <td>        0</td>\n",
       "</tr>\n",
       "<tr>\n",
       "  <th>Is_Oxymorphone</th>    <td>         0</td> <td>        0</td> <td>      nan</td> <td>   nan</td> <td>        0</td> <td>        0</td>\n",
       "</tr>\n",
       "<tr>\n",
       "  <th>Is_EtOH</th>           <td>         0</td> <td>        0</td> <td>      nan</td> <td>   nan</td> <td>        0</td> <td>        0</td>\n",
       "</tr>\n",
       "<tr>\n",
       "  <th>Is_Hydrocodone</th>    <td>         0</td> <td>        0</td> <td>      nan</td> <td>   nan</td> <td>        0</td> <td>        0</td>\n",
       "</tr>\n",
       "<tr>\n",
       "  <th>Is_Benzodiazepine</th> <td>         0</td> <td>        0</td> <td>      nan</td> <td>   nan</td> <td>        0</td> <td>        0</td>\n",
       "</tr>\n",
       "<tr>\n",
       "  <th>Is_Methadone</th>      <td>         0</td> <td>        0</td> <td>      nan</td> <td>   nan</td> <td>        0</td> <td>        0</td>\n",
       "</tr>\n",
       "<tr>\n",
       "  <th>Is_Amphetamine</th>    <td>         0</td> <td>        0</td> <td>      nan</td> <td>   nan</td> <td>        0</td> <td>        0</td>\n",
       "</tr>\n",
       "<tr>\n",
       "  <th>Is_Tramadol</th>       <td>         0</td> <td>        0</td> <td>      nan</td> <td>   nan</td> <td>        0</td> <td>        0</td>\n",
       "</tr>\n",
       "<tr>\n",
       "  <th>Is_Morphine</th>       <td>         0</td> <td>        0</td> <td>      nan</td> <td>   nan</td> <td>        0</td> <td>        0</td>\n",
       "</tr>\n",
       "<tr>\n",
       "  <th>Is_Hydromorphone</th>  <td>   -0.0006</td> <td>    0.003</td> <td>   -0.225</td> <td> 0.822</td> <td>   -0.006</td> <td>    0.005</td>\n",
       "</tr>\n",
       "<tr>\n",
       "  <th>Is_OpiateNOS</th>      <td>         0</td> <td>        0</td> <td>      nan</td> <td>   nan</td> <td>        0</td> <td>        0</td>\n",
       "</tr>\n",
       "</table>\n",
       "<table class=\"simpletable\">\n",
       "<tr>\n",
       "  <th>Omnibus:</th>       <td>11968.141</td> <th>  Durbin-Watson:     </th>    <td>   2.002</td>   \n",
       "</tr>\n",
       "<tr>\n",
       "  <th>Prob(Omnibus):</th>  <td> 0.000</td>   <th>  Jarque-Bera (JB):  </th> <td>1858462046.095</td>\n",
       "</tr>\n",
       "<tr>\n",
       "  <th>Skew:</th>           <td>59.516</td>   <th>  Prob(JB):          </th>    <td>    0.00</td>   \n",
       "</tr>\n",
       "<tr>\n",
       "  <th>Kurtosis:</th>      <td>3545.110</td>  <th>  Cond. No.          </th>    <td>     inf</td>   \n",
       "</tr>\n",
       "</table><br/><br/>Notes:<br/>[1] R² is computed without centering (uncentered) since the model does not contain a constant.<br/>[2] Standard Errors assume that the covariance matrix of the errors is correctly specified.<br/>[3] The smallest eigenvalue is      0. This might indicate that there are<br/>strong multicollinearity problems or that the design matrix is singular."
      ],
      "text/plain": [
       "<class 'statsmodels.iolib.summary.Summary'>\n",
       "\"\"\"\n",
       "                                 OLS Regression Results                                \n",
       "=======================================================================================\n",
       "Dep. Variable:        Manner_of_Death   R-squared (uncentered):                   0.001\n",
       "Model:                            OLS   Adj. R-squared (uncentered):             -0.001\n",
       "Method:                 Least Squares   F-statistic:                             0.5781\n",
       "Date:                Wed, 26 Jan 2022   Prob (F-statistic):                       0.748\n",
       "Time:                        02:44:09   Log-Likelihood:                          9477.8\n",
       "No. Observations:                3551   AIC:                                 -1.894e+04\n",
       "Df Residuals:                    3545   BIC:                                 -1.891e+04\n",
       "Df Model:                           6                                                  \n",
       "Covariance Type:            nonrobust                                                  \n",
       "=====================================================================================\n",
       "                        coef    std err          t      P>|t|      [0.025      0.975]\n",
       "-------------------------------------------------------------------------------------\n",
       "Gender                0.0002      0.001      0.330      0.741      -0.001       0.001\n",
       "Race                -3.3e-05   9.05e-05     -0.365      0.715      -0.000       0.000\n",
       "Age                1.564e-05   1.84e-05      0.851      0.395   -2.04e-05    5.17e-05\n",
       "Location           2.663e-05      0.000      0.135      0.893      -0.000       0.000\n",
       "Is_Heroin          1.539e-18   6.34e-18      0.243      0.808   -1.09e-17     1.4e-17\n",
       "Is_Cocaine                 0          0        nan        nan           0           0\n",
       "Is_Fentanyl          -0.0006      0.001     -1.064      0.287      -0.002       0.001\n",
       "Is_Oxycodone               0          0        nan        nan           0           0\n",
       "Is_Oxymorphone             0          0        nan        nan           0           0\n",
       "Is_EtOH                    0          0        nan        nan           0           0\n",
       "Is_Hydrocodone             0          0        nan        nan           0           0\n",
       "Is_Benzodiazepine          0          0        nan        nan           0           0\n",
       "Is_Methadone               0          0        nan        nan           0           0\n",
       "Is_Amphetamine             0          0        nan        nan           0           0\n",
       "Is_Tramadol                0          0        nan        nan           0           0\n",
       "Is_Morphine                0          0        nan        nan           0           0\n",
       "Is_Hydromorphone     -0.0006      0.003     -0.225      0.822      -0.006       0.005\n",
       "Is_OpiateNOS               0          0        nan        nan           0           0\n",
       "==============================================================================\n",
       "Omnibus:                    11968.141   Durbin-Watson:                   2.002\n",
       "Prob(Omnibus):                  0.000   Jarque-Bera (JB):       1858462046.095\n",
       "Skew:                          59.516   Prob(JB):                         0.00\n",
       "Kurtosis:                    3545.110   Cond. No.                          inf\n",
       "==============================================================================\n",
       "\n",
       "Notes:\n",
       "[1] R² is computed without centering (uncentered) since the model does not contain a constant.\n",
       "[2] Standard Errors assume that the covariance matrix of the errors is correctly specified.\n",
       "[3] The smallest eigenvalue is      0. This might indicate that there are\n",
       "strong multicollinearity problems or that the design matrix is singular.\n",
       "\"\"\""
      ]
     },
     "execution_count": 544,
     "metadata": {},
     "output_type": "execute_result"
    }
   ],
   "source": [
    "import statsmodels.api as sm\n",
    "lm = sm.OLS(y_train,x_train).fit()\n",
    "lm.summary()"
   ]
  },
  {
   "cell_type": "code",
   "execution_count": 546,
   "id": "5a2061ab-097c-46ce-8150-84de945665d2",
   "metadata": {},
   "outputs": [],
   "source": [
    "final = lm.predict(x_test)\n",
    "prediction = list(map(round,final))"
   ]
  },
  {
   "cell_type": "code",
   "execution_count": 547,
   "id": "6e1d5d94-4ce5-4ef9-b099-8e6326093a0f",
   "metadata": {},
   "outputs": [],
   "source": [
    "cm = confusion_matrix(y_test, prediction)"
   ]
  },
  {
   "cell_type": "code",
   "execution_count": 548,
   "id": "24d0302e-63b0-4788-9951-ab5e961b5ec1",
   "metadata": {},
   "outputs": [
    {
     "data": {
      "text/plain": [
       "array([[1523]], dtype=int64)"
      ]
     },
     "execution_count": 548,
     "metadata": {},
     "output_type": "execute_result"
    }
   ],
   "source": [
    "cm"
   ]
  },
  {
   "cell_type": "code",
   "execution_count": 549,
   "id": "ce56c686-52c4-4c5c-9b6f-f001e94e1262",
   "metadata": {},
   "outputs": [],
   "source": [
    "from sklearn.metrics import accuracy_score"
   ]
  },
  {
   "cell_type": "code",
   "execution_count": 550,
   "id": "a45d1703-8a11-4307-921c-564bd96184ab",
   "metadata": {},
   "outputs": [
    {
     "data": {
      "text/plain": [
       "1.0"
      ]
     },
     "execution_count": 550,
     "metadata": {},
     "output_type": "execute_result"
    }
   ],
   "source": [
    "accuracy = accuracy_score(y_test, prediction)\n",
    "accuracy"
   ]
  },
  {
   "cell_type": "code",
   "execution_count": null,
   "id": "8c40cbe3-f055-4196-a484-2b07fd5670d0",
   "metadata": {},
   "outputs": [],
   "source": []
  }
 ],
 "metadata": {
  "kernelspec": {
   "display_name": "Python 3 (ipykernel)",
   "language": "python",
   "name": "python3"
  },
  "language_info": {
   "codemirror_mode": {
    "name": "ipython",
    "version": 3
   },
   "file_extension": ".py",
   "mimetype": "text/x-python",
   "name": "python",
   "nbconvert_exporter": "python",
   "pygments_lexer": "ipython3",
   "version": "3.9.7"
  }
 },
 "nbformat": 4,
 "nbformat_minor": 5
}
