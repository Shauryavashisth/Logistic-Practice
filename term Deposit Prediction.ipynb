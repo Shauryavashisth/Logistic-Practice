{
 "cells": [
  {
   "cell_type": "code",
   "execution_count": 4,
   "metadata": {},
   "outputs": [],
   "source": [
    "import pandas as pd"
   ]
  },
  {
   "cell_type": "code",
   "execution_count": 5,
   "metadata": {},
   "outputs": [],
   "source": [
    "DF = pd.read_csv(\"D://Study//BA//March-April Classes//Par-Logistic-Regression-PBA//data//bank-full.csv\")"
   ]
  },
  {
   "cell_type": "code",
   "execution_count": 6,
   "metadata": {},
   "outputs": [
    {
     "data": {
      "text/html": [
       "<div>\n",
       "<style scoped>\n",
       "    .dataframe tbody tr th:only-of-type {\n",
       "        vertical-align: middle;\n",
       "    }\n",
       "\n",
       "    .dataframe tbody tr th {\n",
       "        vertical-align: top;\n",
       "    }\n",
       "\n",
       "    .dataframe thead th {\n",
       "        text-align: right;\n",
       "    }\n",
       "</style>\n",
       "<table border=\"1\" class=\"dataframe\">\n",
       "  <thead>\n",
       "    <tr style=\"text-align: right;\">\n",
       "      <th></th>\n",
       "      <th>Id</th>\n",
       "      <th>age</th>\n",
       "      <th>balance</th>\n",
       "      <th>day</th>\n",
       "      <th>duration</th>\n",
       "      <th>campaign</th>\n",
       "      <th>pdays</th>\n",
       "      <th>previous</th>\n",
       "    </tr>\n",
       "  </thead>\n",
       "  <tbody>\n",
       "    <tr>\n",
       "      <th>count</th>\n",
       "      <td>45211.000000</td>\n",
       "      <td>45202.000000</td>\n",
       "      <td>45208.000000</td>\n",
       "      <td>45211.000000</td>\n",
       "      <td>45211.000000</td>\n",
       "      <td>45211.000000</td>\n",
       "      <td>45211.000000</td>\n",
       "      <td>45211.000000</td>\n",
       "    </tr>\n",
       "    <tr>\n",
       "      <th>mean</th>\n",
       "      <td>23606.000000</td>\n",
       "      <td>40.954714</td>\n",
       "      <td>1362.346620</td>\n",
       "      <td>15.806419</td>\n",
       "      <td>258.163080</td>\n",
       "      <td>2.763841</td>\n",
       "      <td>40.197828</td>\n",
       "      <td>0.580323</td>\n",
       "    </tr>\n",
       "    <tr>\n",
       "      <th>std</th>\n",
       "      <td>13051.435847</td>\n",
       "      <td>11.539144</td>\n",
       "      <td>3044.852387</td>\n",
       "      <td>8.322476</td>\n",
       "      <td>257.527812</td>\n",
       "      <td>3.098021</td>\n",
       "      <td>100.128746</td>\n",
       "      <td>2.303441</td>\n",
       "    </tr>\n",
       "    <tr>\n",
       "      <th>min</th>\n",
       "      <td>1001.000000</td>\n",
       "      <td>-1.000000</td>\n",
       "      <td>-8019.000000</td>\n",
       "      <td>1.000000</td>\n",
       "      <td>0.000000</td>\n",
       "      <td>1.000000</td>\n",
       "      <td>-1.000000</td>\n",
       "      <td>0.000000</td>\n",
       "    </tr>\n",
       "    <tr>\n",
       "      <th>25%</th>\n",
       "      <td>12303.500000</td>\n",
       "      <td>33.000000</td>\n",
       "      <td>72.000000</td>\n",
       "      <td>8.000000</td>\n",
       "      <td>103.000000</td>\n",
       "      <td>1.000000</td>\n",
       "      <td>-1.000000</td>\n",
       "      <td>0.000000</td>\n",
       "    </tr>\n",
       "    <tr>\n",
       "      <th>50%</th>\n",
       "      <td>23606.000000</td>\n",
       "      <td>39.000000</td>\n",
       "      <td>448.000000</td>\n",
       "      <td>16.000000</td>\n",
       "      <td>180.000000</td>\n",
       "      <td>2.000000</td>\n",
       "      <td>-1.000000</td>\n",
       "      <td>0.000000</td>\n",
       "    </tr>\n",
       "    <tr>\n",
       "      <th>75%</th>\n",
       "      <td>34908.500000</td>\n",
       "      <td>48.000000</td>\n",
       "      <td>1428.000000</td>\n",
       "      <td>21.000000</td>\n",
       "      <td>319.000000</td>\n",
       "      <td>3.000000</td>\n",
       "      <td>-1.000000</td>\n",
       "      <td>0.000000</td>\n",
       "    </tr>\n",
       "    <tr>\n",
       "      <th>max</th>\n",
       "      <td>46211.000000</td>\n",
       "      <td>999.000000</td>\n",
       "      <td>102127.000000</td>\n",
       "      <td>31.000000</td>\n",
       "      <td>4918.000000</td>\n",
       "      <td>63.000000</td>\n",
       "      <td>871.000000</td>\n",
       "      <td>275.000000</td>\n",
       "    </tr>\n",
       "  </tbody>\n",
       "</table>\n",
       "</div>"
      ],
      "text/plain": [
       "                 Id           age        balance           day      duration  \\\n",
       "count  45211.000000  45202.000000   45208.000000  45211.000000  45211.000000   \n",
       "mean   23606.000000     40.954714    1362.346620     15.806419    258.163080   \n",
       "std    13051.435847     11.539144    3044.852387      8.322476    257.527812   \n",
       "min     1001.000000     -1.000000   -8019.000000      1.000000      0.000000   \n",
       "25%    12303.500000     33.000000      72.000000      8.000000    103.000000   \n",
       "50%    23606.000000     39.000000     448.000000     16.000000    180.000000   \n",
       "75%    34908.500000     48.000000    1428.000000     21.000000    319.000000   \n",
       "max    46211.000000    999.000000  102127.000000     31.000000   4918.000000   \n",
       "\n",
       "           campaign         pdays      previous  \n",
       "count  45211.000000  45211.000000  45211.000000  \n",
       "mean       2.763841     40.197828      0.580323  \n",
       "std        3.098021    100.128746      2.303441  \n",
       "min        1.000000     -1.000000      0.000000  \n",
       "25%        1.000000     -1.000000      0.000000  \n",
       "50%        2.000000     -1.000000      0.000000  \n",
       "75%        3.000000     -1.000000      0.000000  \n",
       "max       63.000000    871.000000    275.000000  "
      ]
     },
     "execution_count": 6,
     "metadata": {},
     "output_type": "execute_result"
    }
   ],
   "source": [
    "DF.describe()"
   ]
  },
  {
   "cell_type": "code",
   "execution_count": 7,
   "metadata": {},
   "outputs": [
    {
     "name": "stdout",
     "output_type": "stream",
     "text": [
      "<class 'pandas.core.frame.DataFrame'>\n",
      "RangeIndex: 45211 entries, 0 to 45210\n",
      "Data columns (total 18 columns):\n",
      " #   Column     Non-Null Count  Dtype  \n",
      "---  ------     --------------  -----  \n",
      " 0   Id         45211 non-null  int64  \n",
      " 1   age        45202 non-null  float64\n",
      " 2   job        45211 non-null  object \n",
      " 3   marital    45211 non-null  object \n",
      " 4   education  45211 non-null  object \n",
      " 5   default    45211 non-null  object \n",
      " 6   balance    45208 non-null  float64\n",
      " 7   housing    45211 non-null  object \n",
      " 8   loan       45211 non-null  object \n",
      " 9   contact    45211 non-null  object \n",
      " 10  day        45211 non-null  int64  \n",
      " 11  month      45211 non-null  object \n",
      " 12  duration   45211 non-null  int64  \n",
      " 13  campaign   45211 non-null  int64  \n",
      " 14  pdays      45211 non-null  int64  \n",
      " 15  previous   45211 non-null  int64  \n",
      " 16  poutcome   45211 non-null  object \n",
      " 17  y          45211 non-null  object \n",
      "dtypes: float64(2), int64(6), object(10)\n",
      "memory usage: 6.2+ MB\n"
     ]
    }
   ],
   "source": [
    "DF.info()"
   ]
  },
  {
   "cell_type": "code",
   "execution_count": 8,
   "metadata": {},
   "outputs": [],
   "source": [
    "DF.age = DF.age.fillna(40.95)"
   ]
  },
  {
   "cell_type": "code",
   "execution_count": 9,
   "metadata": {},
   "outputs": [],
   "source": [
    "DF.balance = DF.balance.fillna(1362.346)"
   ]
  },
  {
   "cell_type": "code",
   "execution_count": 10,
   "metadata": {},
   "outputs": [
    {
     "name": "stdout",
     "output_type": "stream",
     "text": [
      "<class 'pandas.core.frame.DataFrame'>\n",
      "RangeIndex: 45211 entries, 0 to 45210\n",
      "Data columns (total 18 columns):\n",
      " #   Column     Non-Null Count  Dtype  \n",
      "---  ------     --------------  -----  \n",
      " 0   Id         45211 non-null  int64  \n",
      " 1   age        45211 non-null  float64\n",
      " 2   job        45211 non-null  object \n",
      " 3   marital    45211 non-null  object \n",
      " 4   education  45211 non-null  object \n",
      " 5   default    45211 non-null  object \n",
      " 6   balance    45211 non-null  float64\n",
      " 7   housing    45211 non-null  object \n",
      " 8   loan       45211 non-null  object \n",
      " 9   contact    45211 non-null  object \n",
      " 10  day        45211 non-null  int64  \n",
      " 11  month      45211 non-null  object \n",
      " 12  duration   45211 non-null  int64  \n",
      " 13  campaign   45211 non-null  int64  \n",
      " 14  pdays      45211 non-null  int64  \n",
      " 15  previous   45211 non-null  int64  \n",
      " 16  poutcome   45211 non-null  object \n",
      " 17  y          45211 non-null  object \n",
      "dtypes: float64(2), int64(6), object(10)\n",
      "memory usage: 6.2+ MB\n"
     ]
    }
   ],
   "source": [
    "DF.info()"
   ]
  },
  {
   "cell_type": "code",
   "execution_count": 11,
   "metadata": {},
   "outputs": [
    {
     "data": {
      "text/plain": [
       "<matplotlib.axes._subplots.AxesSubplot at 0x22c87caac10>"
      ]
     },
     "execution_count": 11,
     "metadata": {},
     "output_type": "execute_result"
    },
    {
     "data": {
      "image/png": "[encoded data removed]",
      "text/plain": [
       "<Figure size 432x288 with 1 Axes>"
      ]
     },
     "metadata": {
      "needs_background": "light"
     },
     "output_type": "display_data"
    }
   ],
   "source": [
    "DF.boxplot()"
   ]
  },
  {
   "cell_type": "code",
   "execution_count": 12,
   "metadata": {},
   "outputs": [],
   "source": [
    "import numpy as np"
   ]
  },
  {
   "cell_type": "code",
   "execution_count": 13,
   "metadata": {},
   "outputs": [
    {
     "data": {
      "text/plain": [
       "<matplotlib.axes._subplots.AxesSubplot at 0x22c887b2d30>"
      ]
     },
     "execution_count": 13,
     "metadata": {},
     "output_type": "execute_result"
    },
    {
     "data": {
      "image/png": "[encoded data removed]",
      "text/plain": [
       "<Figure size 432x288 with 1 Axes>"
      ]
     },
     "metadata": {
      "needs_background": "light"
     },
     "output_type": "display_data"
    }
   ],
   "source": [
    "max=DF['age'].quantile(0.95)\n",
    "new=np.where(DF['age']>max,max,DF['age'])\n",
    "DF.age=new\n",
    "\n",
    "min=DF['age'].quantile(0.05)\n",
    "new=np.where(DF['age']<min,min,DF['age'])\n",
    "DF.age=new\n",
    "DF.boxplot('age')"
   ]
  },
  {
   "cell_type": "code",
   "execution_count": 14,
   "metadata": {},
   "outputs": [
    {
     "data": {
      "text/plain": [
       "<matplotlib.axes._subplots.AxesSubplot at 0x22c8882baf0>"
      ]
     },
     "execution_count": 14,
     "metadata": {},
     "output_type": "execute_result"
    },
    {
     "data": {
      "image/png": "[encoded data removed]",
      "text/plain": [
       "<Figure size 432x288 with 1 Axes>"
      ]
     },
     "metadata": {
      "needs_background": "light"
     },
     "output_type": "display_data"
    }
   ],
   "source": [
    "max=DF['balance'].quantile(0.85)\n",
    "new=np.where(DF['balance']>max,max,DF['balance'])\n",
    "DF.balance=new\n",
    "\n",
    "min=DF['balance'].quantile(0.10)\n",
    "new=np.where(DF['balance']<min,min,DF['balance'])\n",
    "DF.balance=new\n",
    "DF.boxplot('balance')"
   ]
  },
  {
   "cell_type": "code",
   "execution_count": 15,
   "metadata": {},
   "outputs": [
    {
     "data": {
      "text/plain": [
       "<matplotlib.axes._subplots.AxesSubplot at 0x22c88831520>"
      ]
     },
     "execution_count": 15,
     "metadata": {},
     "output_type": "execute_result"
    },
    {
     "data": {
      "image/png": "[encoded data removed]",
      "text/plain": [
       "<Figure size 432x288 with 1 Axes>"
      ]
     },
     "metadata": {
      "needs_background": "light"
     },
     "output_type": "display_data"
    }
   ],
   "source": [
    "max=DF['duration'].quantile(0.90)\n",
    "new=np.where(DF['duration']>max,max,DF['duration'])\n",
    "DF.duration=new\n",
    "\n",
    "min=DF['duration'].quantile(0.05)\n",
    "new=np.where(DF['duration']<min,min,DF['duration'])\n",
    "DF.duration=new\n",
    "DF.boxplot('duration')"
   ]
  },
  {
   "cell_type": "code",
   "execution_count": 16,
   "metadata": {},
   "outputs": [
    {
     "data": {
      "text/plain": [
       "<matplotlib.axes._subplots.AxesSubplot at 0x22c8730bdf0>"
      ]
     },
     "execution_count": 16,
     "metadata": {},
     "output_type": "execute_result"
    },
    {
     "data": {
      "image/png": "[encoded data removed]",
      "text/plain": [
       "<Figure size 432x288 with 1 Axes>"
      ]
     },
     "metadata": {
      "needs_background": "light"
     },
     "output_type": "display_data"
    }
   ],
   "source": [
    "max=DF['campaign'].quantile(0.90)\n",
    "new=np.where(DF['campaign']>max,max,DF['campaign'])\n",
    "DF.campaign=new\n",
    "\n",
    "min=DF['campaign'].quantile(0.05)\n",
    "new=np.where(DF['campaign']<min,min,DF['campaign'])\n",
    "DF.campaign=new\n",
    "DF.boxplot('campaign')"
   ]
  },
  {
   "cell_type": "code",
   "execution_count": 17,
   "metadata": {},
   "outputs": [
    {
     "data": {
      "text/plain": [
       "<matplotlib.axes._subplots.AxesSubplot at 0x22c888cad60>"
      ]
     },
     "execution_count": 17,
     "metadata": {},
     "output_type": "execute_result"
    },
    {
     "data": {
      "image/png": "[encoded data removed]",
      "text/plain": [
       "<Figure size 432x288 with 1 Axes>"
      ]
     },
     "metadata": {
      "needs_background": "light"
     },
     "output_type": "display_data"
    }
   ],
   "source": [
    "max=DF['previous'].quantile(0.95)\n",
    "new=np.where(DF['previous']>max,max,DF['previous'])\n",
    "DF.previous=new\n",
    "\n",
    "min=DF['previous'].quantile(0.05)\n",
    "new=np.where(DF['previous']<min,min,DF['previous'])\n",
    "DF.previous=new\n",
    "DF.boxplot('previous')"
   ]
  },
  {
   "cell_type": "code",
   "execution_count": 18,
   "metadata": {},
   "outputs": [],
   "source": [
    "from statsmodels.stats.outliers_influence import variance_inflation_factor"
   ]
  },
  {
   "cell_type": "code",
   "execution_count": 19,
   "metadata": {},
   "outputs": [],
   "source": [
    "import numpy as np"
   ]
  },
  {
   "cell_type": "code",
   "execution_count": 20,
   "metadata": {},
   "outputs": [],
   "source": [
    "from sklearn.linear_model import LinearRegression\n",
    "from sklearn.model_selection import train_test_split"
   ]
  },
  {
   "cell_type": "code",
   "execution_count": 21,
   "metadata": {},
   "outputs": [],
   "source": [
    "del DF[\"Id\"]"
   ]
  },
  {
   "cell_type": "code",
   "execution_count": 22,
   "metadata": {},
   "outputs": [
    {
     "data": {
      "text/plain": [
       "array(['no', 'yes'], dtype=object)"
      ]
     },
     "execution_count": 22,
     "metadata": {},
     "output_type": "execute_result"
    }
   ],
   "source": [
    "DF['y'].unique()"
   ]
  },
  {
   "cell_type": "code",
   "execution_count": 23,
   "metadata": {},
   "outputs": [],
   "source": [
    "DF.y=pd.Series(np.where(DF.y=='yes',1,0),\n",
    "           DF.index)"
   ]
  },
  {
   "cell_type": "code",
   "execution_count": 24,
   "metadata": {},
   "outputs": [],
   "source": [
    "##DF.y = DF.y.map(dict(yes=1, no=0))"
   ]
  },
  {
   "cell_type": "code",
   "execution_count": 25,
   "metadata": {},
   "outputs": [],
   "source": [
    "numerics = ['int16', 'int32', 'int64', 'float16', 'float32', 'float64']\n",
    "DFn = DF.select_dtypes(numerics)"
   ]
  },
  {
   "cell_type": "code",
   "execution_count": 26,
   "metadata": {},
   "outputs": [],
   "source": [
    "corr = DFn.corr()"
   ]
  },
  {
   "cell_type": "code",
   "execution_count": 27,
   "metadata": {},
   "outputs": [
    {
     "data": {
      "text/html": [
       "<div>\n",
       "<style scoped>\n",
       "    .dataframe tbody tr th:only-of-type {\n",
       "        vertical-align: middle;\n",
       "    }\n",
       "\n",
       "    .dataframe tbody tr th {\n",
       "        vertical-align: top;\n",
       "    }\n",
       "\n",
       "    .dataframe thead th {\n",
       "        text-align: right;\n",
       "    }\n",
       "</style>\n",
       "<table border=\"1\" class=\"dataframe\">\n",
       "  <thead>\n",
       "    <tr style=\"text-align: right;\">\n",
       "      <th></th>\n",
       "      <th>age</th>\n",
       "      <th>balance</th>\n",
       "      <th>day</th>\n",
       "      <th>duration</th>\n",
       "      <th>campaign</th>\n",
       "      <th>pdays</th>\n",
       "      <th>previous</th>\n",
       "      <th>y</th>\n",
       "    </tr>\n",
       "  </thead>\n",
       "  <tbody>\n",
       "    <tr>\n",
       "      <th>age</th>\n",
       "      <td>1.000000</td>\n",
       "      <td>0.116607</td>\n",
       "      <td>-0.007567</td>\n",
       "      <td>-0.024752</td>\n",
       "      <td>0.032015</td>\n",
       "      <td>-0.031038</td>\n",
       "      <td>-0.005730</td>\n",
       "      <td>0.003970</td>\n",
       "    </tr>\n",
       "    <tr>\n",
       "      <th>balance</th>\n",
       "      <td>0.116607</td>\n",
       "      <td>1.000000</td>\n",
       "      <td>0.012104</td>\n",
       "      <td>0.043112</td>\n",
       "      <td>-0.029075</td>\n",
       "      <td>0.020305</td>\n",
       "      <td>0.061711</td>\n",
       "      <td>0.094604</td>\n",
       "    </tr>\n",
       "    <tr>\n",
       "      <th>day</th>\n",
       "      <td>-0.007567</td>\n",
       "      <td>0.012104</td>\n",
       "      <td>1.000000</td>\n",
       "      <td>-0.042437</td>\n",
       "      <td>0.147384</td>\n",
       "      <td>-0.093044</td>\n",
       "      <td>-0.079935</td>\n",
       "      <td>-0.028348</td>\n",
       "    </tr>\n",
       "    <tr>\n",
       "      <th>duration</th>\n",
       "      <td>-0.024752</td>\n",
       "      <td>0.043112</td>\n",
       "      <td>-0.042437</td>\n",
       "      <td>1.000000</td>\n",
       "      <td>-0.096996</td>\n",
       "      <td>0.011753</td>\n",
       "      <td>0.021637</td>\n",
       "      <td>0.376597</td>\n",
       "    </tr>\n",
       "    <tr>\n",
       "      <th>campaign</th>\n",
       "      <td>0.032015</td>\n",
       "      <td>-0.029075</td>\n",
       "      <td>0.147384</td>\n",
       "      <td>-0.096996</td>\n",
       "      <td>1.000000</td>\n",
       "      <td>-0.090924</td>\n",
       "      <td>-0.081559</td>\n",
       "      <td>-0.083633</td>\n",
       "    </tr>\n",
       "    <tr>\n",
       "      <th>pdays</th>\n",
       "      <td>-0.031038</td>\n",
       "      <td>0.020305</td>\n",
       "      <td>-0.093044</td>\n",
       "      <td>0.011753</td>\n",
       "      <td>-0.090924</td>\n",
       "      <td>1.000000</td>\n",
       "      <td>0.773500</td>\n",
       "      <td>0.103621</td>\n",
       "    </tr>\n",
       "    <tr>\n",
       "      <th>previous</th>\n",
       "      <td>-0.005730</td>\n",
       "      <td>0.061711</td>\n",
       "      <td>-0.079935</td>\n",
       "      <td>0.021637</td>\n",
       "      <td>-0.081559</td>\n",
       "      <td>0.773500</td>\n",
       "      <td>1.000000</td>\n",
       "      <td>0.163192</td>\n",
       "    </tr>\n",
       "    <tr>\n",
       "      <th>y</th>\n",
       "      <td>0.003970</td>\n",
       "      <td>0.094604</td>\n",
       "      <td>-0.028348</td>\n",
       "      <td>0.376597</td>\n",
       "      <td>-0.083633</td>\n",
       "      <td>0.103621</td>\n",
       "      <td>0.163192</td>\n",
       "      <td>1.000000</td>\n",
       "    </tr>\n",
       "  </tbody>\n",
       "</table>\n",
       "</div>"
      ],
      "text/plain": [
       "               age   balance       day  duration  campaign     pdays  \\\n",
       "age       1.000000  0.116607 -0.007567 -0.024752  0.032015 -0.031038   \n",
       "balance   0.116607  1.000000  0.012104  0.043112 -0.029075  0.020305   \n",
       "day      -0.007567  0.012104  1.000000 -0.042437  0.147384 -0.093044   \n",
       "duration -0.024752  0.043112 -0.042437  1.000000 -0.096996  0.011753   \n",
       "campaign  0.032015 -0.029075  0.147384 -0.096996  1.000000 -0.090924   \n",
       "pdays    -0.031038  0.020305 -0.093044  0.011753 -0.090924  1.000000   \n",
       "previous -0.005730  0.061711 -0.079935  0.021637 -0.081559  0.773500   \n",
       "y         0.003970  0.094604 -0.028348  0.376597 -0.083633  0.103621   \n",
       "\n",
       "          previous         y  \n",
       "age      -0.005730  0.003970  \n",
       "balance   0.061711  0.094604  \n",
       "day      -0.079935 -0.028348  \n",
       "duration  0.021637  0.376597  \n",
       "campaign -0.081559 -0.083633  \n",
       "pdays     0.773500  0.103621  \n",
       "previous  1.000000  0.163192  \n",
       "y         0.163192  1.000000  "
      ]
     },
     "execution_count": 27,
     "metadata": {},
     "output_type": "execute_result"
    }
   ],
   "source": [
    "corr"
   ]
  },
  {
   "cell_type": "code",
   "execution_count": 28,
   "metadata": {},
   "outputs": [],
   "source": [
    "from sklearn.linear_model import LinearRegression"
   ]
  },
  {
   "cell_type": "code",
   "execution_count": 29,
   "metadata": {},
   "outputs": [],
   "source": [
    "x = DFn['y']\n",
    "y = DFn[['balance','duration','campaign','pdays','previous']]"
   ]
  },
  {
   "cell_type": "code",
   "execution_count": 30,
   "metadata": {},
   "outputs": [],
   "source": [
    "x = x.values.reshape(-1,1)"
   ]
  },
  {
   "cell_type": "code",
   "execution_count": 31,
   "metadata": {},
   "outputs": [],
   "source": [
    "model = LinearRegression()"
   ]
  },
  {
   "cell_type": "code",
   "execution_count": 32,
   "metadata": {},
   "outputs": [],
   "source": [
    "model = model.fit(x, y)"
   ]
  },
  {
   "cell_type": "code",
   "execution_count": 33,
   "metadata": {},
   "outputs": [],
   "source": [
    "model = LinearRegression().fit(x, y)"
   ]
  },
  {
   "cell_type": "code",
   "execution_count": 34,
   "metadata": {},
   "outputs": [
    {
     "name": "stdout",
     "output_type": "stream",
     "text": [
      "1.6657787809862779\n",
      "2.076864168700385\n",
      "2.0142812114650255\n",
      "2.879436657691784\n",
      "2.9597495423495355\n"
     ]
    },
    {
     "data": {
      "text/html": [
       "<div>\n",
       "<style scoped>\n",
       "    .dataframe tbody tr th:only-of-type {\n",
       "        vertical-align: middle;\n",
       "    }\n",
       "\n",
       "    .dataframe tbody tr th {\n",
       "        vertical-align: top;\n",
       "    }\n",
       "\n",
       "    .dataframe thead th {\n",
       "        text-align: right;\n",
       "    }\n",
       "</style>\n",
       "<table border=\"1\" class=\"dataframe\">\n",
       "  <thead>\n",
       "    <tr style=\"text-align: right;\">\n",
       "      <th></th>\n",
       "      <th>VIF Factor</th>\n",
       "      <th>features</th>\n",
       "    </tr>\n",
       "  </thead>\n",
       "  <tbody>\n",
       "    <tr>\n",
       "      <th>0</th>\n",
       "      <td>1.665779</td>\n",
       "      <td>balance</td>\n",
       "    </tr>\n",
       "    <tr>\n",
       "      <th>1</th>\n",
       "      <td>2.076864</td>\n",
       "      <td>duration</td>\n",
       "    </tr>\n",
       "    <tr>\n",
       "      <th>2</th>\n",
       "      <td>2.014281</td>\n",
       "      <td>campaign</td>\n",
       "    </tr>\n",
       "    <tr>\n",
       "      <th>3</th>\n",
       "      <td>2.879437</td>\n",
       "      <td>pdays</td>\n",
       "    </tr>\n",
       "    <tr>\n",
       "      <th>4</th>\n",
       "      <td>2.959750</td>\n",
       "      <td>previous</td>\n",
       "    </tr>\n",
       "  </tbody>\n",
       "</table>\n",
       "</div>"
      ],
      "text/plain": [
       "   VIF Factor  features\n",
       "0    1.665779   balance\n",
       "1    2.076864  duration\n",
       "2    2.014281  campaign\n",
       "3    2.879437     pdays\n",
       "4    2.959750  previous"
      ]
     },
     "execution_count": 34,
     "metadata": {},
     "output_type": "execute_result"
    }
   ],
   "source": [
    "vif = pd.DataFrame()\n",
    "vif[\"VIF Factor\"] = [variance_inflation_factor(y.values,i) for i in range(y.shape[1])]\n",
    "vif[\"features\"] = y.columns\n",
    "[variance_inflation_factor(y.values,i) for i in range(y.shape[1])]\n",
    "for i in range(y.shape[1]):\n",
    "    a = variance_inflation_factor(y.values,i)\n",
    "    print(a)\n",
    "vif\n"
   ]
  },
  {
   "cell_type": "code",
   "execution_count": 35,
   "metadata": {},
   "outputs": [],
   "source": [
    "from sklearn.linear_model import LogisticRegression"
   ]
  },
  {
   "cell_type": "code",
   "execution_count": 36,
   "metadata": {},
   "outputs": [],
   "source": [
    "from sklearn.model_selection import train_test_split"
   ]
  },
  {
   "cell_type": "code",
   "execution_count": 37,
   "metadata": {},
   "outputs": [],
   "source": [
    "import seaborn as sns"
   ]
  },
  {
   "cell_type": "code",
   "execution_count": 38,
   "metadata": {},
   "outputs": [
    {
     "data": {
      "text/plain": [
       "array(['management', 'technician', 'entrepreneur', 'blue-collar',\n",
       "       'unknown', 'retired', 'admin.', 'services', 'self-employed',\n",
       "       'unemployed', 'housemaid', 'student'], dtype=object)"
      ]
     },
     "execution_count": 38,
     "metadata": {},
     "output_type": "execute_result"
    }
   ],
   "source": [
    "DF.job.unique()"
   ]
  },
  {
   "cell_type": "code",
   "execution_count": 64,
   "metadata": {},
   "outputs": [],
   "source": [
    "dummies = pd.get_dummies(DF,columns=['default','housing','loan','job','marital','education','contact','month','poutcome'])"
   ]
  },
  {
   "cell_type": "code",
   "execution_count": 65,
   "metadata": {},
   "outputs": [],
   "source": [
    "dummiesfinal = dummies.drop(columns=['age'])"
   ]
  },
  {
   "cell_type": "code",
   "execution_count": 66,
   "metadata": {},
   "outputs": [],
   "source": [
    "###final = merged.drop(merged.columns[1],axis='columns')"
   ]
  },
  {
   "cell_type": "code",
   "execution_count": 67,
   "metadata": {},
   "outputs": [
    {
     "name": "stdout",
     "output_type": "stream",
     "text": [
      "<class 'pandas.core.frame.DataFrame'>\n",
      "RangeIndex: 45211 entries, 0 to 45210\n",
      "Data columns (total 51 columns):\n",
      " #   Column               Non-Null Count  Dtype  \n",
      "---  ------               --------------  -----  \n",
      " 0   balance              45211 non-null  float64\n",
      " 1   day                  45211 non-null  int64  \n",
      " 2   duration             45211 non-null  float64\n",
      " 3   campaign             45211 non-null  float64\n",
      " 4   pdays                45211 non-null  int64  \n",
      " 5   previous             45211 non-null  float64\n",
      " 6   y                    45211 non-null  int32  \n",
      " 7   default_no           45211 non-null  uint8  \n",
      " 8   default_yes          45211 non-null  uint8  \n",
      " 9   housing_no           45211 non-null  uint8  \n",
      " 10  housing_yes          45211 non-null  uint8  \n",
      " 11  loan_no              45211 non-null  uint8  \n",
      " 12  loan_yes             45211 non-null  uint8  \n",
      " 13  job_admin.           45211 non-null  uint8  \n",
      " 14  job_blue-collar      45211 non-null  uint8  \n",
      " 15  job_entrepreneur     45211 non-null  uint8  \n",
      " 16  job_housemaid        45211 non-null  uint8  \n",
      " 17  job_management       45211 non-null  uint8  \n",
      " 18  job_retired          45211 non-null  uint8  \n",
      " 19  job_self-employed    45211 non-null  uint8  \n",
      " 20  job_services         45211 non-null  uint8  \n",
      " 21  job_student          45211 non-null  uint8  \n",
      " 22  job_technician       45211 non-null  uint8  \n",
      " 23  job_unemployed       45211 non-null  uint8  \n",
      " 24  job_unknown          45211 non-null  uint8  \n",
      " 25  marital_divorced     45211 non-null  uint8  \n",
      " 26  marital_married      45211 non-null  uint8  \n",
      " 27  marital_single       45211 non-null  uint8  \n",
      " 28  education_primary    45211 non-null  uint8  \n",
      " 29  education_secondary  45211 non-null  uint8  \n",
      " 30  education_tertiary   45211 non-null  uint8  \n",
      " 31  education_unknown    45211 non-null  uint8  \n",
      " 32  contact_cellular     45211 non-null  uint8  \n",
      " 33  contact_telephone    45211 non-null  uint8  \n",
      " 34  contact_unknown      45211 non-null  uint8  \n",
      " 35  month_apr            45211 non-null  uint8  \n",
      " 36  month_aug            45211 non-null  uint8  \n",
      " 37  month_dec            45211 non-null  uint8  \n",
      " 38  month_feb            45211 non-null  uint8  \n",
      " 39  month_jan            45211 non-null  uint8  \n",
      " 40  month_jul            45211 non-null  uint8  \n",
      " 41  month_jun            45211 non-null  uint8  \n",
      " 42  month_mar            45211 non-null  uint8  \n",
      " 43  month_may            45211 non-null  uint8  \n",
      " 44  month_nov            45211 non-null  uint8  \n",
      " 45  month_oct            45211 non-null  uint8  \n",
      " 46  month_sep            45211 non-null  uint8  \n",
      " 47  poutcome_failure     45211 non-null  uint8  \n",
      " 48  poutcome_other       45211 non-null  uint8  \n",
      " 49  poutcome_success     45211 non-null  uint8  \n",
      " 50  poutcome_unknown     45211 non-null  uint8  \n",
      "dtypes: float64(4), int32(1), int64(2), uint8(44)\n",
      "memory usage: 4.1 MB\n"
     ]
    }
   ],
   "source": [
    "dummiesfinal.info()"
   ]
  },
  {
   "cell_type": "code",
   "execution_count": 139,
   "metadata": {},
   "outputs": [],
   "source": [
    "target = dummiesfinal.y\n",
    "predictor = dummiesfinal.drop(['y','education_secondary','education_primary','marital_married','job_unknown','job_unemployed','job_technician','job_services','job_self-employed','job_management','job_admin.','previous'], axis=1)"
   ]
  },
  {
   "cell_type": "code",
   "execution_count": 140,
   "metadata": {},
   "outputs": [],
   "source": [
    "target = np.array(target).T.reshape(-1,1)\n",
    "predictor = np.array(predictor)"
   ]
  },
  {
   "cell_type": "code",
   "execution_count": 141,
   "metadata": {},
   "outputs": [],
   "source": [
    "from sklearn.model_selection import train_test_split\n",
    "from matplotlib import pyplot as plt\n",
    "x_train, x_test, y_train, y_test = train_test_split(target,predictor, test_size=0.30)"
   ]
  },
  {
   "cell_type": "code",
   "execution_count": 142,
   "metadata": {},
   "outputs": [],
   "source": [
    "from sklearn.linear_model import LogisticRegression\n",
    "from sklearn.metrics import classification_report, confusion_matrix"
   ]
  },
  {
   "cell_type": "code",
   "execution_count": 143,
   "metadata": {},
   "outputs": [
    {
     "data": {
      "text/html": [
       "<table class=\"simpletable\">\n",
       "<caption>OLS Regression Results</caption>\n",
       "<tr>\n",
       "  <th>Dep. Variable:</th>            <td>y</td>        <th>  R-squared:         </th> <td>   0.285</td>\n",
       "</tr>\n",
       "<tr>\n",
       "  <th>Model:</th>                   <td>OLS</td>       <th>  Adj. R-squared:    </th> <td>   0.284</td>\n",
       "</tr>\n",
       "<tr>\n",
       "  <th>Method:</th>             <td>Least Squares</td>  <th>  F-statistic:       </th> <td>   380.9</td>\n",
       "</tr>\n",
       "<tr>\n",
       "  <th>Date:</th>             <td>Sun, 08 Nov 2020</td> <th>  Prob (F-statistic):</th>  <td>  0.00</td> \n",
       "</tr>\n",
       "<tr>\n",
       "  <th>Time:</th>                 <td>01:06:35</td>     <th>  Log-Likelihood:    </th> <td> -3637.4</td>\n",
       "</tr>\n",
       "<tr>\n",
       "  <th>No. Observations:</th>      <td> 31647</td>      <th>  AIC:               </th> <td>   7343.</td>\n",
       "</tr>\n",
       "<tr>\n",
       "  <th>Df Residuals:</th>          <td> 31613</td>      <th>  BIC:               </th> <td>   7627.</td>\n",
       "</tr>\n",
       "<tr>\n",
       "  <th>Df Model:</th>              <td>    33</td>      <th>                     </th>     <td> </td>   \n",
       "</tr>\n",
       "<tr>\n",
       "  <th>Covariance Type:</th>      <td>nonrobust</td>    <th>                     </th>     <td> </td>   \n",
       "</tr>\n",
       "</table>\n",
       "<table class=\"simpletable\">\n",
       "<tr>\n",
       "   <td></td>      <th>coef</th>     <th>std err</th>      <th>t</th>      <th>P>|t|</th>  <th>[0.025</th>    <th>0.975]</th>  \n",
       "</tr>\n",
       "<tr>\n",
       "  <th>x1</th>  <td> 1.055e-05</td> <td> 1.74e-06</td> <td>    6.077</td> <td> 0.000</td> <td> 7.15e-06</td> <td>  1.4e-05</td>\n",
       "</tr>\n",
       "<tr>\n",
       "  <th>x2</th>  <td>    0.0013</td> <td>    0.000</td> <td>    5.986</td> <td> 0.000</td> <td>    0.001</td> <td>    0.002</td>\n",
       "</tr>\n",
       "<tr>\n",
       "  <th>x3</th>  <td>    0.0007</td> <td> 9.77e-06</td> <td>   72.639</td> <td> 0.000</td> <td>    0.001</td> <td>    0.001</td>\n",
       "</tr>\n",
       "<tr>\n",
       "  <th>x4</th>  <td>   -0.0050</td> <td>    0.001</td> <td>   -4.318</td> <td> 0.000</td> <td>   -0.007</td> <td>   -0.003</td>\n",
       "</tr>\n",
       "<tr>\n",
       "  <th>x5</th>  <td>-4.646e-05</td> <td>  3.3e-05</td> <td>   -1.407</td> <td> 0.159</td> <td>   -0.000</td> <td> 1.82e-05</td>\n",
       "</tr>\n",
       "<tr>\n",
       "  <th>x6</th>  <td>    0.0191</td> <td>    0.005</td> <td>    3.879</td> <td> 0.000</td> <td>    0.009</td> <td>    0.029</td>\n",
       "</tr>\n",
       "<tr>\n",
       "  <th>x7</th>  <td>    0.0168</td> <td>    0.007</td> <td>    2.300</td> <td> 0.021</td> <td>    0.002</td> <td>    0.031</td>\n",
       "</tr>\n",
       "<tr>\n",
       "  <th>x8</th>  <td>    0.0410</td> <td>    0.003</td> <td>   13.761</td> <td> 0.000</td> <td>    0.035</td> <td>    0.047</td>\n",
       "</tr>\n",
       "<tr>\n",
       "  <th>x9</th>  <td>   -0.0051</td> <td>    0.003</td> <td>   -1.668</td> <td> 0.095</td> <td>   -0.011</td> <td>    0.001</td>\n",
       "</tr>\n",
       "<tr>\n",
       "  <th>x10</th> <td>    0.0288</td> <td>    0.003</td> <td>    9.389</td> <td> 0.000</td> <td>    0.023</td> <td>    0.035</td>\n",
       "</tr>\n",
       "<tr>\n",
       "  <th>x11</th> <td>    0.0071</td> <td>    0.003</td> <td>    2.123</td> <td> 0.034</td> <td>    0.001</td> <td>    0.014</td>\n",
       "</tr>\n",
       "<tr>\n",
       "  <th>x12</th> <td>   -0.0116</td> <td>    0.004</td> <td>   -2.801</td> <td> 0.005</td> <td>   -0.020</td> <td>   -0.003</td>\n",
       "</tr>\n",
       "<tr>\n",
       "  <th>x13</th> <td>   -0.0129</td> <td>    0.009</td> <td>   -1.481</td> <td> 0.138</td> <td>   -0.030</td> <td>    0.004</td>\n",
       "</tr>\n",
       "<tr>\n",
       "  <th>x14</th> <td>   -0.0157</td> <td>    0.010</td> <td>   -1.630</td> <td> 0.103</td> <td>   -0.035</td> <td>    0.003</td>\n",
       "</tr>\n",
       "<tr>\n",
       "  <th>x15</th> <td>    0.0238</td> <td>    0.007</td> <td>    3.251</td> <td> 0.001</td> <td>    0.009</td> <td>    0.038</td>\n",
       "</tr>\n",
       "<tr>\n",
       "  <th>x16</th> <td>    0.0744</td> <td>    0.011</td> <td>    6.707</td> <td> 0.000</td> <td>    0.053</td> <td>    0.096</td>\n",
       "</tr>\n",
       "<tr>\n",
       "  <th>x17</th> <td>    0.0164</td> <td>    0.005</td> <td>    3.306</td> <td> 0.001</td> <td>    0.007</td> <td>    0.026</td>\n",
       "</tr>\n",
       "<tr>\n",
       "  <th>x18</th> <td>    0.0210</td> <td>    0.004</td> <td>    5.750</td> <td> 0.000</td> <td>    0.014</td> <td>    0.028</td>\n",
       "</tr>\n",
       "<tr>\n",
       "  <th>x19</th> <td>    0.0151</td> <td>    0.004</td> <td>    4.090</td> <td> 0.000</td> <td>    0.008</td> <td>    0.022</td>\n",
       "</tr>\n",
       "<tr>\n",
       "  <th>x20</th> <td>    0.0025</td> <td>    0.008</td> <td>    0.324</td> <td> 0.746</td> <td>   -0.013</td> <td>    0.018</td>\n",
       "</tr>\n",
       "<tr>\n",
       "  <th>x21</th> <td>    0.0447</td> <td>    0.003</td> <td>   14.815</td> <td> 0.000</td> <td>    0.039</td> <td>    0.051</td>\n",
       "</tr>\n",
       "<tr>\n",
       "  <th>x22</th> <td>    0.0359</td> <td>    0.005</td> <td>    7.301</td> <td> 0.000</td> <td>    0.026</td> <td>    0.046</td>\n",
       "</tr>\n",
       "<tr>\n",
       "  <th>x23</th> <td>   -0.0446</td> <td>    0.004</td> <td>  -10.497</td> <td> 0.000</td> <td>   -0.053</td> <td>   -0.036</td>\n",
       "</tr>\n",
       "<tr>\n",
       "  <th>x24</th> <td>   -0.0291</td> <td>    0.006</td> <td>   -4.557</td> <td> 0.000</td> <td>   -0.042</td> <td>   -0.017</td>\n",
       "</tr>\n",
       "<tr>\n",
       "  <th>x25</th> <td>   -0.0913</td> <td>    0.005</td> <td>  -17.571</td> <td> 0.000</td> <td>   -0.101</td> <td>   -0.081</td>\n",
       "</tr>\n",
       "<tr>\n",
       "  <th>x26</th> <td>    0.1104</td> <td>    0.021</td> <td>    5.212</td> <td> 0.000</td> <td>    0.069</td> <td>    0.152</td>\n",
       "</tr>\n",
       "<tr>\n",
       "  <th>x27</th> <td>   -0.0418</td> <td>    0.007</td> <td>   -6.174</td> <td> 0.000</td> <td>   -0.055</td> <td>   -0.029</td>\n",
       "</tr>\n",
       "<tr>\n",
       "  <th>x28</th> <td>   -0.1429</td> <td>    0.009</td> <td>  -15.933</td> <td> 0.000</td> <td>   -0.160</td> <td>   -0.125</td>\n",
       "</tr>\n",
       "<tr>\n",
       "  <th>x29</th> <td>   -0.0955</td> <td>    0.005</td> <td>  -18.918</td> <td> 0.000</td> <td>   -0.105</td> <td>   -0.086</td>\n",
       "</tr>\n",
       "<tr>\n",
       "  <th>x30</th> <td>   -0.0100</td> <td>    0.006</td> <td>   -1.593</td> <td> 0.111</td> <td>   -0.022</td> <td>    0.002</td>\n",
       "</tr>\n",
       "<tr>\n",
       "  <th>x31</th> <td>    0.2382</td> <td>    0.014</td> <td>   17.347</td> <td> 0.000</td> <td>    0.211</td> <td>    0.265</td>\n",
       "</tr>\n",
       "<tr>\n",
       "  <th>x32</th> <td>   -0.0596</td> <td>    0.005</td> <td>  -12.429</td> <td> 0.000</td> <td>   -0.069</td> <td>   -0.050</td>\n",
       "</tr>\n",
       "<tr>\n",
       "  <th>x33</th> <td>   -0.1054</td> <td>    0.006</td> <td>  -18.323</td> <td> 0.000</td> <td>   -0.117</td> <td>   -0.094</td>\n",
       "</tr>\n",
       "<tr>\n",
       "  <th>x34</th> <td>    0.1283</td> <td>    0.011</td> <td>   11.258</td> <td> 0.000</td> <td>    0.106</td> <td>    0.151</td>\n",
       "</tr>\n",
       "<tr>\n",
       "  <th>x35</th> <td>    0.1347</td> <td>    0.013</td> <td>   10.532</td> <td> 0.000</td> <td>    0.110</td> <td>    0.160</td>\n",
       "</tr>\n",
       "<tr>\n",
       "  <th>x36</th> <td>   -0.0935</td> <td>    0.006</td> <td>  -16.563</td> <td> 0.000</td> <td>   -0.105</td> <td>   -0.082</td>\n",
       "</tr>\n",
       "<tr>\n",
       "  <th>x37</th> <td>   -0.0657</td> <td>    0.007</td> <td>   -9.325</td> <td> 0.000</td> <td>   -0.080</td> <td>   -0.052</td>\n",
       "</tr>\n",
       "<tr>\n",
       "  <th>x38</th> <td>    0.3059</td> <td>    0.007</td> <td>   43.309</td> <td> 0.000</td> <td>    0.292</td> <td>    0.320</td>\n",
       "</tr>\n",
       "<tr>\n",
       "  <th>x39</th> <td>   -0.1108</td> <td>    0.006</td> <td>  -19.160</td> <td> 0.000</td> <td>   -0.122</td> <td>   -0.099</td>\n",
       "</tr>\n",
       "</table>\n",
       "<table class=\"simpletable\">\n",
       "<tr>\n",
       "  <th>Omnibus:</th>       <td>8608.920</td> <th>  Durbin-Watson:     </th> <td>   1.995</td> \n",
       "</tr>\n",
       "<tr>\n",
       "  <th>Prob(Omnibus):</th>  <td> 0.000</td>  <th>  Jarque-Bera (JB):  </th> <td>22356.960</td>\n",
       "</tr>\n",
       "<tr>\n",
       "  <th>Skew:</th>           <td> 1.480</td>  <th>  Prob(JB):          </th> <td>    0.00</td> \n",
       "</tr>\n",
       "<tr>\n",
       "  <th>Kurtosis:</th>       <td> 5.862</td>  <th>  Cond. No.          </th> <td>1.01e+16</td> \n",
       "</tr>\n",
       "</table><br/><br/>Warnings:<br/>[1] Standard Errors assume that the covariance matrix of the errors is correctly specified.<br/>[2] The smallest eigenvalue is 4.89e-22. This might indicate that there are<br/>strong multicollinearity problems or that the design matrix is singular."
      ],
      "text/plain": [
       "<class 'statsmodels.iolib.summary.Summary'>\n",
       "\"\"\"\n",
       "                            OLS Regression Results                            \n",
       "==============================================================================\n",
       "Dep. Variable:                      y   R-squared:                       0.285\n",
       "Model:                            OLS   Adj. R-squared:                  0.284\n",
       "Method:                 Least Squares   F-statistic:                     380.9\n",
       "Date:                Sun, 08 Nov 2020   Prob (F-statistic):               0.00\n",
       "Time:                        01:06:35   Log-Likelihood:                -3637.4\n",
       "No. Observations:               31647   AIC:                             7343.\n",
       "Df Residuals:                   31613   BIC:                             7627.\n",
       "Df Model:                          33                                         \n",
       "Covariance Type:            nonrobust                                         \n",
       "==============================================================================\n",
       "                 coef    std err          t      P>|t|      [0.025      0.975]\n",
       "------------------------------------------------------------------------------\n",
       "x1          1.055e-05   1.74e-06      6.077      0.000    7.15e-06     1.4e-05\n",
       "x2             0.0013      0.000      5.986      0.000       0.001       0.002\n",
       "x3             0.0007   9.77e-06     72.639      0.000       0.001       0.001\n",
       "x4            -0.0050      0.001     -4.318      0.000      -0.007      -0.003\n",
       "x5         -4.646e-05    3.3e-05     -1.407      0.159      -0.000    1.82e-05\n",
       "x6             0.0191      0.005      3.879      0.000       0.009       0.029\n",
       "x7             0.0168      0.007      2.300      0.021       0.002       0.031\n",
       "x8             0.0410      0.003     13.761      0.000       0.035       0.047\n",
       "x9            -0.0051      0.003     -1.668      0.095      -0.011       0.001\n",
       "x10            0.0288      0.003      9.389      0.000       0.023       0.035\n",
       "x11            0.0071      0.003      2.123      0.034       0.001       0.014\n",
       "x12           -0.0116      0.004     -2.801      0.005      -0.020      -0.003\n",
       "x13           -0.0129      0.009     -1.481      0.138      -0.030       0.004\n",
       "x14           -0.0157      0.010     -1.630      0.103      -0.035       0.003\n",
       "x15            0.0238      0.007      3.251      0.001       0.009       0.038\n",
       "x16            0.0744      0.011      6.707      0.000       0.053       0.096\n",
       "x17            0.0164      0.005      3.306      0.001       0.007       0.026\n",
       "x18            0.0210      0.004      5.750      0.000       0.014       0.028\n",
       "x19            0.0151      0.004      4.090      0.000       0.008       0.022\n",
       "x20            0.0025      0.008      0.324      0.746      -0.013       0.018\n",
       "x21            0.0447      0.003     14.815      0.000       0.039       0.051\n",
       "x22            0.0359      0.005      7.301      0.000       0.026       0.046\n",
       "x23           -0.0446      0.004    -10.497      0.000      -0.053      -0.036\n",
       "x24           -0.0291      0.006     -4.557      0.000      -0.042      -0.017\n",
       "x25           -0.0913      0.005    -17.571      0.000      -0.101      -0.081\n",
       "x26            0.1104      0.021      5.212      0.000       0.069       0.152\n",
       "x27           -0.0418      0.007     -6.174      0.000      -0.055      -0.029\n",
       "x28           -0.1429      0.009    -15.933      0.000      -0.160      -0.125\n",
       "x29           -0.0955      0.005    -18.918      0.000      -0.105      -0.086\n",
       "x30           -0.0100      0.006     -1.593      0.111      -0.022       0.002\n",
       "x31            0.2382      0.014     17.347      0.000       0.211       0.265\n",
       "x32           -0.0596      0.005    -12.429      0.000      -0.069      -0.050\n",
       "x33           -0.1054      0.006    -18.323      0.000      -0.117      -0.094\n",
       "x34            0.1283      0.011     11.258      0.000       0.106       0.151\n",
       "x35            0.1347      0.013     10.532      0.000       0.110       0.160\n",
       "x36           -0.0935      0.006    -16.563      0.000      -0.105      -0.082\n",
       "x37           -0.0657      0.007     -9.325      0.000      -0.080      -0.052\n",
       "x38            0.3059      0.007     43.309      0.000       0.292       0.320\n",
       "x39           -0.1108      0.006    -19.160      0.000      -0.122      -0.099\n",
       "==============================================================================\n",
       "Omnibus:                     8608.920   Durbin-Watson:                   1.995\n",
       "Prob(Omnibus):                  0.000   Jarque-Bera (JB):            22356.960\n",
       "Skew:                           1.480   Prob(JB):                         0.00\n",
       "Kurtosis:                       5.862   Cond. No.                     1.01e+16\n",
       "==============================================================================\n",
       "\n",
       "Warnings:\n",
       "[1] Standard Errors assume that the covariance matrix of the errors is correctly specified.\n",
       "[2] The smallest eigenvalue is 4.89e-22. This might indicate that there are\n",
       "strong multicollinearity problems or that the design matrix is singular.\n",
       "\"\"\""
      ]
     },
     "execution_count": 143,
     "metadata": {},
     "output_type": "execute_result"
    }
   ],
   "source": [
    "import statsmodels.api as sm\n",
    "lm = sm.OLS(x_train,y_train).fit()\n",
    "lm.summary()"
   ]
  },
  {
   "cell_type": "code",
   "execution_count": 158,
   "metadata": {},
   "outputs": [],
   "source": [
    "final = lm.predict(y_test)\n",
    "prediction = list(map(round,final))"
   ]
  },
  {
   "cell_type": "code",
   "execution_count": 159,
   "metadata": {},
   "outputs": [],
   "source": [
    "cm = confusion_matrix(x_test, prediction)"
   ]
  },
  {
   "cell_type": "code",
   "execution_count": 160,
   "metadata": {},
   "outputs": [
    {
     "data": {
      "text/plain": [
       "array([[11813,   151],\n",
       "       [ 1281,   319]], dtype=int64)"
      ]
     },
     "execution_count": 160,
     "metadata": {},
     "output_type": "execute_result"
    }
   ],
   "source": [
    "cm"
   ]
  },
  {
   "cell_type": "code",
   "execution_count": 161,
   "metadata": {},
   "outputs": [],
   "source": [
    "from sklearn.metrics import accuracy_score"
   ]
  },
  {
   "cell_type": "code",
   "execution_count": 162,
   "metadata": {},
   "outputs": [],
   "source": [
    "accuracy = accuracy_score(x_test, prediction)"
   ]
  },
  {
   "cell_type": "code",
   "execution_count": 163,
   "metadata": {},
   "outputs": [
    {
     "data": {
      "text/plain": [
       "0.894426422884105"
      ]
     },
     "execution_count": 163,
     "metadata": {},
     "output_type": "execute_result"
    }
   ],
   "source": [
    "accuracy"
   ]
  },
  {
   "cell_type": "code",
   "execution_count": null,
   "metadata": {},
   "outputs": [],
   "source": []
  }
 ],
 "metadata": {
  "kernelspec": {
   "display_name": "Python 3",
   "language": "python",
   "name": "python3"
  },
  "language_info": {
   "codemirror_mode": {
    "name": "ipython",
    "version": 3
   },
   "file_extension": ".py",
   "mimetype": "text/x-python",
   "name": "python",
   "nbconvert_exporter": "python",
   "pygments_lexer": "ipython3",
   "version": "3.8.3"
  }
 },
 "nbformat": 4,
 "nbformat_minor": 4
}
